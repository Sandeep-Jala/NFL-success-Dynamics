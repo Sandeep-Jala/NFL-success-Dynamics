{
  "cells": [
    {
      "cell_type": "markdown",
      "metadata": {
        "id": "blWvcKaYBkqI"
      },
      "source": [
        "# Part 3 - Machine learning\n",
        "Team Members: Sandeep Jala, Konstantinos Sarinopoulos, Ishan Saksena"
      ]
    },
    {
      "cell_type": "markdown",
      "metadata": {
        "id": "ZxP0Z8AlB5VF"
      },
      "source": [
        "For Part 3, we are using a merged dataset related to NFL teams, combined with external factors. We have expanded our dataset from the year 2016 to cover the years 1999 to 2020. The primary aim is to develop a predictive model that can forecast the outcomes of NFL games.\n",
        "\n",
        "The method planned:\n",
        "\n",
        "Data Preprocessing: Cleaning and transforming the data to make it suitable for modeling. This includes handling missing values, encoding categorical variables, normalizing data, and potentially reducing dimensionality.\n",
        "\n",
        "Model Selection and Training: Evaluating different machine learning algorithms to find the most effective one for this prediction task. This might include simpler models like logistic regression as well as more complex ones like Random Forest, XGBoost, and ensemble methods.\n",
        "\n",
        "Model Evaluation and Tuning: Using cross-validation and various metrics (accuracy, precision, recall, F1-score) to assess the performance of the models. Tuning the hyperparameters to optimize the models further.\n"
      ]
    },
    {
      "cell_type": "markdown",
      "metadata": {
        "id": "PfHaTMLZCJ2e"
      },
      "source": [
        "## Preprocessing Data"
      ]
    },
    {
      "cell_type": "markdown",
      "metadata": {
        "id": "RECIzIODDMRo"
      },
      "source": [
        "Importing the packages to complete the machine learning analysis"
      ]
    },
    {
      "cell_type": "code",
      "execution_count": null,
      "metadata": {
        "id": "3Dd_EbcaBf-_"
      },
      "outputs": [],
      "source": [
        "import pandas as pd\n",
        "from sklearn.preprocessing import StandardScaler, OneHotEncoder\n",
        "from sklearn.compose import ColumnTransformer\n",
        "from sklearn.pipeline import Pipeline\n",
        "from sklearn.metrics import accuracy_score, precision_score, recall_score, f1_score\n",
        "from sklearn.ensemble import RandomForestClassifier, GradientBoostingClassifier, VotingClassifier, StackingClassifier\n",
        "from sklearn.model_selection import train_test_split, StratifiedKFold, cross_val_score\n",
        "from xgboost import XGBClassifier\n",
        "import lightgbm as lgb\n",
        "from sklearn.impute import SimpleImputer\n",
        "from sklearn.decomposition import PCA\n",
        "from sklearn.svm import SVC\n",
        "from sklearn.neighbors import KNeighborsClassifier\n",
        "from sklearn.linear_model import LogisticRegression\n",
        "from sklearn.base import BaseEstimator, TransformerMixin\n",
        "from sklearn.model_selection import GridSearchCV\n",
        "from sklearn.model_selection import RandomizedSearchCV"
      ]
    },
    {
      "cell_type": "markdown",
      "metadata": {
        "id": "BsBk-sQaJQt8"
      },
      "source": [
        "Loading, cleaning, andexploring the data"
      ]
    },
    {
      "cell_type": "code",
      "execution_count": null,
      "metadata": {
        "id": "tD7-bt3aCk8R"
      },
      "outputs": [],
      "source": [
        "data = pd.read_csv('/content/618_project_part2 (1).csv')"
      ]
    },
    {
      "cell_type": "code",
      "execution_count": null,
      "metadata": {
        "colab": {
          "base_uri": "https://localhost:8080/"
        },
        "id": "0jtZt7CECrfl",
        "outputId": "06b997ba-6bb8-4a99-e3c6-d52015d1ce1e"
      },
      "outputs": [
        {
          "data": {
            "text/plain": [
              "Index(['Unnamed: 0', 'Unnamed: 0.1', 'schedule_date', 'schedule_season',\n",
              "       'schedule_week', 'schedule_playoff', 'team_home', 'score_home',\n",
              "       'score_away', 'team_away', 'team_favorite_id', 'spread_favorite',\n",
              "       'over_under_line', 'stadium_x', 'stadium_neutral',\n",
              "       'weather_temperature', 'weather_wind_mph', 'game_id', 'season',\n",
              "       'game_type', 'week', 'weekday', 'gametime', 'away_score', 'home_score',\n",
              "       'home_result', 'location', 'roof', 'surface', 'old_game_id',\n",
              "       'total_score', 'home_win', 'away_win', 'upset_win', 'favorite_win',\n",
              "       'score_total', 'wind_speed_category', 'temperature_category',\n",
              "       'Temp_Cat', 'Wind_Cat'],\n",
              "      dtype='object')"
            ]
          },
          "execution_count": 113,
          "metadata": {},
          "output_type": "execute_result"
        }
      ],
      "source": [
        "data.columns"
      ]
    },
    {
      "cell_type": "code",
      "execution_count": null,
      "metadata": {
        "colab": {
          "base_uri": "https://localhost:8080/",
          "height": 273
        },
        "id": "HcBm7MCcDcL9",
        "outputId": "4756706e-9816-4e0a-e01f-6f603a80158f"
      },
      "outputs": [
        {
          "data": {
            "application/vnd.google.colaboratory.intrinsic+json": {
              "type": "dataframe",
              "variable_name": "data"
            },
            "text/html": [
              "\n",
              "  <div id=\"df-c90c9b8b-4aca-46d6-8adf-12946449ee78\" class=\"colab-df-container\">\n",
              "    <div>\n",
              "<style scoped>\n",
              "    .dataframe tbody tr th:only-of-type {\n",
              "        vertical-align: middle;\n",
              "    }\n",
              "\n",
              "    .dataframe tbody tr th {\n",
              "        vertical-align: top;\n",
              "    }\n",
              "\n",
              "    .dataframe thead th {\n",
              "        text-align: right;\n",
              "    }\n",
              "</style>\n",
              "<table border=\"1\" class=\"dataframe\">\n",
              "  <thead>\n",
              "    <tr style=\"text-align: right;\">\n",
              "      <th></th>\n",
              "      <th>Unnamed: 0</th>\n",
              "      <th>Unnamed: 0.1</th>\n",
              "      <th>schedule_date</th>\n",
              "      <th>schedule_season</th>\n",
              "      <th>schedule_week</th>\n",
              "      <th>schedule_playoff</th>\n",
              "      <th>team_home</th>\n",
              "      <th>score_home</th>\n",
              "      <th>score_away</th>\n",
              "      <th>team_away</th>\n",
              "      <th>...</th>\n",
              "      <th>total_score</th>\n",
              "      <th>home_win</th>\n",
              "      <th>away_win</th>\n",
              "      <th>upset_win</th>\n",
              "      <th>favorite_win</th>\n",
              "      <th>score_total</th>\n",
              "      <th>wind_speed_category</th>\n",
              "      <th>temperature_category</th>\n",
              "      <th>Temp_Cat</th>\n",
              "      <th>Wind_Cat</th>\n",
              "    </tr>\n",
              "  </thead>\n",
              "  <tbody>\n",
              "    <tr>\n",
              "      <th>0</th>\n",
              "      <td>0</td>\n",
              "      <td>0</td>\n",
              "      <td>1999-09-12</td>\n",
              "      <td>1999</td>\n",
              "      <td>1</td>\n",
              "      <td>False</td>\n",
              "      <td>ATL</td>\n",
              "      <td>14</td>\n",
              "      <td>17</td>\n",
              "      <td>MIN</td>\n",
              "      <td>...</td>\n",
              "      <td>31</td>\n",
              "      <td>False</td>\n",
              "      <td>True</td>\n",
              "      <td>False</td>\n",
              "      <td>True</td>\n",
              "      <td>31</td>\n",
              "      <td>1</td>\n",
              "      <td>4</td>\n",
              "      <td>60-80</td>\n",
              "      <td>0</td>\n",
              "    </tr>\n",
              "    <tr>\n",
              "      <th>1</th>\n",
              "      <td>1</td>\n",
              "      <td>1</td>\n",
              "      <td>1999-09-12</td>\n",
              "      <td>1999</td>\n",
              "      <td>1</td>\n",
              "      <td>False</td>\n",
              "      <td>CHI</td>\n",
              "      <td>20</td>\n",
              "      <td>17</td>\n",
              "      <td>KC</td>\n",
              "      <td>...</td>\n",
              "      <td>37</td>\n",
              "      <td>True</td>\n",
              "      <td>False</td>\n",
              "      <td>True</td>\n",
              "      <td>False</td>\n",
              "      <td>37</td>\n",
              "      <td>2</td>\n",
              "      <td>3</td>\n",
              "      <td>60-80</td>\n",
              "      <td>5-10</td>\n",
              "    </tr>\n",
              "    <tr>\n",
              "      <th>2</th>\n",
              "      <td>2</td>\n",
              "      <td>2</td>\n",
              "      <td>1999-09-12</td>\n",
              "      <td>1999</td>\n",
              "      <td>1</td>\n",
              "      <td>False</td>\n",
              "      <td>CLE</td>\n",
              "      <td>0</td>\n",
              "      <td>43</td>\n",
              "      <td>PIT</td>\n",
              "      <td>...</td>\n",
              "      <td>43</td>\n",
              "      <td>False</td>\n",
              "      <td>True</td>\n",
              "      <td>False</td>\n",
              "      <td>True</td>\n",
              "      <td>43</td>\n",
              "      <td>2</td>\n",
              "      <td>4</td>\n",
              "      <td>60-80</td>\n",
              "      <td>5-10</td>\n",
              "    </tr>\n",
              "    <tr>\n",
              "      <th>3</th>\n",
              "      <td>3</td>\n",
              "      <td>3</td>\n",
              "      <td>1999-09-12</td>\n",
              "      <td>1999</td>\n",
              "      <td>1</td>\n",
              "      <td>False</td>\n",
              "      <td>GB</td>\n",
              "      <td>28</td>\n",
              "      <td>24</td>\n",
              "      <td>OAK</td>\n",
              "      <td>...</td>\n",
              "      <td>52</td>\n",
              "      <td>True</td>\n",
              "      <td>False</td>\n",
              "      <td>False</td>\n",
              "      <td>True</td>\n",
              "      <td>52</td>\n",
              "      <td>2</td>\n",
              "      <td>3</td>\n",
              "      <td>60-80</td>\n",
              "      <td>5-10</td>\n",
              "    </tr>\n",
              "    <tr>\n",
              "      <th>4</th>\n",
              "      <td>4</td>\n",
              "      <td>4</td>\n",
              "      <td>1999-09-12</td>\n",
              "      <td>1999</td>\n",
              "      <td>1</td>\n",
              "      <td>False</td>\n",
              "      <td>IND</td>\n",
              "      <td>31</td>\n",
              "      <td>14</td>\n",
              "      <td>BUF</td>\n",
              "      <td>...</td>\n",
              "      <td>45</td>\n",
              "      <td>True</td>\n",
              "      <td>False</td>\n",
              "      <td>True</td>\n",
              "      <td>False</td>\n",
              "      <td>45</td>\n",
              "      <td>1</td>\n",
              "      <td>4</td>\n",
              "      <td>60-80</td>\n",
              "      <td>0</td>\n",
              "    </tr>\n",
              "  </tbody>\n",
              "</table>\n",
              "<p>5 rows × 40 columns</p>\n",
              "</div>\n",
              "    <div class=\"colab-df-buttons\">\n",
              "\n",
              "  <div class=\"colab-df-container\">\n",
              "    <button class=\"colab-df-convert\" onclick=\"convertToInteractive('df-c90c9b8b-4aca-46d6-8adf-12946449ee78')\"\n",
              "            title=\"Convert this dataframe to an interactive table.\"\n",
              "            style=\"display:none;\">\n",
              "\n",
              "  <svg xmlns=\"http://www.w3.org/2000/svg\" height=\"24px\" viewBox=\"0 -960 960 960\">\n",
              "    <path d=\"M120-120v-720h720v720H120Zm60-500h600v-160H180v160Zm220 220h160v-160H400v160Zm0 220h160v-160H400v160ZM180-400h160v-160H180v160Zm440 0h160v-160H620v160ZM180-180h160v-160H180v160Zm440 0h160v-160H620v160Z\"/>\n",
              "  </svg>\n",
              "    </button>\n",
              "\n",
              "  <style>\n",
              "    .colab-df-container {\n",
              "      display:flex;\n",
              "      gap: 12px;\n",
              "    }\n",
              "\n",
              "    .colab-df-convert {\n",
              "      background-color: #E8F0FE;\n",
              "      border: none;\n",
              "      border-radius: 50%;\n",
              "      cursor: pointer;\n",
              "      display: none;\n",
              "      fill: #1967D2;\n",
              "      height: 32px;\n",
              "      padding: 0 0 0 0;\n",
              "      width: 32px;\n",
              "    }\n",
              "\n",
              "    .colab-df-convert:hover {\n",
              "      background-color: #E2EBFA;\n",
              "      box-shadow: 0px 1px 2px rgba(60, 64, 67, 0.3), 0px 1px 3px 1px rgba(60, 64, 67, 0.15);\n",
              "      fill: #174EA6;\n",
              "    }\n",
              "\n",
              "    .colab-df-buttons div {\n",
              "      margin-bottom: 4px;\n",
              "    }\n",
              "\n",
              "    [theme=dark] .colab-df-convert {\n",
              "      background-color: #3B4455;\n",
              "      fill: #D2E3FC;\n",
              "    }\n",
              "\n",
              "    [theme=dark] .colab-df-convert:hover {\n",
              "      background-color: #434B5C;\n",
              "      box-shadow: 0px 1px 3px 1px rgba(0, 0, 0, 0.15);\n",
              "      filter: drop-shadow(0px 1px 2px rgba(0, 0, 0, 0.3));\n",
              "      fill: #FFFFFF;\n",
              "    }\n",
              "  </style>\n",
              "\n",
              "    <script>\n",
              "      const buttonEl =\n",
              "        document.querySelector('#df-c90c9b8b-4aca-46d6-8adf-12946449ee78 button.colab-df-convert');\n",
              "      buttonEl.style.display =\n",
              "        google.colab.kernel.accessAllowed ? 'block' : 'none';\n",
              "\n",
              "      async function convertToInteractive(key) {\n",
              "        const element = document.querySelector('#df-c90c9b8b-4aca-46d6-8adf-12946449ee78');\n",
              "        const dataTable =\n",
              "          await google.colab.kernel.invokeFunction('convertToInteractive',\n",
              "                                                    [key], {});\n",
              "        if (!dataTable) return;\n",
              "\n",
              "        const docLinkHtml = 'Like what you see? Visit the ' +\n",
              "          '<a target=\"_blank\" href=https://colab.research.google.com/notebooks/data_table.ipynb>data table notebook</a>'\n",
              "          + ' to learn more about interactive tables.';\n",
              "        element.innerHTML = '';\n",
              "        dataTable['output_type'] = 'display_data';\n",
              "        await google.colab.output.renderOutput(dataTable, element);\n",
              "        const docLink = document.createElement('div');\n",
              "        docLink.innerHTML = docLinkHtml;\n",
              "        element.appendChild(docLink);\n",
              "      }\n",
              "    </script>\n",
              "  </div>\n",
              "\n",
              "\n",
              "<div id=\"df-ee709c11-02b0-42f2-89ee-856ae1d53192\">\n",
              "  <button class=\"colab-df-quickchart\" onclick=\"quickchart('df-ee709c11-02b0-42f2-89ee-856ae1d53192')\"\n",
              "            title=\"Suggest charts\"\n",
              "            style=\"display:none;\">\n",
              "\n",
              "<svg xmlns=\"http://www.w3.org/2000/svg\" height=\"24px\"viewBox=\"0 0 24 24\"\n",
              "     width=\"24px\">\n",
              "    <g>\n",
              "        <path d=\"M19 3H5c-1.1 0-2 .9-2 2v14c0 1.1.9 2 2 2h14c1.1 0 2-.9 2-2V5c0-1.1-.9-2-2-2zM9 17H7v-7h2v7zm4 0h-2V7h2v10zm4 0h-2v-4h2v4z\"/>\n",
              "    </g>\n",
              "</svg>\n",
              "  </button>\n",
              "\n",
              "<style>\n",
              "  .colab-df-quickchart {\n",
              "      --bg-color: #E8F0FE;\n",
              "      --fill-color: #1967D2;\n",
              "      --hover-bg-color: #E2EBFA;\n",
              "      --hover-fill-color: #174EA6;\n",
              "      --disabled-fill-color: #AAA;\n",
              "      --disabled-bg-color: #DDD;\n",
              "  }\n",
              "\n",
              "  [theme=dark] .colab-df-quickchart {\n",
              "      --bg-color: #3B4455;\n",
              "      --fill-color: #D2E3FC;\n",
              "      --hover-bg-color: #434B5C;\n",
              "      --hover-fill-color: #FFFFFF;\n",
              "      --disabled-bg-color: #3B4455;\n",
              "      --disabled-fill-color: #666;\n",
              "  }\n",
              "\n",
              "  .colab-df-quickchart {\n",
              "    background-color: var(--bg-color);\n",
              "    border: none;\n",
              "    border-radius: 50%;\n",
              "    cursor: pointer;\n",
              "    display: none;\n",
              "    fill: var(--fill-color);\n",
              "    height: 32px;\n",
              "    padding: 0;\n",
              "    width: 32px;\n",
              "  }\n",
              "\n",
              "  .colab-df-quickchart:hover {\n",
              "    background-color: var(--hover-bg-color);\n",
              "    box-shadow: 0 1px 2px rgba(60, 64, 67, 0.3), 0 1px 3px 1px rgba(60, 64, 67, 0.15);\n",
              "    fill: var(--button-hover-fill-color);\n",
              "  }\n",
              "\n",
              "  .colab-df-quickchart-complete:disabled,\n",
              "  .colab-df-quickchart-complete:disabled:hover {\n",
              "    background-color: var(--disabled-bg-color);\n",
              "    fill: var(--disabled-fill-color);\n",
              "    box-shadow: none;\n",
              "  }\n",
              "\n",
              "  .colab-df-spinner {\n",
              "    border: 2px solid var(--fill-color);\n",
              "    border-color: transparent;\n",
              "    border-bottom-color: var(--fill-color);\n",
              "    animation:\n",
              "      spin 1s steps(1) infinite;\n",
              "  }\n",
              "\n",
              "  @keyframes spin {\n",
              "    0% {\n",
              "      border-color: transparent;\n",
              "      border-bottom-color: var(--fill-color);\n",
              "      border-left-color: var(--fill-color);\n",
              "    }\n",
              "    20% {\n",
              "      border-color: transparent;\n",
              "      border-left-color: var(--fill-color);\n",
              "      border-top-color: var(--fill-color);\n",
              "    }\n",
              "    30% {\n",
              "      border-color: transparent;\n",
              "      border-left-color: var(--fill-color);\n",
              "      border-top-color: var(--fill-color);\n",
              "      border-right-color: var(--fill-color);\n",
              "    }\n",
              "    40% {\n",
              "      border-color: transparent;\n",
              "      border-right-color: var(--fill-color);\n",
              "      border-top-color: var(--fill-color);\n",
              "    }\n",
              "    60% {\n",
              "      border-color: transparent;\n",
              "      border-right-color: var(--fill-color);\n",
              "    }\n",
              "    80% {\n",
              "      border-color: transparent;\n",
              "      border-right-color: var(--fill-color);\n",
              "      border-bottom-color: var(--fill-color);\n",
              "    }\n",
              "    90% {\n",
              "      border-color: transparent;\n",
              "      border-bottom-color: var(--fill-color);\n",
              "    }\n",
              "  }\n",
              "</style>\n",
              "\n",
              "  <script>\n",
              "    async function quickchart(key) {\n",
              "      const quickchartButtonEl =\n",
              "        document.querySelector('#' + key + ' button');\n",
              "      quickchartButtonEl.disabled = true;  // To prevent multiple clicks.\n",
              "      quickchartButtonEl.classList.add('colab-df-spinner');\n",
              "      try {\n",
              "        const charts = await google.colab.kernel.invokeFunction(\n",
              "            'suggestCharts', [key], {});\n",
              "      } catch (error) {\n",
              "        console.error('Error during call to suggestCharts:', error);\n",
              "      }\n",
              "      quickchartButtonEl.classList.remove('colab-df-spinner');\n",
              "      quickchartButtonEl.classList.add('colab-df-quickchart-complete');\n",
              "    }\n",
              "    (() => {\n",
              "      let quickchartButtonEl =\n",
              "        document.querySelector('#df-ee709c11-02b0-42f2-89ee-856ae1d53192 button');\n",
              "      quickchartButtonEl.style.display =\n",
              "        google.colab.kernel.accessAllowed ? 'block' : 'none';\n",
              "    })();\n",
              "  </script>\n",
              "</div>\n",
              "    </div>\n",
              "  </div>\n"
            ],
            "text/plain": [
              "   Unnamed: 0  Unnamed: 0.1 schedule_date  schedule_season schedule_week  \\\n",
              "0           0             0    1999-09-12             1999             1   \n",
              "1           1             1    1999-09-12             1999             1   \n",
              "2           2             2    1999-09-12             1999             1   \n",
              "3           3             3    1999-09-12             1999             1   \n",
              "4           4             4    1999-09-12             1999             1   \n",
              "\n",
              "   schedule_playoff team_home  score_home  score_away team_away  ...  \\\n",
              "0             False       ATL          14          17       MIN  ...   \n",
              "1             False       CHI          20          17        KC  ...   \n",
              "2             False       CLE           0          43       PIT  ...   \n",
              "3             False        GB          28          24       OAK  ...   \n",
              "4             False       IND          31          14       BUF  ...   \n",
              "\n",
              "  total_score  home_win  away_win upset_win  favorite_win  score_total  \\\n",
              "0          31     False      True     False          True           31   \n",
              "1          37      True     False      True         False           37   \n",
              "2          43     False      True     False          True           43   \n",
              "3          52      True     False     False          True           52   \n",
              "4          45      True     False      True         False           45   \n",
              "\n",
              "   wind_speed_category temperature_category  Temp_Cat Wind_Cat  \n",
              "0                    1                    4     60-80        0  \n",
              "1                    2                    3     60-80     5-10  \n",
              "2                    2                    4     60-80     5-10  \n",
              "3                    2                    3     60-80     5-10  \n",
              "4                    1                    4     60-80        0  \n",
              "\n",
              "[5 rows x 40 columns]"
            ]
          },
          "execution_count": 114,
          "metadata": {},
          "output_type": "execute_result"
        }
      ],
      "source": [
        "data.head()"
      ]
    },
    {
      "cell_type": "code",
      "execution_count": null,
      "metadata": {
        "id": "M-H_ReZcDjFu"
      },
      "outputs": [],
      "source": [
        "# Remove unnecessary columns and direct giveaway features\n",
        "features_to_drop = ['Unnamed: 0', 'Unnamed: 0.1', 'score_home', 'score_away', 'away_win',\n",
        "                   'favorite_win', 'home_result', 'total_score', 'score_total', 'schedule_date',\n",
        "                   'schedule_playoff', 'game_id', 'old_game_id', 'upset_win', 'home_score', 'away_score','wind_speed_category', 'temperature_category']\n",
        "data.drop(columns=features_to_drop, inplace= True)"
      ]
    },
    {
      "cell_type": "code",
      "execution_count": null,
      "metadata": {
        "colab": {
          "base_uri": "https://localhost:8080/",
          "height": 325
        },
        "id": "kRZAKnJJEF4r",
        "outputId": "b1a9999b-782b-4d06-9bbc-9d5cf9209ff1"
      },
      "outputs": [
        {
          "data": {
            "application/vnd.google.colaboratory.intrinsic+json": {
              "type": "dataframe",
              "variable_name": "data"
            },
            "text/html": [
              "\n",
              "  <div id=\"df-ddceaf79-5b85-4a49-8d55-6d069f29a6da\" class=\"colab-df-container\">\n",
              "    <div>\n",
              "<style scoped>\n",
              "    .dataframe tbody tr th:only-of-type {\n",
              "        vertical-align: middle;\n",
              "    }\n",
              "\n",
              "    .dataframe tbody tr th {\n",
              "        vertical-align: top;\n",
              "    }\n",
              "\n",
              "    .dataframe thead th {\n",
              "        text-align: right;\n",
              "    }\n",
              "</style>\n",
              "<table border=\"1\" class=\"dataframe\">\n",
              "  <thead>\n",
              "    <tr style=\"text-align: right;\">\n",
              "      <th></th>\n",
              "      <th>schedule_season</th>\n",
              "      <th>schedule_week</th>\n",
              "      <th>team_home</th>\n",
              "      <th>team_away</th>\n",
              "      <th>team_favorite_id</th>\n",
              "      <th>spread_favorite</th>\n",
              "      <th>over_under_line</th>\n",
              "      <th>stadium_x</th>\n",
              "      <th>stadium_neutral</th>\n",
              "      <th>weather_temperature</th>\n",
              "      <th>...</th>\n",
              "      <th>game_type</th>\n",
              "      <th>week</th>\n",
              "      <th>weekday</th>\n",
              "      <th>gametime</th>\n",
              "      <th>location</th>\n",
              "      <th>roof</th>\n",
              "      <th>surface</th>\n",
              "      <th>home_win</th>\n",
              "      <th>Temp_Cat</th>\n",
              "      <th>Wind_Cat</th>\n",
              "    </tr>\n",
              "  </thead>\n",
              "  <tbody>\n",
              "    <tr>\n",
              "      <th>0</th>\n",
              "      <td>1999</td>\n",
              "      <td>1</td>\n",
              "      <td>ATL</td>\n",
              "      <td>MIN</td>\n",
              "      <td>MIN</td>\n",
              "      <td>-4.0</td>\n",
              "      <td>49.0</td>\n",
              "      <td>Georgia Dome</td>\n",
              "      <td>False</td>\n",
              "      <td>72.0</td>\n",
              "      <td>...</td>\n",
              "      <td>REG</td>\n",
              "      <td>1</td>\n",
              "      <td>Sunday</td>\n",
              "      <td>NaN</td>\n",
              "      <td>Home</td>\n",
              "      <td>dome</td>\n",
              "      <td>astroturf</td>\n",
              "      <td>False</td>\n",
              "      <td>60-80</td>\n",
              "      <td>0</td>\n",
              "    </tr>\n",
              "    <tr>\n",
              "      <th>1</th>\n",
              "      <td>1999</td>\n",
              "      <td>1</td>\n",
              "      <td>CHI</td>\n",
              "      <td>KC</td>\n",
              "      <td>KC</td>\n",
              "      <td>-3.0</td>\n",
              "      <td>38.0</td>\n",
              "      <td>Soldier Field</td>\n",
              "      <td>False</td>\n",
              "      <td>68.0</td>\n",
              "      <td>...</td>\n",
              "      <td>REG</td>\n",
              "      <td>1</td>\n",
              "      <td>Sunday</td>\n",
              "      <td>NaN</td>\n",
              "      <td>Home</td>\n",
              "      <td>outdoors</td>\n",
              "      <td>grass</td>\n",
              "      <td>True</td>\n",
              "      <td>60-80</td>\n",
              "      <td>5-10</td>\n",
              "    </tr>\n",
              "    <tr>\n",
              "      <th>2</th>\n",
              "      <td>1999</td>\n",
              "      <td>1</td>\n",
              "      <td>CLE</td>\n",
              "      <td>PIT</td>\n",
              "      <td>PIT</td>\n",
              "      <td>-6.0</td>\n",
              "      <td>37.0</td>\n",
              "      <td>FirstEnergy Stadium</td>\n",
              "      <td>False</td>\n",
              "      <td>70.0</td>\n",
              "      <td>...</td>\n",
              "      <td>REG</td>\n",
              "      <td>1</td>\n",
              "      <td>Sunday</td>\n",
              "      <td>NaN</td>\n",
              "      <td>Home</td>\n",
              "      <td>outdoors</td>\n",
              "      <td>grass</td>\n",
              "      <td>False</td>\n",
              "      <td>60-80</td>\n",
              "      <td>5-10</td>\n",
              "    </tr>\n",
              "    <tr>\n",
              "      <th>3</th>\n",
              "      <td>1999</td>\n",
              "      <td>1</td>\n",
              "      <td>GB</td>\n",
              "      <td>OAK</td>\n",
              "      <td>GB</td>\n",
              "      <td>-9.0</td>\n",
              "      <td>43.0</td>\n",
              "      <td>Lambeau Field</td>\n",
              "      <td>False</td>\n",
              "      <td>61.0</td>\n",
              "      <td>...</td>\n",
              "      <td>REG</td>\n",
              "      <td>1</td>\n",
              "      <td>Sunday</td>\n",
              "      <td>NaN</td>\n",
              "      <td>Home</td>\n",
              "      <td>outdoors</td>\n",
              "      <td>grass</td>\n",
              "      <td>True</td>\n",
              "      <td>60-80</td>\n",
              "      <td>5-10</td>\n",
              "    </tr>\n",
              "    <tr>\n",
              "      <th>4</th>\n",
              "      <td>1999</td>\n",
              "      <td>1</td>\n",
              "      <td>IND</td>\n",
              "      <td>BUF</td>\n",
              "      <td>BUF</td>\n",
              "      <td>-3.0</td>\n",
              "      <td>45.5</td>\n",
              "      <td>RCA Dome</td>\n",
              "      <td>False</td>\n",
              "      <td>72.0</td>\n",
              "      <td>...</td>\n",
              "      <td>REG</td>\n",
              "      <td>1</td>\n",
              "      <td>Sunday</td>\n",
              "      <td>NaN</td>\n",
              "      <td>Home</td>\n",
              "      <td>dome</td>\n",
              "      <td>astroturf</td>\n",
              "      <td>True</td>\n",
              "      <td>60-80</td>\n",
              "      <td>0</td>\n",
              "    </tr>\n",
              "  </tbody>\n",
              "</table>\n",
              "<p>5 rows × 22 columns</p>\n",
              "</div>\n",
              "    <div class=\"colab-df-buttons\">\n",
              "\n",
              "  <div class=\"colab-df-container\">\n",
              "    <button class=\"colab-df-convert\" onclick=\"convertToInteractive('df-ddceaf79-5b85-4a49-8d55-6d069f29a6da')\"\n",
              "            title=\"Convert this dataframe to an interactive table.\"\n",
              "            style=\"display:none;\">\n",
              "\n",
              "  <svg xmlns=\"http://www.w3.org/2000/svg\" height=\"24px\" viewBox=\"0 -960 960 960\">\n",
              "    <path d=\"M120-120v-720h720v720H120Zm60-500h600v-160H180v160Zm220 220h160v-160H400v160Zm0 220h160v-160H400v160ZM180-400h160v-160H180v160Zm440 0h160v-160H620v160ZM180-180h160v-160H180v160Zm440 0h160v-160H620v160Z\"/>\n",
              "  </svg>\n",
              "    </button>\n",
              "\n",
              "  <style>\n",
              "    .colab-df-container {\n",
              "      display:flex;\n",
              "      gap: 12px;\n",
              "    }\n",
              "\n",
              "    .colab-df-convert {\n",
              "      background-color: #E8F0FE;\n",
              "      border: none;\n",
              "      border-radius: 50%;\n",
              "      cursor: pointer;\n",
              "      display: none;\n",
              "      fill: #1967D2;\n",
              "      height: 32px;\n",
              "      padding: 0 0 0 0;\n",
              "      width: 32px;\n",
              "    }\n",
              "\n",
              "    .colab-df-convert:hover {\n",
              "      background-color: #E2EBFA;\n",
              "      box-shadow: 0px 1px 2px rgba(60, 64, 67, 0.3), 0px 1px 3px 1px rgba(60, 64, 67, 0.15);\n",
              "      fill: #174EA6;\n",
              "    }\n",
              "\n",
              "    .colab-df-buttons div {\n",
              "      margin-bottom: 4px;\n",
              "    }\n",
              "\n",
              "    [theme=dark] .colab-df-convert {\n",
              "      background-color: #3B4455;\n",
              "      fill: #D2E3FC;\n",
              "    }\n",
              "\n",
              "    [theme=dark] .colab-df-convert:hover {\n",
              "      background-color: #434B5C;\n",
              "      box-shadow: 0px 1px 3px 1px rgba(0, 0, 0, 0.15);\n",
              "      filter: drop-shadow(0px 1px 2px rgba(0, 0, 0, 0.3));\n",
              "      fill: #FFFFFF;\n",
              "    }\n",
              "  </style>\n",
              "\n",
              "    <script>\n",
              "      const buttonEl =\n",
              "        document.querySelector('#df-ddceaf79-5b85-4a49-8d55-6d069f29a6da button.colab-df-convert');\n",
              "      buttonEl.style.display =\n",
              "        google.colab.kernel.accessAllowed ? 'block' : 'none';\n",
              "\n",
              "      async function convertToInteractive(key) {\n",
              "        const element = document.querySelector('#df-ddceaf79-5b85-4a49-8d55-6d069f29a6da');\n",
              "        const dataTable =\n",
              "          await google.colab.kernel.invokeFunction('convertToInteractive',\n",
              "                                                    [key], {});\n",
              "        if (!dataTable) return;\n",
              "\n",
              "        const docLinkHtml = 'Like what you see? Visit the ' +\n",
              "          '<a target=\"_blank\" href=https://colab.research.google.com/notebooks/data_table.ipynb>data table notebook</a>'\n",
              "          + ' to learn more about interactive tables.';\n",
              "        element.innerHTML = '';\n",
              "        dataTable['output_type'] = 'display_data';\n",
              "        await google.colab.output.renderOutput(dataTable, element);\n",
              "        const docLink = document.createElement('div');\n",
              "        docLink.innerHTML = docLinkHtml;\n",
              "        element.appendChild(docLink);\n",
              "      }\n",
              "    </script>\n",
              "  </div>\n",
              "\n",
              "\n",
              "<div id=\"df-9f3c3a24-5c53-4976-bcb8-39a229afce47\">\n",
              "  <button class=\"colab-df-quickchart\" onclick=\"quickchart('df-9f3c3a24-5c53-4976-bcb8-39a229afce47')\"\n",
              "            title=\"Suggest charts\"\n",
              "            style=\"display:none;\">\n",
              "\n",
              "<svg xmlns=\"http://www.w3.org/2000/svg\" height=\"24px\"viewBox=\"0 0 24 24\"\n",
              "     width=\"24px\">\n",
              "    <g>\n",
              "        <path d=\"M19 3H5c-1.1 0-2 .9-2 2v14c0 1.1.9 2 2 2h14c1.1 0 2-.9 2-2V5c0-1.1-.9-2-2-2zM9 17H7v-7h2v7zm4 0h-2V7h2v10zm4 0h-2v-4h2v4z\"/>\n",
              "    </g>\n",
              "</svg>\n",
              "  </button>\n",
              "\n",
              "<style>\n",
              "  .colab-df-quickchart {\n",
              "      --bg-color: #E8F0FE;\n",
              "      --fill-color: #1967D2;\n",
              "      --hover-bg-color: #E2EBFA;\n",
              "      --hover-fill-color: #174EA6;\n",
              "      --disabled-fill-color: #AAA;\n",
              "      --disabled-bg-color: #DDD;\n",
              "  }\n",
              "\n",
              "  [theme=dark] .colab-df-quickchart {\n",
              "      --bg-color: #3B4455;\n",
              "      --fill-color: #D2E3FC;\n",
              "      --hover-bg-color: #434B5C;\n",
              "      --hover-fill-color: #FFFFFF;\n",
              "      --disabled-bg-color: #3B4455;\n",
              "      --disabled-fill-color: #666;\n",
              "  }\n",
              "\n",
              "  .colab-df-quickchart {\n",
              "    background-color: var(--bg-color);\n",
              "    border: none;\n",
              "    border-radius: 50%;\n",
              "    cursor: pointer;\n",
              "    display: none;\n",
              "    fill: var(--fill-color);\n",
              "    height: 32px;\n",
              "    padding: 0;\n",
              "    width: 32px;\n",
              "  }\n",
              "\n",
              "  .colab-df-quickchart:hover {\n",
              "    background-color: var(--hover-bg-color);\n",
              "    box-shadow: 0 1px 2px rgba(60, 64, 67, 0.3), 0 1px 3px 1px rgba(60, 64, 67, 0.15);\n",
              "    fill: var(--button-hover-fill-color);\n",
              "  }\n",
              "\n",
              "  .colab-df-quickchart-complete:disabled,\n",
              "  .colab-df-quickchart-complete:disabled:hover {\n",
              "    background-color: var(--disabled-bg-color);\n",
              "    fill: var(--disabled-fill-color);\n",
              "    box-shadow: none;\n",
              "  }\n",
              "\n",
              "  .colab-df-spinner {\n",
              "    border: 2px solid var(--fill-color);\n",
              "    border-color: transparent;\n",
              "    border-bottom-color: var(--fill-color);\n",
              "    animation:\n",
              "      spin 1s steps(1) infinite;\n",
              "  }\n",
              "\n",
              "  @keyframes spin {\n",
              "    0% {\n",
              "      border-color: transparent;\n",
              "      border-bottom-color: var(--fill-color);\n",
              "      border-left-color: var(--fill-color);\n",
              "    }\n",
              "    20% {\n",
              "      border-color: transparent;\n",
              "      border-left-color: var(--fill-color);\n",
              "      border-top-color: var(--fill-color);\n",
              "    }\n",
              "    30% {\n",
              "      border-color: transparent;\n",
              "      border-left-color: var(--fill-color);\n",
              "      border-top-color: var(--fill-color);\n",
              "      border-right-color: var(--fill-color);\n",
              "    }\n",
              "    40% {\n",
              "      border-color: transparent;\n",
              "      border-right-color: var(--fill-color);\n",
              "      border-top-color: var(--fill-color);\n",
              "    }\n",
              "    60% {\n",
              "      border-color: transparent;\n",
              "      border-right-color: var(--fill-color);\n",
              "    }\n",
              "    80% {\n",
              "      border-color: transparent;\n",
              "      border-right-color: var(--fill-color);\n",
              "      border-bottom-color: var(--fill-color);\n",
              "    }\n",
              "    90% {\n",
              "      border-color: transparent;\n",
              "      border-bottom-color: var(--fill-color);\n",
              "    }\n",
              "  }\n",
              "</style>\n",
              "\n",
              "  <script>\n",
              "    async function quickchart(key) {\n",
              "      const quickchartButtonEl =\n",
              "        document.querySelector('#' + key + ' button');\n",
              "      quickchartButtonEl.disabled = true;  // To prevent multiple clicks.\n",
              "      quickchartButtonEl.classList.add('colab-df-spinner');\n",
              "      try {\n",
              "        const charts = await google.colab.kernel.invokeFunction(\n",
              "            'suggestCharts', [key], {});\n",
              "      } catch (error) {\n",
              "        console.error('Error during call to suggestCharts:', error);\n",
              "      }\n",
              "      quickchartButtonEl.classList.remove('colab-df-spinner');\n",
              "      quickchartButtonEl.classList.add('colab-df-quickchart-complete');\n",
              "    }\n",
              "    (() => {\n",
              "      let quickchartButtonEl =\n",
              "        document.querySelector('#df-9f3c3a24-5c53-4976-bcb8-39a229afce47 button');\n",
              "      quickchartButtonEl.style.display =\n",
              "        google.colab.kernel.accessAllowed ? 'block' : 'none';\n",
              "    })();\n",
              "  </script>\n",
              "</div>\n",
              "    </div>\n",
              "  </div>\n"
            ],
            "text/plain": [
              "   schedule_season schedule_week team_home team_away team_favorite_id  \\\n",
              "0             1999             1       ATL       MIN              MIN   \n",
              "1             1999             1       CHI        KC               KC   \n",
              "2             1999             1       CLE       PIT              PIT   \n",
              "3             1999             1        GB       OAK               GB   \n",
              "4             1999             1       IND       BUF              BUF   \n",
              "\n",
              "   spread_favorite  over_under_line            stadium_x  stadium_neutral  \\\n",
              "0             -4.0             49.0         Georgia Dome            False   \n",
              "1             -3.0             38.0        Soldier Field            False   \n",
              "2             -6.0             37.0  FirstEnergy Stadium            False   \n",
              "3             -9.0             43.0        Lambeau Field            False   \n",
              "4             -3.0             45.5             RCA Dome            False   \n",
              "\n",
              "   weather_temperature  ...  game_type  week weekday  gametime location  \\\n",
              "0                 72.0  ...        REG     1  Sunday       NaN     Home   \n",
              "1                 68.0  ...        REG     1  Sunday       NaN     Home   \n",
              "2                 70.0  ...        REG     1  Sunday       NaN     Home   \n",
              "3                 61.0  ...        REG     1  Sunday       NaN     Home   \n",
              "4                 72.0  ...        REG     1  Sunday       NaN     Home   \n",
              "\n",
              "       roof    surface home_win Temp_Cat  Wind_Cat  \n",
              "0      dome  astroturf    False    60-80         0  \n",
              "1  outdoors      grass     True    60-80      5-10  \n",
              "2  outdoors      grass    False    60-80      5-10  \n",
              "3  outdoors      grass     True    60-80      5-10  \n",
              "4      dome  astroturf     True    60-80         0  \n",
              "\n",
              "[5 rows x 22 columns]"
            ]
          },
          "execution_count": 116,
          "metadata": {},
          "output_type": "execute_result"
        }
      ],
      "source": [
        "data.head()"
      ]
    },
    {
      "cell_type": "code",
      "execution_count": null,
      "metadata": {
        "colab": {
          "base_uri": "https://localhost:8080/",
          "height": 320
        },
        "id": "zgwpjoOhEG03",
        "outputId": "7641a6fd-056c-4a83-a3d8-ec5d0056b77e"
      },
      "outputs": [
        {
          "data": {
            "application/vnd.google.colaboratory.intrinsic+json": {
              "summary": "{\n  \"name\": \"data\",\n  \"rows\": 8,\n  \"fields\": [\n    {\n      \"column\": \"schedule_season\",\n      \"properties\": {\n        \"dtype\": \"number\",\n        \"std\": 1617.3753326912577,\n        \"min\": 6.328487534686139,\n        \"max\": 5846.0,\n        \"num_unique_values\": 8,\n        \"samples\": [\n          2009.550119739993,\n          2010.0,\n          5846.0\n        ],\n        \"semantic_type\": \"\",\n        \"description\": \"\"\n      }\n    },\n    {\n      \"column\": \"spread_favorite\",\n      \"properties\": {\n        \"dtype\": \"number\",\n        \"std\": 2069.063292325382,\n        \"min\": -26.5,\n        \"max\": 5846.0,\n        \"num_unique_values\": 8,\n        \"samples\": [\n          -5.404892234006158,\n          -4.5,\n          5846.0\n        ],\n        \"semantic_type\": \"\",\n        \"description\": \"\"\n      }\n    },\n    {\n      \"column\": \"over_under_line\",\n      \"properties\": {\n        \"dtype\": \"number\",\n        \"std\": 2053.2079660900436,\n        \"min\": 5.032305030168398,\n        \"max\": 5846.0,\n        \"num_unique_values\": 8,\n        \"samples\": [\n          43.35425932261375,\n          43.5,\n          5846.0\n        ],\n        \"semantic_type\": \"\",\n        \"description\": \"\"\n      }\n    },\n    {\n      \"column\": \"weather_temperature\",\n      \"properties\": {\n        \"dtype\": \"number\",\n        \"std\": 2049.3784073150796,\n        \"min\": -6.0,\n        \"max\": 5846.0,\n        \"num_unique_values\": 8,\n        \"samples\": [\n          60.27377694149846,\n          63.0,\n          5846.0\n        ],\n        \"semantic_type\": \"\",\n        \"description\": \"\"\n      }\n    },\n    {\n      \"column\": \"weather_wind_mph\",\n      \"properties\": {\n        \"dtype\": \"number\",\n        \"std\": 2063.4461984865316,\n        \"min\": 0.0,\n        \"max\": 5846.0,\n        \"num_unique_values\": 8,\n        \"samples\": [\n          6.345022237427301,\n          6.0,\n          5846.0\n        ],\n        \"semantic_type\": \"\",\n        \"description\": \"\"\n      }\n    },\n    {\n      \"column\": \"season\",\n      \"properties\": {\n        \"dtype\": \"number\",\n        \"std\": 1617.3753326912577,\n        \"min\": 6.328487534686139,\n        \"max\": 5846.0,\n        \"num_unique_values\": 8,\n        \"samples\": [\n          2009.550119739993,\n          2010.0,\n          5846.0\n        ],\n        \"semantic_type\": \"\",\n        \"description\": \"\"\n      }\n    },\n    {\n      \"column\": \"week\",\n      \"properties\": {\n        \"dtype\": \"number\",\n        \"std\": 2063.560489448442,\n        \"min\": 1.0,\n        \"max\": 5846.0,\n        \"num_unique_values\": 8,\n        \"samples\": [\n          9.503934314060896,\n          10.0,\n          5846.0\n        ],\n        \"semantic_type\": \"\",\n        \"description\": \"\"\n      }\n    }\n  ]\n}",
              "type": "dataframe"
            },
            "text/html": [
              "\n",
              "  <div id=\"df-1d676df3-9b0b-4d65-8b77-fed7aec918ff\" class=\"colab-df-container\">\n",
              "    <div>\n",
              "<style scoped>\n",
              "    .dataframe tbody tr th:only-of-type {\n",
              "        vertical-align: middle;\n",
              "    }\n",
              "\n",
              "    .dataframe tbody tr th {\n",
              "        vertical-align: top;\n",
              "    }\n",
              "\n",
              "    .dataframe thead th {\n",
              "        text-align: right;\n",
              "    }\n",
              "</style>\n",
              "<table border=\"1\" class=\"dataframe\">\n",
              "  <thead>\n",
              "    <tr style=\"text-align: right;\">\n",
              "      <th></th>\n",
              "      <th>schedule_season</th>\n",
              "      <th>spread_favorite</th>\n",
              "      <th>over_under_line</th>\n",
              "      <th>weather_temperature</th>\n",
              "      <th>weather_wind_mph</th>\n",
              "      <th>season</th>\n",
              "      <th>week</th>\n",
              "    </tr>\n",
              "  </thead>\n",
              "  <tbody>\n",
              "    <tr>\n",
              "      <th>count</th>\n",
              "      <td>5846.000000</td>\n",
              "      <td>5846.000000</td>\n",
              "      <td>5846.000000</td>\n",
              "      <td>5846.000000</td>\n",
              "      <td>5846.000000</td>\n",
              "      <td>5846.000000</td>\n",
              "      <td>5846.000000</td>\n",
              "    </tr>\n",
              "    <tr>\n",
              "      <th>mean</th>\n",
              "      <td>2009.550120</td>\n",
              "      <td>-5.404892</td>\n",
              "      <td>43.354259</td>\n",
              "      <td>60.273777</td>\n",
              "      <td>6.345022</td>\n",
              "      <td>2009.550120</td>\n",
              "      <td>9.503934</td>\n",
              "    </tr>\n",
              "    <tr>\n",
              "      <th>std</th>\n",
              "      <td>6.328488</td>\n",
              "      <td>3.422779</td>\n",
              "      <td>5.032305</td>\n",
              "      <td>15.153800</td>\n",
              "      <td>5.280678</td>\n",
              "      <td>6.328488</td>\n",
              "      <td>5.263159</td>\n",
              "    </tr>\n",
              "    <tr>\n",
              "      <th>min</th>\n",
              "      <td>1999.000000</td>\n",
              "      <td>-26.500000</td>\n",
              "      <td>30.000000</td>\n",
              "      <td>-6.000000</td>\n",
              "      <td>0.000000</td>\n",
              "      <td>1999.000000</td>\n",
              "      <td>1.000000</td>\n",
              "    </tr>\n",
              "    <tr>\n",
              "      <th>25%</th>\n",
              "      <td>2004.000000</td>\n",
              "      <td>-7.000000</td>\n",
              "      <td>40.000000</td>\n",
              "      <td>50.000000</td>\n",
              "      <td>1.000000</td>\n",
              "      <td>2004.000000</td>\n",
              "      <td>5.000000</td>\n",
              "    </tr>\n",
              "    <tr>\n",
              "      <th>50%</th>\n",
              "      <td>2010.000000</td>\n",
              "      <td>-4.500000</td>\n",
              "      <td>43.500000</td>\n",
              "      <td>63.000000</td>\n",
              "      <td>6.000000</td>\n",
              "      <td>2010.000000</td>\n",
              "      <td>10.000000</td>\n",
              "    </tr>\n",
              "    <tr>\n",
              "      <th>75%</th>\n",
              "      <td>2015.000000</td>\n",
              "      <td>-3.000000</td>\n",
              "      <td>46.500000</td>\n",
              "      <td>72.000000</td>\n",
              "      <td>10.000000</td>\n",
              "      <td>2015.000000</td>\n",
              "      <td>14.000000</td>\n",
              "    </tr>\n",
              "    <tr>\n",
              "      <th>max</th>\n",
              "      <td>2020.000000</td>\n",
              "      <td>0.000000</td>\n",
              "      <td>63.500000</td>\n",
              "      <td>97.000000</td>\n",
              "      <td>40.000000</td>\n",
              "      <td>2020.000000</td>\n",
              "      <td>21.000000</td>\n",
              "    </tr>\n",
              "  </tbody>\n",
              "</table>\n",
              "</div>\n",
              "    <div class=\"colab-df-buttons\">\n",
              "\n",
              "  <div class=\"colab-df-container\">\n",
              "    <button class=\"colab-df-convert\" onclick=\"convertToInteractive('df-1d676df3-9b0b-4d65-8b77-fed7aec918ff')\"\n",
              "            title=\"Convert this dataframe to an interactive table.\"\n",
              "            style=\"display:none;\">\n",
              "\n",
              "  <svg xmlns=\"http://www.w3.org/2000/svg\" height=\"24px\" viewBox=\"0 -960 960 960\">\n",
              "    <path d=\"M120-120v-720h720v720H120Zm60-500h600v-160H180v160Zm220 220h160v-160H400v160Zm0 220h160v-160H400v160ZM180-400h160v-160H180v160Zm440 0h160v-160H620v160ZM180-180h160v-160H180v160Zm440 0h160v-160H620v160Z\"/>\n",
              "  </svg>\n",
              "    </button>\n",
              "\n",
              "  <style>\n",
              "    .colab-df-container {\n",
              "      display:flex;\n",
              "      gap: 12px;\n",
              "    }\n",
              "\n",
              "    .colab-df-convert {\n",
              "      background-color: #E8F0FE;\n",
              "      border: none;\n",
              "      border-radius: 50%;\n",
              "      cursor: pointer;\n",
              "      display: none;\n",
              "      fill: #1967D2;\n",
              "      height: 32px;\n",
              "      padding: 0 0 0 0;\n",
              "      width: 32px;\n",
              "    }\n",
              "\n",
              "    .colab-df-convert:hover {\n",
              "      background-color: #E2EBFA;\n",
              "      box-shadow: 0px 1px 2px rgba(60, 64, 67, 0.3), 0px 1px 3px 1px rgba(60, 64, 67, 0.15);\n",
              "      fill: #174EA6;\n",
              "    }\n",
              "\n",
              "    .colab-df-buttons div {\n",
              "      margin-bottom: 4px;\n",
              "    }\n",
              "\n",
              "    [theme=dark] .colab-df-convert {\n",
              "      background-color: #3B4455;\n",
              "      fill: #D2E3FC;\n",
              "    }\n",
              "\n",
              "    [theme=dark] .colab-df-convert:hover {\n",
              "      background-color: #434B5C;\n",
              "      box-shadow: 0px 1px 3px 1px rgba(0, 0, 0, 0.15);\n",
              "      filter: drop-shadow(0px 1px 2px rgba(0, 0, 0, 0.3));\n",
              "      fill: #FFFFFF;\n",
              "    }\n",
              "  </style>\n",
              "\n",
              "    <script>\n",
              "      const buttonEl =\n",
              "        document.querySelector('#df-1d676df3-9b0b-4d65-8b77-fed7aec918ff button.colab-df-convert');\n",
              "      buttonEl.style.display =\n",
              "        google.colab.kernel.accessAllowed ? 'block' : 'none';\n",
              "\n",
              "      async function convertToInteractive(key) {\n",
              "        const element = document.querySelector('#df-1d676df3-9b0b-4d65-8b77-fed7aec918ff');\n",
              "        const dataTable =\n",
              "          await google.colab.kernel.invokeFunction('convertToInteractive',\n",
              "                                                    [key], {});\n",
              "        if (!dataTable) return;\n",
              "\n",
              "        const docLinkHtml = 'Like what you see? Visit the ' +\n",
              "          '<a target=\"_blank\" href=https://colab.research.google.com/notebooks/data_table.ipynb>data table notebook</a>'\n",
              "          + ' to learn more about interactive tables.';\n",
              "        element.innerHTML = '';\n",
              "        dataTable['output_type'] = 'display_data';\n",
              "        await google.colab.output.renderOutput(dataTable, element);\n",
              "        const docLink = document.createElement('div');\n",
              "        docLink.innerHTML = docLinkHtml;\n",
              "        element.appendChild(docLink);\n",
              "      }\n",
              "    </script>\n",
              "  </div>\n",
              "\n",
              "\n",
              "<div id=\"df-f0f0b5d6-e0a8-4301-983c-de97d78988a1\">\n",
              "  <button class=\"colab-df-quickchart\" onclick=\"quickchart('df-f0f0b5d6-e0a8-4301-983c-de97d78988a1')\"\n",
              "            title=\"Suggest charts\"\n",
              "            style=\"display:none;\">\n",
              "\n",
              "<svg xmlns=\"http://www.w3.org/2000/svg\" height=\"24px\"viewBox=\"0 0 24 24\"\n",
              "     width=\"24px\">\n",
              "    <g>\n",
              "        <path d=\"M19 3H5c-1.1 0-2 .9-2 2v14c0 1.1.9 2 2 2h14c1.1 0 2-.9 2-2V5c0-1.1-.9-2-2-2zM9 17H7v-7h2v7zm4 0h-2V7h2v10zm4 0h-2v-4h2v4z\"/>\n",
              "    </g>\n",
              "</svg>\n",
              "  </button>\n",
              "\n",
              "<style>\n",
              "  .colab-df-quickchart {\n",
              "      --bg-color: #E8F0FE;\n",
              "      --fill-color: #1967D2;\n",
              "      --hover-bg-color: #E2EBFA;\n",
              "      --hover-fill-color: #174EA6;\n",
              "      --disabled-fill-color: #AAA;\n",
              "      --disabled-bg-color: #DDD;\n",
              "  }\n",
              "\n",
              "  [theme=dark] .colab-df-quickchart {\n",
              "      --bg-color: #3B4455;\n",
              "      --fill-color: #D2E3FC;\n",
              "      --hover-bg-color: #434B5C;\n",
              "      --hover-fill-color: #FFFFFF;\n",
              "      --disabled-bg-color: #3B4455;\n",
              "      --disabled-fill-color: #666;\n",
              "  }\n",
              "\n",
              "  .colab-df-quickchart {\n",
              "    background-color: var(--bg-color);\n",
              "    border: none;\n",
              "    border-radius: 50%;\n",
              "    cursor: pointer;\n",
              "    display: none;\n",
              "    fill: var(--fill-color);\n",
              "    height: 32px;\n",
              "    padding: 0;\n",
              "    width: 32px;\n",
              "  }\n",
              "\n",
              "  .colab-df-quickchart:hover {\n",
              "    background-color: var(--hover-bg-color);\n",
              "    box-shadow: 0 1px 2px rgba(60, 64, 67, 0.3), 0 1px 3px 1px rgba(60, 64, 67, 0.15);\n",
              "    fill: var(--button-hover-fill-color);\n",
              "  }\n",
              "\n",
              "  .colab-df-quickchart-complete:disabled,\n",
              "  .colab-df-quickchart-complete:disabled:hover {\n",
              "    background-color: var(--disabled-bg-color);\n",
              "    fill: var(--disabled-fill-color);\n",
              "    box-shadow: none;\n",
              "  }\n",
              "\n",
              "  .colab-df-spinner {\n",
              "    border: 2px solid var(--fill-color);\n",
              "    border-color: transparent;\n",
              "    border-bottom-color: var(--fill-color);\n",
              "    animation:\n",
              "      spin 1s steps(1) infinite;\n",
              "  }\n",
              "\n",
              "  @keyframes spin {\n",
              "    0% {\n",
              "      border-color: transparent;\n",
              "      border-bottom-color: var(--fill-color);\n",
              "      border-left-color: var(--fill-color);\n",
              "    }\n",
              "    20% {\n",
              "      border-color: transparent;\n",
              "      border-left-color: var(--fill-color);\n",
              "      border-top-color: var(--fill-color);\n",
              "    }\n",
              "    30% {\n",
              "      border-color: transparent;\n",
              "      border-left-color: var(--fill-color);\n",
              "      border-top-color: var(--fill-color);\n",
              "      border-right-color: var(--fill-color);\n",
              "    }\n",
              "    40% {\n",
              "      border-color: transparent;\n",
              "      border-right-color: var(--fill-color);\n",
              "      border-top-color: var(--fill-color);\n",
              "    }\n",
              "    60% {\n",
              "      border-color: transparent;\n",
              "      border-right-color: var(--fill-color);\n",
              "    }\n",
              "    80% {\n",
              "      border-color: transparent;\n",
              "      border-right-color: var(--fill-color);\n",
              "      border-bottom-color: var(--fill-color);\n",
              "    }\n",
              "    90% {\n",
              "      border-color: transparent;\n",
              "      border-bottom-color: var(--fill-color);\n",
              "    }\n",
              "  }\n",
              "</style>\n",
              "\n",
              "  <script>\n",
              "    async function quickchart(key) {\n",
              "      const quickchartButtonEl =\n",
              "        document.querySelector('#' + key + ' button');\n",
              "      quickchartButtonEl.disabled = true;  // To prevent multiple clicks.\n",
              "      quickchartButtonEl.classList.add('colab-df-spinner');\n",
              "      try {\n",
              "        const charts = await google.colab.kernel.invokeFunction(\n",
              "            'suggestCharts', [key], {});\n",
              "      } catch (error) {\n",
              "        console.error('Error during call to suggestCharts:', error);\n",
              "      }\n",
              "      quickchartButtonEl.classList.remove('colab-df-spinner');\n",
              "      quickchartButtonEl.classList.add('colab-df-quickchart-complete');\n",
              "    }\n",
              "    (() => {\n",
              "      let quickchartButtonEl =\n",
              "        document.querySelector('#df-f0f0b5d6-e0a8-4301-983c-de97d78988a1 button');\n",
              "      quickchartButtonEl.style.display =\n",
              "        google.colab.kernel.accessAllowed ? 'block' : 'none';\n",
              "    })();\n",
              "  </script>\n",
              "</div>\n",
              "    </div>\n",
              "  </div>\n"
            ],
            "text/plain": [
              "       schedule_season  spread_favorite  over_under_line  weather_temperature  \\\n",
              "count      5846.000000      5846.000000      5846.000000          5846.000000   \n",
              "mean       2009.550120        -5.404892        43.354259            60.273777   \n",
              "std           6.328488         3.422779         5.032305            15.153800   \n",
              "min        1999.000000       -26.500000        30.000000            -6.000000   \n",
              "25%        2004.000000        -7.000000        40.000000            50.000000   \n",
              "50%        2010.000000        -4.500000        43.500000            63.000000   \n",
              "75%        2015.000000        -3.000000        46.500000            72.000000   \n",
              "max        2020.000000         0.000000        63.500000            97.000000   \n",
              "\n",
              "       weather_wind_mph       season         week  \n",
              "count       5846.000000  5846.000000  5846.000000  \n",
              "mean           6.345022  2009.550120     9.503934  \n",
              "std            5.280678     6.328488     5.263159  \n",
              "min            0.000000  1999.000000     1.000000  \n",
              "25%            1.000000  2004.000000     5.000000  \n",
              "50%            6.000000  2010.000000    10.000000  \n",
              "75%           10.000000  2015.000000    14.000000  \n",
              "max           40.000000  2020.000000    21.000000  "
            ]
          },
          "execution_count": 117,
          "metadata": {},
          "output_type": "execute_result"
        }
      ],
      "source": [
        "data.describe()"
      ]
    },
    {
      "cell_type": "markdown",
      "metadata": {
        "id": "ZjMF1Fe4iLiP"
      },
      "source": [
        "Checking for Missing Values"
      ]
    },
    {
      "cell_type": "code",
      "execution_count": null,
      "metadata": {
        "colab": {
          "base_uri": "https://localhost:8080/"
        },
        "id": "-pdDmZPgEbnV",
        "outputId": "e703809c-e82e-49aa-f340-974abf979109"
      },
      "outputs": [
        {
          "name": "stdout",
          "output_type": "stream",
          "text": [
            "<class 'pandas.core.frame.DataFrame'>\n",
            "RangeIndex: 5846 entries, 0 to 5845\n",
            "Data columns (total 22 columns):\n",
            " #   Column               Non-Null Count  Dtype  \n",
            "---  ------               --------------  -----  \n",
            " 0   schedule_season      5846 non-null   int64  \n",
            " 1   schedule_week        5846 non-null   object \n",
            " 2   team_home            5846 non-null   object \n",
            " 3   team_away            5846 non-null   object \n",
            " 4   team_favorite_id     5846 non-null   object \n",
            " 5   spread_favorite      5846 non-null   float64\n",
            " 6   over_under_line      5846 non-null   float64\n",
            " 7   stadium_x            5846 non-null   object \n",
            " 8   stadium_neutral      5846 non-null   bool   \n",
            " 9   weather_temperature  5846 non-null   float64\n",
            " 10  weather_wind_mph     5846 non-null   float64\n",
            " 11  season               5846 non-null   int64  \n",
            " 12  game_type            5846 non-null   object \n",
            " 13  week                 5846 non-null   int64  \n",
            " 14  weekday              5846 non-null   object \n",
            " 15  gametime             5588 non-null   object \n",
            " 16  location             5846 non-null   object \n",
            " 17  roof                 5846 non-null   object \n",
            " 18  surface              5846 non-null   object \n",
            " 19  home_win             5846 non-null   bool   \n",
            " 20  Temp_Cat             5846 non-null   object \n",
            " 21  Wind_Cat             5846 non-null   object \n",
            "dtypes: bool(2), float64(4), int64(3), object(13)\n",
            "memory usage: 925.0+ KB\n"
          ]
        }
      ],
      "source": [
        "data.info()"
      ]
    },
    {
      "cell_type": "code",
      "execution_count": null,
      "metadata": {
        "colab": {
          "base_uri": "https://localhost:8080/"
        },
        "id": "slyuWEfBEfxD",
        "outputId": "ab4edb86-f3a6-4ad0-d40b-e043b6983eca"
      },
      "outputs": [
        {
          "data": {
            "text/plain": [
              "schedule_season          0\n",
              "schedule_week            0\n",
              "team_home                0\n",
              "team_away                0\n",
              "team_favorite_id         0\n",
              "spread_favorite          0\n",
              "over_under_line          0\n",
              "stadium_x                0\n",
              "stadium_neutral          0\n",
              "weather_temperature      0\n",
              "weather_wind_mph         0\n",
              "season                   0\n",
              "game_type                0\n",
              "week                     0\n",
              "weekday                  0\n",
              "gametime               258\n",
              "location                 0\n",
              "roof                     0\n",
              "surface                  0\n",
              "home_win                 0\n",
              "Temp_Cat                 0\n",
              "Wind_Cat                 0\n",
              "dtype: int64"
            ]
          },
          "execution_count": 119,
          "metadata": {},
          "output_type": "execute_result"
        }
      ],
      "source": [
        "data.isnull().sum()"
      ]
    },
    {
      "cell_type": "code",
      "execution_count": null,
      "metadata": {
        "colab": {
          "base_uri": "https://localhost:8080/"
        },
        "id": "t6FY2KCrWUVI",
        "outputId": "c0302d83-3896-4729-e0ac-44405603bdae"
      },
      "outputs": [
        {
          "data": {
            "text/plain": [
              "gametime\n",
              "13:00    2961\n",
              "16:15     545\n",
              "16:05     503\n",
              "16:25     364\n",
              "20:30     355\n",
              "20:20     216\n",
              "20:15     117\n",
              "09:00     102\n",
              "20:25      88\n",
              "16:30      61\n",
              "20:00      30\n",
              "12:30      30\n",
              "18:30      22\n",
              "16:40      16\n",
              "16:35      15\n",
              "13:05      15\n",
              "17:00      13\n",
              "20:40      13\n",
              "15:00      11\n",
              "15:05      11\n",
              "19:00      11\n",
              "16:00       9\n",
              "09:30       9\n",
              "13:30       8\n",
              "18:40       8\n",
              "22:15       7\n",
              "19:10       7\n",
              "22:20       5\n",
              "21:30       5\n",
              "12:00       3\n",
              "18:31       2\n",
              "19:30       2\n",
              "18:25       2\n",
              "16:45       2\n",
              "15:15       2\n",
              "15:40       1\n",
              "19:05       1\n",
              "21:00       1\n",
              "19:15       1\n",
              "22:10       1\n",
              "18:41       1\n",
              "16:36       1\n",
              "20:10       1\n",
              "18:50       1\n",
              "14:00       1\n",
              "21:20       1\n",
              "23:30       1\n",
              "19:20       1\n",
              "21:15       1\n",
              "18:32       1\n",
              "18:45       1\n",
              "22:25       1\n",
              "20:05       1\n",
              "Name: count, dtype: int64"
            ]
          },
          "execution_count": 120,
          "metadata": {},
          "output_type": "execute_result"
        }
      ],
      "source": [
        "data['gametime'].value_counts()"
      ]
    },
    {
      "cell_type": "markdown",
      "metadata": {
        "id": "ZP-Z7CMHDUwk"
      },
      "source": [
        "Converting and Transforming DateTime Features\n",
        "\n",
        "\n",
        "Start by converting the 'gametime' column to datetime format for accurate time representation.\n",
        "\n",
        "Then identifies all datetime columns in X and lists them in datetime_features.\n",
        "\n",
        "The custom transformer DateTimeToNumeric, which converts datetime columns to numeric format, is then defined and applied to X.\n",
        "\n",
        "This transformation is necessary for the preprocessing step"
      ]
    },
    {
      "cell_type": "code",
      "execution_count": null,
      "metadata": {
        "id": "Rm0b2OFLXG7h"
      },
      "outputs": [],
      "source": [
        "data['gametime'] = pd.to_datetime(data['gametime'], format='%H:%M')"
      ]
    },
    {
      "cell_type": "code",
      "execution_count": null,
      "metadata": {
        "colab": {
          "base_uri": "https://localhost:8080/"
        },
        "id": "idpYOd_rXM2z",
        "outputId": "85be07aa-3e22-42df-c8f4-9d8999db69fb"
      },
      "outputs": [
        {
          "name": "stdout",
          "output_type": "stream",
          "text": [
            "<class 'pandas.core.frame.DataFrame'>\n",
            "RangeIndex: 5846 entries, 0 to 5845\n",
            "Data columns (total 23 columns):\n",
            " #   Column               Non-Null Count  Dtype         \n",
            "---  ------               --------------  -----         \n",
            " 0   schedule_season      5846 non-null   int64         \n",
            " 1   schedule_week        5846 non-null   object        \n",
            " 2   team_home            5846 non-null   object        \n",
            " 3   team_away            5846 non-null   object        \n",
            " 4   team_favorite_id     5846 non-null   object        \n",
            " 5   spread_favorite      5846 non-null   float64       \n",
            " 6   over_under_line      5846 non-null   float64       \n",
            " 7   stadium_x            5846 non-null   object        \n",
            " 8   stadium_neutral      5846 non-null   bool          \n",
            " 9   weather_temperature  5846 non-null   float64       \n",
            " 10  weather_wind_mph     5846 non-null   float64       \n",
            " 11  season               5846 non-null   int64         \n",
            " 12  game_type            5846 non-null   object        \n",
            " 13  week                 5846 non-null   int64         \n",
            " 14  weekday              5846 non-null   object        \n",
            " 15  gametime             5588 non-null   object        \n",
            " 16  location             5846 non-null   object        \n",
            " 17  roof                 5846 non-null   object        \n",
            " 18  surface              5846 non-null   object        \n",
            " 19  home_win             5846 non-null   bool          \n",
            " 20  Temp_Cat             5846 non-null   object        \n",
            " 21  Wind_Cat             5846 non-null   object        \n",
            " 22  gatetime             5588 non-null   datetime64[ns]\n",
            "dtypes: bool(2), datetime64[ns](1), float64(4), int64(3), object(13)\n",
            "memory usage: 970.7+ KB\n"
          ]
        }
      ],
      "source": [
        "data.info()"
      ]
    },
    {
      "cell_type": "markdown",
      "metadata": {
        "id": "Fizt7DDuidUR"
      },
      "source": [
        "Selecting features and Target Variable"
      ]
    },
    {
      "cell_type": "code",
      "execution_count": null,
      "metadata": {
        "id": "b1wI9aDVd9Y-"
      },
      "outputs": [],
      "source": [
        "X = data.drop('home_win', axis=1)\n",
        "y = data['home_win']"
      ]
    },
    {
      "cell_type": "code",
      "execution_count": null,
      "metadata": {
        "id": "uDcRG0SrgzuV"
      },
      "outputs": [],
      "source": [
        "datetime_features = X.select_dtypes(include=['datetime64[ns]']).columns.tolist()"
      ]
    },
    {
      "cell_type": "code",
      "execution_count": null,
      "metadata": {
        "id": "H5PmLDn-gkVS"
      },
      "outputs": [],
      "source": [
        "class DateTimeToNumeric(BaseEstimator, TransformerMixin):\n",
        "    def fit(self, X, y=None):\n",
        "        return self\n",
        "\n",
        "    def transform(self, X):\n",
        "        for col in X.columns:\n",
        "            if X[col].dtype.kind == 'M':\n",
        "                X[col] = X[col].view('int64')\n",
        "        return X"
      ]
    },
    {
      "cell_type": "code",
      "execution_count": null,
      "metadata": {
        "id": "uJwvDGJCiEeM"
      },
      "outputs": [],
      "source": [
        "transformer = DateTimeToNumeric()\n",
        "X = transformer.transform(X)"
      ]
    },
    {
      "cell_type": "markdown",
      "metadata": {
        "id": "gfBbVZZmDaFs"
      },
      "source": [
        "Categorical and Numeric Split of the features"
      ]
    },
    {
      "cell_type": "code",
      "execution_count": null,
      "metadata": {
        "colab": {
          "base_uri": "https://localhost:8080/"
        },
        "id": "ITg2gD2NhpEr",
        "outputId": "5c4690a2-5bfd-481d-a594-8e476d2acd13"
      },
      "outputs": [
        {
          "name": "stdout",
          "output_type": "stream",
          "text": [
            "The categorical features are ['schedule_week', 'team_home', 'team_away', 'team_favorite_id', 'stadium_x', 'game_type', 'weekday', 'location', 'roof', 'surface', 'Temp_Cat', 'Wind_Cat']\n",
            "The numerical fetaures are ['schedule_season', 'spread_favorite', 'over_under_line', 'stadium_neutral', 'weather_temperature', 'weather_wind_mph', 'season', 'week', 'gatetime']\n"
          ]
        }
      ],
      "source": [
        "categorical_features = [col for col in X.select_dtypes(include=['object']).columns if col != 'gametime']\n",
        "print(f\"The categorical features are {categorical_features}\")\n",
        "numerical_features = X.select_dtypes(exclude=['object']).columns.tolist()\n",
        "print(f\"The numerical fetaures are {numerical_features}\")"
      ]
    },
    {
      "cell_type": "markdown",
      "metadata": {
        "id": "1oFPmurHDeo9"
      },
      "source": [
        "Stratified train test split"
      ]
    },
    {
      "cell_type": "code",
      "execution_count": null,
      "metadata": {
        "id": "gBsQnFEo-Db0"
      },
      "outputs": [],
      "source": [
        "X_train, X_test, y_train, y_test = train_test_split(X, y, test_size=0.2, stratify=y, random_state=42)"
      ]
    },
    {
      "cell_type": "code",
      "execution_count": null,
      "metadata": {
        "colab": {
          "base_uri": "https://localhost:8080/"
        },
        "id": "hqFhou3qMFxu",
        "outputId": "827dc63e-c13a-48a6-b36d-c79f8e5deffb"
      },
      "outputs": [
        {
          "name": "stdout",
          "output_type": "stream",
          "text": [
            "Column stadium_x has unknown categories in test set.\n",
            "Unknown Categories in stadium_x: {'State Farm Stadium', 'Alltel Stadium'}\n",
            "Column gametime has unknown categories in test set.\n",
            "Unknown Categories in gametime: {'21:00', '18:50', '19:15', '20:10', '15:40', '19:05'}\n"
          ]
        }
      ],
      "source": [
        "for col in X_train.select_dtypes(include=['object']).columns:\n",
        "    train_categories = set(X_train[col].unique())\n",
        "    test_categories = set(X_test[col].unique())\n",
        "\n",
        "    # Find categories present in test but not in train\n",
        "    if not test_categories.issubset(train_categories):\n",
        "        print(f'Column {col} has unknown categories in test set.')\n",
        "        unknown_categories = test_categories - train_categories\n",
        "        print(f'Unknown Categories in {col}: {unknown_categories}')"
      ]
    },
    {
      "cell_type": "markdown",
      "metadata": {
        "id": "WYvGmOvrDdn3"
      },
      "source": [
        "Create pipeline to clean our data effectively"
      ]
    },
    {
      "cell_type": "code",
      "execution_count": null,
      "metadata": {
        "id": "IOl-FjtUJ4Js"
      },
      "outputs": [],
      "source": [
        "imputer = SimpleImputer(strategy='median')"
      ]
    },
    {
      "cell_type": "code",
      "execution_count": null,
      "metadata": {
        "id": "TMPeT26OV6Aq"
      },
      "outputs": [],
      "source": [
        "numeric_transformer = Pipeline(steps=[\n",
        "    ('num_imputer', imputer),\n",
        "    ('scaler', StandardScaler())\n",
        "])"
      ]
    },
    {
      "cell_type": "code",
      "execution_count": null,
      "metadata": {
        "id": "HH3HNl4lV-NM"
      },
      "outputs": [],
      "source": [
        "categorical_transformer = Pipeline(steps=[\n",
        "    ('onehot', OneHotEncoder(handle_unknown='ignore', sparse_output=False, drop='first'))\n",
        "])"
      ]
    },
    {
      "cell_type": "code",
      "execution_count": null,
      "metadata": {
        "id": "WW_lRHcdXgVX"
      },
      "outputs": [],
      "source": [
        "preprocessor = ColumnTransformer(\n",
        "    transformers=[\n",
        "        ('num', numeric_transformer, numerical_features),\n",
        "        ('cat', categorical_transformer, categorical_features)\n",
        "    ]\n",
        ")"
      ]
    },
    {
      "cell_type": "markdown",
      "metadata": {
        "id": "s6B6bK0_dyxY"
      },
      "source": [
        "## Preprocessing Justification\n",
        "\n",
        "### 1) Removal of Irrelevant Columns\n",
        "- First, we removed columns such as `'Unnamed: 0'` and `'Unnamed: 0.1'`.\n",
        "- Columns like `game_id` and others generated during part 2 of our project for plotting purposes were also removed.\n",
        "\n",
        "### 2) Missing Values\n",
        "- Most missing values were filled in the part 2 of the assignment. The column `gametime` still had missing values; after data analysis, we found that most games occurred around the same time and decided to impute with the median. `gametime` was then converted into a numeric value, which might capture trends over time, such as changes in team performance.\n",
        "\n",
        "### 3) Removal of Giveaway Features\n",
        "- Some columns in the data directly gave away the outcome of the game, such as `'score_home'`, `'score_away'`, `'away_win'`, `'favorite_win'`, `'home_result'`, `'total_score'`. Since our goal is to predict the game’s result before it is played, we dropped all such future information.\n",
        "\n",
        "### 4) Scaling\n",
        "- Scaling was necessary due to the varied scales of features like weather conditions (`wind`, `temperature`) and betting features (`over_under_line`, `spread_favorite`). We also scaled the numerical `gametime` to ensure that all numeric features contribute equally to the model, avoiding biases toward variables with larger magnitudes.\n",
        "\n",
        "### 5) OneHotEncoding\n",
        "- OneHotEncoding was applied as it converts categorical variables into a form that ML algorithms can process more effectively, enhancing prediction capabilities.\n",
        "\n",
        "### 6) Dimensionality reduction\n",
        "- One-Hot Encoding significantly expanded the feature space, especially due to many categorical variables. PCA was employed later on in our pipeline to reduce this expanded feature space into a smaller set of uncorrelated components, simplifying the model without losing significant informational content.\n",
        "\n",
        "### 7) Train-Test Split and Handling of Categorical Variables\n",
        "- We conducted a stratified train-test split with a typical test size of 0.2 and set up cross-validation during our grid search to provide a more robust estimate of the model's performance.\n",
        "- We examined if any categorical variables in the test set contained values not present in the training set. Notably, there were 2 stadiums that had hosted only one game each, which were ignored by our OneHotEncoder set with `\"handle_unknown\"` to `\"ignore\"`.\n"
      ]
    },
    {
      "cell_type": "markdown",
      "metadata": {
        "id": "yVN1oLWRebFL"
      },
      "source": [
        "## Impact Analysis\n",
        "\n",
        "With our preprocessing, we aimed to mitigate the risk of overfitting and enhance the model’s ability to generalize well to new, unseen data. We scaled numeric features so they contribute equally based on their relevance. The proper encoding of categorical variables ensured that the model treated these variables without assuming any inherent order.\n",
        "\n",
        "Lastly, we made sure our split was stratified and balanced. This ensures that model evaluation metrics are reliable and that the model’s performance accurately reflects its ability to generalize to unseen data.\n"
      ]
    },
    {
      "cell_type": "markdown",
      "metadata": {
        "id": "DFaodpiClpKV"
      },
      "source": [
        "## Classification Analysis"
      ]
    },
    {
      "cell_type": "markdown",
      "metadata": {
        "id": "_qtnUTWlf0-X"
      },
      "source": [
        "### Analytical goal and the rationale behind choosing classification.\n",
        "\n",
        "The analytical goal of a project is to use machine learning techniques to predict the outcomes of NFL games based on historical and contextual data. The outcome to predict is whether the home team will win or lose a game. This task is approached as a classification problem because each game outcome can be distinctly categorized into one of two classes: 'win' or 'lose'. This classification is based on a comprehensive set of features that capture various aspects of the games, like their settings, and the conditions under which they are played. We also added 2 kinds of data into our model, based on significance established in part 2. We added weather data like wind and temperature, as well as betting data into our model.\n",
        "\n",
        "Both betting and weather data bring external and environmental perspectives that are not captured by team stats and game history alone. Betting odds encapsulate expert and public expectations, which can be predictive of outcomes beyond basic statistical analysis. Similarly, weather impacts the physical play conditions, which are crucial for outdoor sports like football. This forms the basis of our project: Using factors other than stats alone to predict the game outcome.\n"
      ]
    },
    {
      "cell_type": "markdown",
      "metadata": {
        "id": "xAWef7wy-cJP"
      },
      "source": [
        "### Finetuning Classifiers"
      ]
    },
    {
      "cell_type": "markdown",
      "metadata": {
        "id": "DvrRiSi-hOqA"
      },
      "source": [
        "### XGBoost Classifier"
      ]
    },
    {
      "cell_type": "code",
      "execution_count": null,
      "metadata": {
        "colab": {
          "base_uri": "https://localhost:8080/"
        },
        "id": "m49DKeRu-gdQ",
        "outputId": "f4099ba9-f3de-4b2b-c5de-ac357aa64870"
      },
      "outputs": [
        {
          "name": "stdout",
          "output_type": "stream",
          "text": [
            "Fitting 3 folds for each of 18 candidates, totalling 54 fits\n",
            "Best parameters: {'classifier__learning_rate': 0.01, 'classifier__max_depth': 4, 'classifier__n_estimators': 50}\n",
            "Best score: 0.7242484217416393\n",
            "Accuracy: 0.5752136752136752\n",
            "Precision: 0.5751575157515751\n",
            "Recall: 0.9623493975903614\n",
            "F1 Score: 0.72\n"
          ]
        },
        {
          "name": "stderr",
          "output_type": "stream",
          "text": [
            "/usr/local/lib/python3.10/dist-packages/sklearn/preprocessing/_encoders.py:202: UserWarning: Found unknown categories in columns [4] during transform. These unknown categories will be encoded as all zeros\n",
            "  warnings.warn(\n"
          ]
        }
      ],
      "source": [
        "model = Pipeline(steps=[\n",
        "    ('preprocessor', preprocessor),\n",
        "    ('pca', PCA(n_components=0.95)),\n",
        "    ('classifier', XGBClassifier(use_label_encoder=False, eval_metric='logloss', random_state=42))\n",
        "])\n",
        "param_grid = {\n",
        "    'classifier__max_depth': [3, 4, 5],\n",
        "    'classifier__n_estimators': [50, 70, 100],\n",
        "    'classifier__learning_rate': [0.01, 0.1]\n",
        "}\n",
        "# Grid search setup\n",
        "grid_search = GridSearchCV(model, param_grid, cv=3, scoring='f1', verbose=1, n_jobs=-1)\n",
        "\n",
        "# Execute the grid search\n",
        "grid_search.fit(X_train, y_train)\n",
        "\n",
        "# Best parameters and best score from grid search\n",
        "print(\"Best parameters:\", grid_search.best_params_)\n",
        "print(\"Best score:\", grid_search.best_score_)\n",
        "\n",
        "# Predict on the test set with the best parameters\n",
        "y_pred = grid_search.predict(X_test)\n",
        "\n",
        "# Calculate metrics\n",
        "XGBClassifier_accuracy = accuracy_score(y_test, y_pred)\n",
        "XGBClassifier_precision = precision_score(y_test, y_pred)\n",
        "XGBClassifier_recall = recall_score(y_test, y_pred)\n",
        "XGBClassifier_f1 = f1_score(y_test, y_pred)\n",
        "\n",
        "# Output the metrics\n",
        "print(f\"Accuracy: {XGBClassifier_accuracy}\")\n",
        "print(f\"Precision: {XGBClassifier_precision}\")\n",
        "print(f\"Recall: {XGBClassifier_recall}\")\n",
        "print(f\"F1 Score: {XGBClassifier_f1}\")"
      ]
    },
    {
      "cell_type": "markdown",
      "metadata": {
        "id": "LQ8qq8HbhKOb"
      },
      "source": [
        "### RandomForest Classifier"
      ]
    },
    {
      "cell_type": "code",
      "execution_count": null,
      "metadata": {
        "colab": {
          "base_uri": "https://localhost:8080/"
        },
        "id": "IXZg6fBC_B_M",
        "outputId": "72f528b0-cf43-498e-9ebf-4e4aa14e10ed"
      },
      "outputs": [
        {
          "name": "stdout",
          "output_type": "stream",
          "text": [
            "Fitting 3 folds for each of 1 candidates, totalling 3 fits\n",
            "Best parameters: {'classifier__bootstrap': True, 'classifier__max_depth': 5, 'classifier__min_samples_leaf': 2, 'classifier__min_samples_split': 10, 'classifier__n_estimators': 300}\n",
            "Best score: 0.7216252850650525\n",
            "Accuracy: 0.5948717948717949\n",
            "Precision: 0.5906488549618321\n",
            "Recall: 0.9322289156626506\n",
            "F1 Score: 0.7231308411214954\n"
          ]
        },
        {
          "name": "stderr",
          "output_type": "stream",
          "text": [
            "/usr/local/lib/python3.10/dist-packages/sklearn/preprocessing/_encoders.py:202: UserWarning: Found unknown categories in columns [4] during transform. These unknown categories will be encoded as all zeros\n",
            "  warnings.warn(\n"
          ]
        }
      ],
      "source": [
        "model = Pipeline(steps=[\n",
        "    ('preprocessor', preprocessor),\n",
        "    ('pca', PCA(n_components=0.95)),\n",
        "    ('classifier', RandomForestClassifier(random_state=42))\n",
        "])\n",
        "param_grid = {\n",
        "    'classifier__n_estimators': [300, 100, 500],\n",
        "    'classifier__max_depth': [5, 10, 15],\n",
        "    'classifier__min_samples_split': [10, 5, 2],\n",
        "    'classifier__min_samples_leaf': [2, 1, 4],\n",
        "    'classifier__bootstrap': [True, False]\n",
        "}\n",
        "\n",
        "# Grid search setup\n",
        "grid_search = GridSearchCV(model, param_grid, cv=3, scoring='f1', verbose=1, n_jobs=-1)\n",
        "\n",
        "# Execute the grid search\n",
        "grid_search.fit(X_train, y_train)\n",
        "\n",
        "# Best parameters and best score from grid search\n",
        "print(\"Best parameters:\", grid_search.best_params_)\n",
        "print(\"Best score:\", grid_search.best_score_)\n",
        "\n",
        "# Predict on the test set with the best parameters\n",
        "y_pred = grid_search.predict(X_test)\n",
        "\n",
        "# Calculate metrics\n",
        "RandomForest_accuracy = accuracy_score(y_test, y_pred)\n",
        "RandomForest_precision = precision_score(y_test, y_pred)\n",
        "RandomForest_recall = recall_score(y_test, y_pred)\n",
        "RandomForest_f1 = f1_score(y_test, y_pred)\n",
        "\n",
        "# Output the metrics\n",
        "print(f\"Accuracy: {RandomForest_accuracy}\")\n",
        "print(f\"Precision: {RandomForest_precision}\")\n",
        "print(f\"Recall: {RandomForest_recall}\")\n",
        "print(f\"F1 Score: {RandomForest_f1}\")\n"
      ]
    },
    {
      "cell_type": "markdown",
      "metadata": {
        "id": "DGKGtFlIhBaB"
      },
      "source": [
        "### Logistic Regression"
      ]
    },
    {
      "cell_type": "code",
      "execution_count": null,
      "metadata": {
        "colab": {
          "base_uri": "https://localhost:8080/"
        },
        "id": "tkswONNv_J69",
        "outputId": "303f5e55-f456-45c2-b682-6a701002088c"
      },
      "outputs": [
        {
          "name": "stdout",
          "output_type": "stream",
          "text": [
            "Fitting 3 folds for each of 18 candidates, totalling 54 fits\n",
            "Best parameters: {'classifier__C': 0.001, 'classifier__max_iter': 100, 'classifier__penalty': 'l2'}\n",
            "Best score: 0.7227460138033548\n",
            "Accuracy: 0.5683760683760684\n",
            "Precision: 0.5695538057742782\n",
            "Recall: 0.9804216867469879\n",
            "F1 Score: 0.7205312672938572\n"
          ]
        },
        {
          "name": "stderr",
          "output_type": "stream",
          "text": [
            "/usr/local/lib/python3.10/dist-packages/sklearn/preprocessing/_encoders.py:202: UserWarning: Found unknown categories in columns [4] during transform. These unknown categories will be encoded as all zeros\n",
            "  warnings.warn(\n"
          ]
        }
      ],
      "source": [
        "model = Pipeline(steps=[\n",
        "    ('preprocessor', preprocessor),\n",
        "    ('pca', PCA(n_components=0.95)),\n",
        "    ('classifier', LogisticRegression(random_state=42))\n",
        "])\n",
        "\n",
        "# Define a grid for GridSearch\n",
        "param_grid = {\n",
        "    'classifier__C': [0.001, 0.01, 0.1, 1, 10, 100],\n",
        "    'classifier__penalty': ['l2'],\n",
        "    'classifier__max_iter': [100, 20, 50]\n",
        "}\n",
        "\n",
        "# Grid search setup\n",
        "grid_search = GridSearchCV(model, param_grid, cv=3, scoring='f1', verbose=1, n_jobs=-1)\n",
        "\n",
        "# Execute the grid search\n",
        "grid_search.fit(X_train, y_train)\n",
        "\n",
        "# Best parameters and best score from grid search\n",
        "print(\"Best parameters:\", grid_search.best_params_)\n",
        "print(\"Best score:\", grid_search.best_score_)\n",
        "\n",
        "# Predict on the test set with the best parameters\n",
        "y_pred = grid_search.predict(X_test)\n",
        "\n",
        "# Calculate metrics\n",
        "Log_accuracy = accuracy_score(y_test, y_pred)\n",
        "Log_precision = precision_score(y_test, y_pred)\n",
        "Log_recall = recall_score(y_test, y_pred)\n",
        "Log_f1 = f1_score(y_test, y_pred)\n",
        "\n",
        "# Output the metrics\n",
        "print(f\"Accuracy: {Log_accuracy}\")\n",
        "print(f\"Precision: {Log_precision}\")\n",
        "print(f\"Recall: {Log_recall}\")\n",
        "print(f\"F1 Score: {Log_f1}\")"
      ]
    },
    {
      "cell_type": "markdown",
      "metadata": {
        "id": "aeyNHjShg8We"
      },
      "source": [
        "## KNN Classifier"
      ]
    },
    {
      "cell_type": "code",
      "execution_count": null,
      "metadata": {
        "colab": {
          "base_uri": "https://localhost:8080/"
        },
        "id": "967KCDQO_Z-B",
        "outputId": "9ff0e83a-8d33-40c5-9278-7a98db58bcb2"
      },
      "outputs": [
        {
          "name": "stdout",
          "output_type": "stream",
          "text": [
            "Fitting 3 folds for each of 24 candidates, totalling 72 fits\n",
            "Best parameters: {'classifier__metric': 'manhattan', 'classifier__n_neighbors': 31, 'classifier__weights': 'distance'}\n",
            "Best score: 0.6900875073440599\n"
          ]
        },
        {
          "name": "stderr",
          "output_type": "stream",
          "text": [
            "/usr/local/lib/python3.10/dist-packages/sklearn/preprocessing/_encoders.py:202: UserWarning: Found unknown categories in columns [4] during transform. These unknown categories will be encoded as all zeros\n",
            "  warnings.warn(\n"
          ]
        },
        {
          "name": "stdout",
          "output_type": "stream",
          "text": [
            "Accuracy: 0.6076923076923076\n",
            "Precision: 0.6176808266360505\n",
            "Recall: 0.8102409638554217\n",
            "F1 Score: 0.7009771986970683\n"
          ]
        }
      ],
      "source": [
        "model = Pipeline(steps=[\n",
        "    ('preprocessor', preprocessor),\n",
        "    ('pca', PCA(n_components=0.95)),\n",
        "    ('classifier', KNeighborsClassifier())\n",
        "])\n",
        "\n",
        "# Define a grid for GridSearch\n",
        "param_grid = {\n",
        "    'classifier__n_neighbors': [3, 5, 11, 19,25,31],\n",
        "    'classifier__weights': ['uniform', 'distance'],\n",
        "    'classifier__metric': ['euclidean', 'manhattan']\n",
        "}\n",
        "\n",
        "# Grid search setup\n",
        "grid_search = GridSearchCV(model, param_grid, cv=3, scoring='f1', verbose=1, n_jobs=-1)\n",
        "\n",
        "# Execute the grid search\n",
        "grid_search.fit(X_train, y_train)\n",
        "\n",
        "# Best parameters and best score from grid search\n",
        "print(\"Best parameters:\", grid_search.best_params_)\n",
        "print(\"Best score:\", grid_search.best_score_)\n",
        "\n",
        "# Predict on the test set with the best parameters\n",
        "y_pred = grid_search.predict(X_test)\n",
        "\n",
        "# Calculate metrics\n",
        "knn_accuracy = accuracy_score(y_test, y_pred)\n",
        "knn_precision = precision_score(y_test, y_pred)\n",
        "knn_recall = recall_score(y_test, y_pred)\n",
        "knn_f1 = f1_score(y_test, y_pred)\n",
        "\n",
        "# Output the metrics\n",
        "print(f\"Accuracy: {knn_accuracy}\")\n",
        "print(f\"Precision: {knn_precision}\")\n",
        "print(f\"Recall: {knn_recall}\")\n",
        "print(f\"F1 Score: {knn_f1}\")"
      ]
    },
    {
      "cell_type": "markdown",
      "metadata": {
        "id": "nu92I_mGg2XF"
      },
      "source": [
        "### Support Vector Classifier"
      ]
    },
    {
      "cell_type": "code",
      "execution_count": null,
      "metadata": {
        "colab": {
          "base_uri": "https://localhost:8080/"
        },
        "id": "XtrCty3p_ySV",
        "outputId": "022806dc-c7fc-4576-e9b9-38e0d35244d6"
      },
      "outputs": [
        {
          "name": "stdout",
          "output_type": "stream",
          "text": [
            "Fitting 3 folds for each of 60 candidates, totalling 180 fits\n",
            "Best parameters: {'classifier__C': 1, 'classifier__degree': 3, 'classifier__gamma': 'auto', 'classifier__kernel': 'poly'}\n",
            "Best score: 0.7246270716141298\n"
          ]
        },
        {
          "name": "stderr",
          "output_type": "stream",
          "text": [
            "/usr/local/lib/python3.10/dist-packages/sklearn/preprocessing/_encoders.py:202: UserWarning: Found unknown categories in columns [4] during transform. These unknown categories will be encoded as all zeros\n",
            "  warnings.warn(\n"
          ]
        },
        {
          "name": "stdout",
          "output_type": "stream",
          "text": [
            "Accuracy: 0.5735042735042735\n",
            "Precision: 0.5714285714285714\n",
            "Recall: 0.9939759036144579\n",
            "F1 Score: 0.725673446948873\n"
          ]
        }
      ],
      "source": [
        "model = Pipeline(steps=[\n",
        "    ('preprocessor', preprocessor),\n",
        "    ('pca', PCA(n_components=0.95)),\n",
        "    ('classifier', SVC())\n",
        "])\n",
        "\n",
        "# Define a grid for GridSearch\n",
        "param_grid = {\n",
        "    'classifier__C': [0.001, 0.01, 0.1, 1, 10],\n",
        "    'classifier__kernel': ['linear', 'rbf', 'poly'],\n",
        "    'classifier__degree': [2, 3],\n",
        "    'classifier__gamma': ['scale', 'auto']\n",
        "}\n",
        "\n",
        "# Grid search setup\n",
        "grid_search = GridSearchCV(model, param_grid, cv=3, scoring='f1', verbose=1, n_jobs=-1)\n",
        "\n",
        "# Execute the grid search\n",
        "grid_search.fit(X_train, y_train)\n",
        "\n",
        "# Best parameters and best score from grid search\n",
        "print(\"Best parameters:\", grid_search.best_params_)\n",
        "print(\"Best score:\", grid_search.best_score_)\n",
        "\n",
        "# Predict on the test set with the best parameters\n",
        "y_pred = grid_search.predict(X_test)\n",
        "\n",
        "# Calculate metrics\n",
        "svc_accuracy = accuracy_score(y_test, y_pred)\n",
        "svc_precision = precision_score(y_test, y_pred)\n",
        "svc_recall = recall_score(y_test, y_pred)\n",
        "svc_f1 = f1_score(y_test, y_pred)\n",
        "\n",
        "# Output the metrics\n",
        "print(f\"Accuracy: {svc_accuracy}\")\n",
        "print(f\"Precision: {svc_precision}\")\n",
        "print(f\"Recall: {svc_recall}\")\n",
        "print(f\"F1 Score: {svc_f1}\")"
      ]
    },
    {
      "cell_type": "markdown",
      "metadata": {
        "id": "yDmQ6_LZDrT_"
      },
      "source": [
        "We define the list of base models for ensemble methods, each configured with specific parameters to optimize performance:"
      ]
    },
    {
      "cell_type": "markdown",
      "metadata": {
        "id": "tfb_1On3-Z2a"
      },
      "source": [
        "### Voting Classifier"
      ]
    },
    {
      "cell_type": "code",
      "execution_count": null,
      "metadata": {
        "id": "Eg0O189hbMhR"
      },
      "outputs": [],
      "source": [
        "base_models = [\n",
        "  ('rf',RandomForestClassifier(max_depth=5, min_samples_leaf=2, min_samples_split=10, n_estimators=300, random_state=42, bootstrap=True)),\n",
        "  ('xgb',XGBClassifier(learning_rate=0.01, max_depth=3, n_estimators=70, random_state=42)),\n",
        "  ('logistic', LogisticRegression(C=0.001, max_iter=100, penalty='l2', random_state=42)),\n",
        "  ('svm', SVC(C=0.01, degree=3, gamma='auto', kernel='poly', random_state=42, probability=True)),\n",
        "  ('knn', KNeighborsClassifier(metric='manhattan', n_neighbors=25, weights='distance'))\n",
        "]"
      ]
    },
    {
      "cell_type": "code",
      "execution_count": null,
      "metadata": {
        "id": "kOtWObyMdE-p"
      },
      "outputs": [],
      "source": [
        "voting_clf = VotingClassifier(\n",
        "    estimators=base_models,\n",
        "    voting='soft')"
      ]
    },
    {
      "cell_type": "code",
      "execution_count": null,
      "metadata": {
        "id": "b0NszR_jcbU0"
      },
      "outputs": [],
      "source": [
        "pipeline = Pipeline(steps=[('preprocessor', preprocessor),\n",
        "                           ('pca', PCA(n_components=0.95)),\n",
        "                           ('classifier', voting_clf)])"
      ]
    },
    {
      "cell_type": "code",
      "execution_count": null,
      "metadata": {
        "colab": {
          "base_uri": "https://localhost:8080/",
          "height": 320
        },
        "id": "NMHKt46xetKP",
        "outputId": "c64263aa-d40d-45f0-8951-68d418abbc66"
      },
      "outputs": [
        {
          "data": {
            "text/html": [
              "<style>#sk-container-id-3 {color: black;background-color: white;}#sk-container-id-3 pre{padding: 0;}#sk-container-id-3 div.sk-toggleable {background-color: white;}#sk-container-id-3 label.sk-toggleable__label {cursor: pointer;display: block;width: 100%;margin-bottom: 0;padding: 0.3em;box-sizing: border-box;text-align: center;}#sk-container-id-3 label.sk-toggleable__label-arrow:before {content: \"▸\";float: left;margin-right: 0.25em;color: #696969;}#sk-container-id-3 label.sk-toggleable__label-arrow:hover:before {color: black;}#sk-container-id-3 div.sk-estimator:hover label.sk-toggleable__label-arrow:before {color: black;}#sk-container-id-3 div.sk-toggleable__content {max-height: 0;max-width: 0;overflow: hidden;text-align: left;background-color: #f0f8ff;}#sk-container-id-3 div.sk-toggleable__content pre {margin: 0.2em;color: black;border-radius: 0.25em;background-color: #f0f8ff;}#sk-container-id-3 input.sk-toggleable__control:checked~div.sk-toggleable__content {max-height: 200px;max-width: 100%;overflow: auto;}#sk-container-id-3 input.sk-toggleable__control:checked~label.sk-toggleable__label-arrow:before {content: \"▾\";}#sk-container-id-3 div.sk-estimator input.sk-toggleable__control:checked~label.sk-toggleable__label {background-color: #d4ebff;}#sk-container-id-3 div.sk-label input.sk-toggleable__control:checked~label.sk-toggleable__label {background-color: #d4ebff;}#sk-container-id-3 input.sk-hidden--visually {border: 0;clip: rect(1px 1px 1px 1px);clip: rect(1px, 1px, 1px, 1px);height: 1px;margin: -1px;overflow: hidden;padding: 0;position: absolute;width: 1px;}#sk-container-id-3 div.sk-estimator {font-family: monospace;background-color: #f0f8ff;border: 1px dotted black;border-radius: 0.25em;box-sizing: border-box;margin-bottom: 0.5em;}#sk-container-id-3 div.sk-estimator:hover {background-color: #d4ebff;}#sk-container-id-3 div.sk-parallel-item::after {content: \"\";width: 100%;border-bottom: 1px solid gray;flex-grow: 1;}#sk-container-id-3 div.sk-label:hover label.sk-toggleable__label {background-color: #d4ebff;}#sk-container-id-3 div.sk-serial::before {content: \"\";position: absolute;border-left: 1px solid gray;box-sizing: border-box;top: 0;bottom: 0;left: 50%;z-index: 0;}#sk-container-id-3 div.sk-serial {display: flex;flex-direction: column;align-items: center;background-color: white;padding-right: 0.2em;padding-left: 0.2em;position: relative;}#sk-container-id-3 div.sk-item {position: relative;z-index: 1;}#sk-container-id-3 div.sk-parallel {display: flex;align-items: stretch;justify-content: center;background-color: white;position: relative;}#sk-container-id-3 div.sk-item::before, #sk-container-id-3 div.sk-parallel-item::before {content: \"\";position: absolute;border-left: 1px solid gray;box-sizing: border-box;top: 0;bottom: 0;left: 50%;z-index: -1;}#sk-container-id-3 div.sk-parallel-item {display: flex;flex-direction: column;z-index: 1;position: relative;background-color: white;}#sk-container-id-3 div.sk-parallel-item:first-child::after {align-self: flex-end;width: 50%;}#sk-container-id-3 div.sk-parallel-item:last-child::after {align-self: flex-start;width: 50%;}#sk-container-id-3 div.sk-parallel-item:only-child::after {width: 0;}#sk-container-id-3 div.sk-dashed-wrapped {border: 1px dashed gray;margin: 0 0.4em 0.5em 0.4em;box-sizing: border-box;padding-bottom: 0.4em;background-color: white;}#sk-container-id-3 div.sk-label label {font-family: monospace;font-weight: bold;display: inline-block;line-height: 1.2em;}#sk-container-id-3 div.sk-label-container {text-align: center;}#sk-container-id-3 div.sk-container {/* jupyter's `normalize.less` sets `[hidden] { display: none; }` but bootstrap.min.css set `[hidden] { display: none !important; }` so we also need the `!important` here to be able to override the default hidden behavior on the sphinx rendered scikit-learn.org. See: https://github.com/scikit-learn/scikit-learn/issues/21755 */display: inline-block !important;position: relative;}#sk-container-id-3 div.sk-text-repr-fallback {display: none;}</style><div id=\"sk-container-id-3\" class=\"sk-top-container\"><div class=\"sk-text-repr-fallback\"><pre>Pipeline(steps=[(&#x27;preprocessor&#x27;,\n",
              "                 ColumnTransformer(transformers=[(&#x27;num&#x27;,\n",
              "                                                  Pipeline(steps=[(&#x27;num_imputer&#x27;,\n",
              "                                                                   SimpleImputer(strategy=&#x27;median&#x27;)),\n",
              "                                                                  (&#x27;scaler&#x27;,\n",
              "                                                                   StandardScaler())]),\n",
              "                                                  [&#x27;schedule_season&#x27;,\n",
              "                                                   &#x27;spread_favorite&#x27;,\n",
              "                                                   &#x27;over_under_line&#x27;,\n",
              "                                                   &#x27;stadium_neutral&#x27;,\n",
              "                                                   &#x27;weather_temperature&#x27;,\n",
              "                                                   &#x27;weather_wind_mph&#x27;, &#x27;season&#x27;,\n",
              "                                                   &#x27;week&#x27;, &#x27;gatetime&#x27;]),\n",
              "                                                 (&#x27;cat&#x27;,\n",
              "                                                  Pipeline(steps=[(&#x27;onehot&#x27;,\n",
              "                                                                   OneHotEn...\n",
              "                                                             monotone_constraints=None,\n",
              "                                                             multi_strategy=None,\n",
              "                                                             n_estimators=70,\n",
              "                                                             n_jobs=None,\n",
              "                                                             num_parallel_tree=None,\n",
              "                                                             random_state=42, ...)),\n",
              "                                              (&#x27;logistic&#x27;,\n",
              "                                               LogisticRegression(C=0.001,\n",
              "                                                                  random_state=42)),\n",
              "                                              (&#x27;svm&#x27;,\n",
              "                                               SVC(C=0.01, gamma=&#x27;auto&#x27;,\n",
              "                                                   kernel=&#x27;poly&#x27;,\n",
              "                                                   probability=True,\n",
              "                                                   random_state=42)),\n",
              "                                              (&#x27;knn&#x27;,\n",
              "                                               KNeighborsClassifier(metric=&#x27;manhattan&#x27;,\n",
              "                                                                    n_neighbors=25,\n",
              "                                                                    weights=&#x27;distance&#x27;))],\n",
              "                                  voting=&#x27;soft&#x27;))])</pre><b>In a Jupyter environment, please rerun this cell to show the HTML representation or trust the notebook. <br />On GitHub, the HTML representation is unable to render, please try loading this page with nbviewer.org.</b></div><div class=\"sk-container\" hidden><div class=\"sk-item sk-dashed-wrapped\"><div class=\"sk-label-container\"><div class=\"sk-label sk-toggleable\"><input class=\"sk-toggleable__control sk-hidden--visually\" id=\"sk-estimator-id-29\" type=\"checkbox\" ><label for=\"sk-estimator-id-29\" class=\"sk-toggleable__label sk-toggleable__label-arrow\">Pipeline</label><div class=\"sk-toggleable__content\"><pre>Pipeline(steps=[(&#x27;preprocessor&#x27;,\n",
              "                 ColumnTransformer(transformers=[(&#x27;num&#x27;,\n",
              "                                                  Pipeline(steps=[(&#x27;num_imputer&#x27;,\n",
              "                                                                   SimpleImputer(strategy=&#x27;median&#x27;)),\n",
              "                                                                  (&#x27;scaler&#x27;,\n",
              "                                                                   StandardScaler())]),\n",
              "                                                  [&#x27;schedule_season&#x27;,\n",
              "                                                   &#x27;spread_favorite&#x27;,\n",
              "                                                   &#x27;over_under_line&#x27;,\n",
              "                                                   &#x27;stadium_neutral&#x27;,\n",
              "                                                   &#x27;weather_temperature&#x27;,\n",
              "                                                   &#x27;weather_wind_mph&#x27;, &#x27;season&#x27;,\n",
              "                                                   &#x27;week&#x27;, &#x27;gatetime&#x27;]),\n",
              "                                                 (&#x27;cat&#x27;,\n",
              "                                                  Pipeline(steps=[(&#x27;onehot&#x27;,\n",
              "                                                                   OneHotEn...\n",
              "                                                             monotone_constraints=None,\n",
              "                                                             multi_strategy=None,\n",
              "                                                             n_estimators=70,\n",
              "                                                             n_jobs=None,\n",
              "                                                             num_parallel_tree=None,\n",
              "                                                             random_state=42, ...)),\n",
              "                                              (&#x27;logistic&#x27;,\n",
              "                                               LogisticRegression(C=0.001,\n",
              "                                                                  random_state=42)),\n",
              "                                              (&#x27;svm&#x27;,\n",
              "                                               SVC(C=0.01, gamma=&#x27;auto&#x27;,\n",
              "                                                   kernel=&#x27;poly&#x27;,\n",
              "                                                   probability=True,\n",
              "                                                   random_state=42)),\n",
              "                                              (&#x27;knn&#x27;,\n",
              "                                               KNeighborsClassifier(metric=&#x27;manhattan&#x27;,\n",
              "                                                                    n_neighbors=25,\n",
              "                                                                    weights=&#x27;distance&#x27;))],\n",
              "                                  voting=&#x27;soft&#x27;))])</pre></div></div></div><div class=\"sk-serial\"><div class=\"sk-item sk-dashed-wrapped\"><div class=\"sk-label-container\"><div class=\"sk-label sk-toggleable\"><input class=\"sk-toggleable__control sk-hidden--visually\" id=\"sk-estimator-id-30\" type=\"checkbox\" ><label for=\"sk-estimator-id-30\" class=\"sk-toggleable__label sk-toggleable__label-arrow\">preprocessor: ColumnTransformer</label><div class=\"sk-toggleable__content\"><pre>ColumnTransformer(transformers=[(&#x27;num&#x27;,\n",
              "                                 Pipeline(steps=[(&#x27;num_imputer&#x27;,\n",
              "                                                  SimpleImputer(strategy=&#x27;median&#x27;)),\n",
              "                                                 (&#x27;scaler&#x27;, StandardScaler())]),\n",
              "                                 [&#x27;schedule_season&#x27;, &#x27;spread_favorite&#x27;,\n",
              "                                  &#x27;over_under_line&#x27;, &#x27;stadium_neutral&#x27;,\n",
              "                                  &#x27;weather_temperature&#x27;, &#x27;weather_wind_mph&#x27;,\n",
              "                                  &#x27;season&#x27;, &#x27;week&#x27;, &#x27;gatetime&#x27;]),\n",
              "                                (&#x27;cat&#x27;,\n",
              "                                 Pipeline(steps=[(&#x27;onehot&#x27;,\n",
              "                                                  OneHotEncoder(drop=&#x27;first&#x27;,\n",
              "                                                                handle_unknown=&#x27;ignore&#x27;,\n",
              "                                                                sparse_output=False))]),\n",
              "                                 [&#x27;schedule_week&#x27;, &#x27;team_home&#x27;, &#x27;team_away&#x27;,\n",
              "                                  &#x27;team_favorite_id&#x27;, &#x27;stadium_x&#x27;, &#x27;game_type&#x27;,\n",
              "                                  &#x27;weekday&#x27;, &#x27;location&#x27;, &#x27;roof&#x27;, &#x27;surface&#x27;,\n",
              "                                  &#x27;Temp_Cat&#x27;, &#x27;Wind_Cat&#x27;])])</pre></div></div></div><div class=\"sk-parallel\"><div class=\"sk-parallel-item\"><div class=\"sk-item\"><div class=\"sk-label-container\"><div class=\"sk-label sk-toggleable\"><input class=\"sk-toggleable__control sk-hidden--visually\" id=\"sk-estimator-id-31\" type=\"checkbox\" ><label for=\"sk-estimator-id-31\" class=\"sk-toggleable__label sk-toggleable__label-arrow\">num</label><div class=\"sk-toggleable__content\"><pre>[&#x27;schedule_season&#x27;, &#x27;spread_favorite&#x27;, &#x27;over_under_line&#x27;, &#x27;stadium_neutral&#x27;, &#x27;weather_temperature&#x27;, &#x27;weather_wind_mph&#x27;, &#x27;season&#x27;, &#x27;week&#x27;, &#x27;gatetime&#x27;]</pre></div></div></div><div class=\"sk-serial\"><div class=\"sk-item\"><div class=\"sk-serial\"><div class=\"sk-item\"><div class=\"sk-estimator sk-toggleable\"><input class=\"sk-toggleable__control sk-hidden--visually\" id=\"sk-estimator-id-32\" type=\"checkbox\" ><label for=\"sk-estimator-id-32\" class=\"sk-toggleable__label sk-toggleable__label-arrow\">SimpleImputer</label><div class=\"sk-toggleable__content\"><pre>SimpleImputer(strategy=&#x27;median&#x27;)</pre></div></div></div><div class=\"sk-item\"><div class=\"sk-estimator sk-toggleable\"><input class=\"sk-toggleable__control sk-hidden--visually\" id=\"sk-estimator-id-33\" type=\"checkbox\" ><label for=\"sk-estimator-id-33\" class=\"sk-toggleable__label sk-toggleable__label-arrow\">StandardScaler</label><div class=\"sk-toggleable__content\"><pre>StandardScaler()</pre></div></div></div></div></div></div></div></div><div class=\"sk-parallel-item\"><div class=\"sk-item\"><div class=\"sk-label-container\"><div class=\"sk-label sk-toggleable\"><input class=\"sk-toggleable__control sk-hidden--visually\" id=\"sk-estimator-id-34\" type=\"checkbox\" ><label for=\"sk-estimator-id-34\" class=\"sk-toggleable__label sk-toggleable__label-arrow\">cat</label><div class=\"sk-toggleable__content\"><pre>[&#x27;schedule_week&#x27;, &#x27;team_home&#x27;, &#x27;team_away&#x27;, &#x27;team_favorite_id&#x27;, &#x27;stadium_x&#x27;, &#x27;game_type&#x27;, &#x27;weekday&#x27;, &#x27;location&#x27;, &#x27;roof&#x27;, &#x27;surface&#x27;, &#x27;Temp_Cat&#x27;, &#x27;Wind_Cat&#x27;]</pre></div></div></div><div class=\"sk-serial\"><div class=\"sk-item\"><div class=\"sk-serial\"><div class=\"sk-item\"><div class=\"sk-estimator sk-toggleable\"><input class=\"sk-toggleable__control sk-hidden--visually\" id=\"sk-estimator-id-35\" type=\"checkbox\" ><label for=\"sk-estimator-id-35\" class=\"sk-toggleable__label sk-toggleable__label-arrow\">OneHotEncoder</label><div class=\"sk-toggleable__content\"><pre>OneHotEncoder(drop=&#x27;first&#x27;, handle_unknown=&#x27;ignore&#x27;, sparse_output=False)</pre></div></div></div></div></div></div></div></div></div></div><div class=\"sk-item\"><div class=\"sk-estimator sk-toggleable\"><input class=\"sk-toggleable__control sk-hidden--visually\" id=\"sk-estimator-id-36\" type=\"checkbox\" ><label for=\"sk-estimator-id-36\" class=\"sk-toggleable__label sk-toggleable__label-arrow\">PCA</label><div class=\"sk-toggleable__content\"><pre>PCA(n_components=0.95)</pre></div></div></div><div class=\"sk-item sk-dashed-wrapped\"><div class=\"sk-label-container\"><div class=\"sk-label sk-toggleable\"><input class=\"sk-toggleable__control sk-hidden--visually\" id=\"sk-estimator-id-37\" type=\"checkbox\" ><label for=\"sk-estimator-id-37\" class=\"sk-toggleable__label sk-toggleable__label-arrow\">classifier: VotingClassifier</label><div class=\"sk-toggleable__content\"><pre>VotingClassifier(estimators=[(&#x27;rf&#x27;,\n",
              "                              RandomForestClassifier(max_depth=5,\n",
              "                                                     min_samples_leaf=2,\n",
              "                                                     min_samples_split=10,\n",
              "                                                     n_estimators=300,\n",
              "                                                     random_state=42)),\n",
              "                             (&#x27;xgb&#x27;,\n",
              "                              XGBClassifier(base_score=None, booster=None,\n",
              "                                            callbacks=None,\n",
              "                                            colsample_bylevel=None,\n",
              "                                            colsample_bynode=None,\n",
              "                                            colsample_bytree=None, device=None,\n",
              "                                            early_stopping_rounds=None,\n",
              "                                            enable_categorical=False,\n",
              "                                            eval_metr...\n",
              "                                            monotone_constraints=None,\n",
              "                                            multi_strategy=None,\n",
              "                                            n_estimators=70, n_jobs=None,\n",
              "                                            num_parallel_tree=None,\n",
              "                                            random_state=42, ...)),\n",
              "                             (&#x27;logistic&#x27;,\n",
              "                              LogisticRegression(C=0.001, random_state=42)),\n",
              "                             (&#x27;svm&#x27;,\n",
              "                              SVC(C=0.01, gamma=&#x27;auto&#x27;, kernel=&#x27;poly&#x27;,\n",
              "                                  probability=True, random_state=42)),\n",
              "                             (&#x27;knn&#x27;,\n",
              "                              KNeighborsClassifier(metric=&#x27;manhattan&#x27;,\n",
              "                                                   n_neighbors=25,\n",
              "                                                   weights=&#x27;distance&#x27;))],\n",
              "                 voting=&#x27;soft&#x27;)</pre></div></div></div><div class=\"sk-parallel\"><div class=\"sk-parallel-item\"><div class=\"sk-item\"><div class=\"sk-label-container\"><div class=\"sk-label sk-toggleable\"><label>rf</label></div></div><div class=\"sk-serial\"><div class=\"sk-item\"><div class=\"sk-estimator sk-toggleable\"><input class=\"sk-toggleable__control sk-hidden--visually\" id=\"sk-estimator-id-38\" type=\"checkbox\" ><label for=\"sk-estimator-id-38\" class=\"sk-toggleable__label sk-toggleable__label-arrow\">RandomForestClassifier</label><div class=\"sk-toggleable__content\"><pre>RandomForestClassifier(max_depth=5, min_samples_leaf=2, min_samples_split=10,\n",
              "                       n_estimators=300, random_state=42)</pre></div></div></div></div></div></div><div class=\"sk-parallel-item\"><div class=\"sk-item\"><div class=\"sk-label-container\"><div class=\"sk-label sk-toggleable\"><label>xgb</label></div></div><div class=\"sk-serial\"><div class=\"sk-item\"><div class=\"sk-estimator sk-toggleable\"><input class=\"sk-toggleable__control sk-hidden--visually\" id=\"sk-estimator-id-39\" type=\"checkbox\" ><label for=\"sk-estimator-id-39\" class=\"sk-toggleable__label sk-toggleable__label-arrow\">XGBClassifier</label><div class=\"sk-toggleable__content\"><pre>XGBClassifier(base_score=None, booster=None, callbacks=None,\n",
              "              colsample_bylevel=None, colsample_bynode=None,\n",
              "              colsample_bytree=None, device=None, early_stopping_rounds=None,\n",
              "              enable_categorical=False, eval_metric=None, feature_types=None,\n",
              "              gamma=None, grow_policy=None, importance_type=None,\n",
              "              interaction_constraints=None, learning_rate=0.01, max_bin=None,\n",
              "              max_cat_threshold=None, max_cat_to_onehot=None,\n",
              "              max_delta_step=None, max_depth=3, max_leaves=None,\n",
              "              min_child_weight=None, missing=nan, monotone_constraints=None,\n",
              "              multi_strategy=None, n_estimators=70, n_jobs=None,\n",
              "              num_parallel_tree=None, random_state=42, ...)</pre></div></div></div></div></div></div><div class=\"sk-parallel-item\"><div class=\"sk-item\"><div class=\"sk-label-container\"><div class=\"sk-label sk-toggleable\"><label>logistic</label></div></div><div class=\"sk-serial\"><div class=\"sk-item\"><div class=\"sk-estimator sk-toggleable\"><input class=\"sk-toggleable__control sk-hidden--visually\" id=\"sk-estimator-id-40\" type=\"checkbox\" ><label for=\"sk-estimator-id-40\" class=\"sk-toggleable__label sk-toggleable__label-arrow\">LogisticRegression</label><div class=\"sk-toggleable__content\"><pre>LogisticRegression(C=0.001, random_state=42)</pre></div></div></div></div></div></div><div class=\"sk-parallel-item\"><div class=\"sk-item\"><div class=\"sk-label-container\"><div class=\"sk-label sk-toggleable\"><label>svm</label></div></div><div class=\"sk-serial\"><div class=\"sk-item\"><div class=\"sk-estimator sk-toggleable\"><input class=\"sk-toggleable__control sk-hidden--visually\" id=\"sk-estimator-id-41\" type=\"checkbox\" ><label for=\"sk-estimator-id-41\" class=\"sk-toggleable__label sk-toggleable__label-arrow\">SVC</label><div class=\"sk-toggleable__content\"><pre>SVC(C=0.01, gamma=&#x27;auto&#x27;, kernel=&#x27;poly&#x27;, probability=True, random_state=42)</pre></div></div></div></div></div></div><div class=\"sk-parallel-item\"><div class=\"sk-item\"><div class=\"sk-label-container\"><div class=\"sk-label sk-toggleable\"><label>knn</label></div></div><div class=\"sk-serial\"><div class=\"sk-item\"><div class=\"sk-estimator sk-toggleable\"><input class=\"sk-toggleable__control sk-hidden--visually\" id=\"sk-estimator-id-42\" type=\"checkbox\" ><label for=\"sk-estimator-id-42\" class=\"sk-toggleable__label sk-toggleable__label-arrow\">KNeighborsClassifier</label><div class=\"sk-toggleable__content\"><pre>KNeighborsClassifier(metric=&#x27;manhattan&#x27;, n_neighbors=25, weights=&#x27;distance&#x27;)</pre></div></div></div></div></div></div></div></div></div></div></div></div>"
            ],
            "text/plain": [
              "Pipeline(steps=[('preprocessor',\n",
              "                 ColumnTransformer(transformers=[('num',\n",
              "                                                  Pipeline(steps=[('num_imputer',\n",
              "                                                                   SimpleImputer(strategy='median')),\n",
              "                                                                  ('scaler',\n",
              "                                                                   StandardScaler())]),\n",
              "                                                  ['schedule_season',\n",
              "                                                   'spread_favorite',\n",
              "                                                   'over_under_line',\n",
              "                                                   'stadium_neutral',\n",
              "                                                   'weather_temperature',\n",
              "                                                   'weather_wind_mph', 'season',\n",
              "                                                   'week', 'gatetime']),\n",
              "                                                 ('cat',\n",
              "                                                  Pipeline(steps=[('onehot',\n",
              "                                                                   OneHotEn...\n",
              "                                                             monotone_constraints=None,\n",
              "                                                             multi_strategy=None,\n",
              "                                                             n_estimators=70,\n",
              "                                                             n_jobs=None,\n",
              "                                                             num_parallel_tree=None,\n",
              "                                                             random_state=42, ...)),\n",
              "                                              ('logistic',\n",
              "                                               LogisticRegression(C=0.001,\n",
              "                                                                  random_state=42)),\n",
              "                                              ('svm',\n",
              "                                               SVC(C=0.01, gamma='auto',\n",
              "                                                   kernel='poly',\n",
              "                                                   probability=True,\n",
              "                                                   random_state=42)),\n",
              "                                              ('knn',\n",
              "                                               KNeighborsClassifier(metric='manhattan',\n",
              "                                                                    n_neighbors=25,\n",
              "                                                                    weights='distance'))],\n",
              "                                  voting='soft'))])"
            ]
          },
          "execution_count": 142,
          "metadata": {},
          "output_type": "execute_result"
        }
      ],
      "source": [
        "pipeline.fit(X_train, y_train)"
      ]
    },
    {
      "cell_type": "code",
      "execution_count": null,
      "metadata": {
        "colab": {
          "base_uri": "https://localhost:8080/"
        },
        "id": "zUnplBqnetn_",
        "outputId": "5cba89c1-117f-4de4-ad7d-8e40b0453fc9"
      },
      "outputs": [
        {
          "name": "stderr",
          "output_type": "stream",
          "text": [
            "/usr/local/lib/python3.10/dist-packages/sklearn/preprocessing/_encoders.py:202: UserWarning: Found unknown categories in columns [4] during transform. These unknown categories will be encoded as all zeros\n",
            "  warnings.warn(\n"
          ]
        }
      ],
      "source": [
        "y_pred = pipeline.predict(X_test)"
      ]
    },
    {
      "cell_type": "code",
      "execution_count": null,
      "metadata": {
        "colab": {
          "base_uri": "https://localhost:8080/"
        },
        "id": "q4uKEfbwlzFV",
        "outputId": "c7089ebf-2f4c-4c53-c166-83dd0bd65914"
      },
      "outputs": [
        {
          "name": "stdout",
          "output_type": "stream",
          "text": [
            "Accuracy: 0.5854700854700855\n",
            "Precision: 0.5811423390752494\n",
            "Recall: 0.9653614457831325\n",
            "F1 Score: 0.7255234861346916\n"
          ]
        }
      ],
      "source": [
        "# Evaluation\n",
        "vot_accuracy = accuracy_score(y_test, y_pred)\n",
        "vot_precision = precision_score(y_test, y_pred)\n",
        "vot_recall = recall_score(y_test, y_pred)\n",
        "vot_f1 = f1_score(y_test, y_pred)\n",
        "\n",
        "# Output the metrics\n",
        "print(f\"Accuracy: {vot_accuracy}\")\n",
        "print(f\"Precision: {vot_precision}\")\n",
        "print(f\"Recall: {vot_recall}\")\n",
        "print(f\"F1 Score: {vot_f1}\")"
      ]
    },
    {
      "cell_type": "markdown",
      "metadata": {
        "id": "S0wjE5idpAgU"
      },
      "source": [
        "### Stacked classifier"
      ]
    },
    {
      "cell_type": "code",
      "execution_count": null,
      "metadata": {
        "id": "K3WtKd-gnEJm"
      },
      "outputs": [],
      "source": [
        "final_classifier = XGBClassifier(use_label_encoder=False, eval_metric='logloss', random_state=42)"
      ]
    },
    {
      "cell_type": "code",
      "execution_count": null,
      "metadata": {
        "id": "70KZ3VS_pFPQ"
      },
      "outputs": [],
      "source": [
        "stack = StackingClassifier(estimators=base_models, final_estimator=final_classifier, cv=5)"
      ]
    },
    {
      "cell_type": "code",
      "execution_count": null,
      "metadata": {
        "id": "43wHZvl7pTJP"
      },
      "outputs": [],
      "source": [
        "pipeline = Pipeline([\n",
        "    ('preprocessor', preprocessor),\n",
        "    ('stack', StackingClassifier(\n",
        "        estimators=base_models,\n",
        "        final_estimator=XGBClassifier(use_label_encoder=False, eval_metric='logloss', random_state=42),\n",
        "        cv=5\n",
        "    ))\n",
        "])"
      ]
    },
    {
      "cell_type": "code",
      "execution_count": null,
      "metadata": {
        "id": "EwKekilXzIZj"
      },
      "outputs": [],
      "source": [
        "# Define parameter grid for the final classifier (XGBoost)\n",
        "param_distributions = {\n",
        "    'stack__final_estimator__max_depth': [7, 10, 15],\n",
        "    'stack__final_estimator__learning_rate': [0.01, 0.001],\n",
        "    'stack__final_estimator__n_estimators': [300, 500],\n",
        "}"
      ]
    },
    {
      "cell_type": "code",
      "execution_count": null,
      "metadata": {
        "colab": {
          "base_uri": "https://localhost:8080/"
        },
        "id": "mSy8zlZ5zijh",
        "outputId": "0817e84a-ffb6-473e-c1ab-3c788bbab022"
      },
      "outputs": [
        {
          "name": "stdout",
          "output_type": "stream",
          "text": [
            "Fitting 3 folds for each of 8 candidates, totalling 24 fits\n",
            "[CV 1/3; 1/8] START stack__final_estimator__learning_rate=0.001, stack__final_estimator__max_depth=15, stack__final_estimator__n_estimators=300\n"
          ]
        },
        {
          "name": "stderr",
          "output_type": "stream",
          "text": [
            "/usr/local/lib/python3.10/dist-packages/sklearn/preprocessing/_encoders.py:202: UserWarning: Found unknown categories in columns [4, 11] during transform. These unknown categories will be encoded as all zeros\n",
            "  warnings.warn(\n"
          ]
        },
        {
          "name": "stdout",
          "output_type": "stream",
          "text": [
            "[CV 1/3; 1/8] END stack__final_estimator__learning_rate=0.001, stack__final_estimator__max_depth=15, stack__final_estimator__n_estimators=300;, score=0.570 total time=  40.6s\n",
            "[CV 2/3; 1/8] START stack__final_estimator__learning_rate=0.001, stack__final_estimator__max_depth=15, stack__final_estimator__n_estimators=300\n"
          ]
        },
        {
          "name": "stderr",
          "output_type": "stream",
          "text": [
            "/usr/local/lib/python3.10/dist-packages/sklearn/preprocessing/_encoders.py:202: UserWarning: Found unknown categories in columns [4] during transform. These unknown categories will be encoded as all zeros\n",
            "  warnings.warn(\n"
          ]
        },
        {
          "name": "stdout",
          "output_type": "stream",
          "text": [
            "[CV 2/3; 1/8] END stack__final_estimator__learning_rate=0.001, stack__final_estimator__max_depth=15, stack__final_estimator__n_estimators=300;, score=0.582 total time=  40.6s\n",
            "[CV 3/3; 1/8] START stack__final_estimator__learning_rate=0.001, stack__final_estimator__max_depth=15, stack__final_estimator__n_estimators=300\n"
          ]
        },
        {
          "name": "stderr",
          "output_type": "stream",
          "text": [
            "/usr/local/lib/python3.10/dist-packages/sklearn/preprocessing/_encoders.py:202: UserWarning: Found unknown categories in columns [4, 6] during transform. These unknown categories will be encoded as all zeros\n",
            "  warnings.warn(\n"
          ]
        },
        {
          "name": "stdout",
          "output_type": "stream",
          "text": [
            "[CV 3/3; 1/8] END stack__final_estimator__learning_rate=0.001, stack__final_estimator__max_depth=15, stack__final_estimator__n_estimators=300;, score=0.577 total time=  40.5s\n",
            "[CV 1/3; 2/8] START stack__final_estimator__learning_rate=0.001, stack__final_estimator__max_depth=10, stack__final_estimator__n_estimators=500\n"
          ]
        },
        {
          "name": "stderr",
          "output_type": "stream",
          "text": [
            "/usr/local/lib/python3.10/dist-packages/sklearn/preprocessing/_encoders.py:202: UserWarning: Found unknown categories in columns [4, 11] during transform. These unknown categories will be encoded as all zeros\n",
            "  warnings.warn(\n"
          ]
        },
        {
          "name": "stdout",
          "output_type": "stream",
          "text": [
            "[CV 1/3; 2/8] END stack__final_estimator__learning_rate=0.001, stack__final_estimator__max_depth=10, stack__final_estimator__n_estimators=500;, score=0.580 total time=  39.2s\n",
            "[CV 2/3; 2/8] START stack__final_estimator__learning_rate=0.001, stack__final_estimator__max_depth=10, stack__final_estimator__n_estimators=500\n"
          ]
        },
        {
          "name": "stderr",
          "output_type": "stream",
          "text": [
            "/usr/local/lib/python3.10/dist-packages/sklearn/preprocessing/_encoders.py:202: UserWarning: Found unknown categories in columns [4] during transform. These unknown categories will be encoded as all zeros\n",
            "  warnings.warn(\n"
          ]
        },
        {
          "name": "stdout",
          "output_type": "stream",
          "text": [
            "[CV 2/3; 2/8] END stack__final_estimator__learning_rate=0.001, stack__final_estimator__max_depth=10, stack__final_estimator__n_estimators=500;, score=0.570 total time=  39.4s\n",
            "[CV 3/3; 2/8] START stack__final_estimator__learning_rate=0.001, stack__final_estimator__max_depth=10, stack__final_estimator__n_estimators=500\n"
          ]
        },
        {
          "name": "stderr",
          "output_type": "stream",
          "text": [
            "/usr/local/lib/python3.10/dist-packages/sklearn/preprocessing/_encoders.py:202: UserWarning: Found unknown categories in columns [4, 6] during transform. These unknown categories will be encoded as all zeros\n",
            "  warnings.warn(\n"
          ]
        },
        {
          "name": "stdout",
          "output_type": "stream",
          "text": [
            "[CV 3/3; 2/8] END stack__final_estimator__learning_rate=0.001, stack__final_estimator__max_depth=10, stack__final_estimator__n_estimators=500;, score=0.581 total time=  54.5s\n",
            "[CV 1/3; 3/8] START stack__final_estimator__learning_rate=0.01, stack__final_estimator__max_depth=7, stack__final_estimator__n_estimators=300\n"
          ]
        },
        {
          "name": "stderr",
          "output_type": "stream",
          "text": [
            "/usr/local/lib/python3.10/dist-packages/sklearn/preprocessing/_encoders.py:202: UserWarning: Found unknown categories in columns [4, 11] during transform. These unknown categories will be encoded as all zeros\n",
            "  warnings.warn(\n"
          ]
        },
        {
          "name": "stdout",
          "output_type": "stream",
          "text": [
            "[CV 1/3; 3/8] END stack__final_estimator__learning_rate=0.01, stack__final_estimator__max_depth=7, stack__final_estimator__n_estimators=300;, score=0.615 total time=  39.3s\n",
            "[CV 2/3; 3/8] START stack__final_estimator__learning_rate=0.01, stack__final_estimator__max_depth=7, stack__final_estimator__n_estimators=300\n"
          ]
        },
        {
          "name": "stderr",
          "output_type": "stream",
          "text": [
            "/usr/local/lib/python3.10/dist-packages/sklearn/preprocessing/_encoders.py:202: UserWarning: Found unknown categories in columns [4] during transform. These unknown categories will be encoded as all zeros\n",
            "  warnings.warn(\n"
          ]
        },
        {
          "name": "stdout",
          "output_type": "stream",
          "text": [
            "[CV 2/3; 3/8] END stack__final_estimator__learning_rate=0.01, stack__final_estimator__max_depth=7, stack__final_estimator__n_estimators=300;, score=0.600 total time=  37.7s\n",
            "[CV 3/3; 3/8] START stack__final_estimator__learning_rate=0.01, stack__final_estimator__max_depth=7, stack__final_estimator__n_estimators=300\n"
          ]
        },
        {
          "name": "stderr",
          "output_type": "stream",
          "text": [
            "/usr/local/lib/python3.10/dist-packages/sklearn/preprocessing/_encoders.py:202: UserWarning: Found unknown categories in columns [4, 6] during transform. These unknown categories will be encoded as all zeros\n",
            "  warnings.warn(\n"
          ]
        },
        {
          "name": "stdout",
          "output_type": "stream",
          "text": [
            "[CV 3/3; 3/8] END stack__final_estimator__learning_rate=0.01, stack__final_estimator__max_depth=7, stack__final_estimator__n_estimators=300;, score=0.619 total time=  36.5s\n",
            "[CV 1/3; 4/8] START stack__final_estimator__learning_rate=0.001, stack__final_estimator__max_depth=10, stack__final_estimator__n_estimators=300\n"
          ]
        },
        {
          "name": "stderr",
          "output_type": "stream",
          "text": [
            "/usr/local/lib/python3.10/dist-packages/sklearn/preprocessing/_encoders.py:202: UserWarning: Found unknown categories in columns [4, 11] during transform. These unknown categories will be encoded as all zeros\n",
            "  warnings.warn(\n"
          ]
        },
        {
          "name": "stdout",
          "output_type": "stream",
          "text": [
            "[CV 1/3; 4/8] END stack__final_estimator__learning_rate=0.001, stack__final_estimator__max_depth=10, stack__final_estimator__n_estimators=300;, score=0.572 total time=  37.4s\n",
            "[CV 2/3; 4/8] START stack__final_estimator__learning_rate=0.001, stack__final_estimator__max_depth=10, stack__final_estimator__n_estimators=300\n"
          ]
        },
        {
          "name": "stderr",
          "output_type": "stream",
          "text": [
            "/usr/local/lib/python3.10/dist-packages/sklearn/preprocessing/_encoders.py:202: UserWarning: Found unknown categories in columns [4] during transform. These unknown categories will be encoded as all zeros\n",
            "  warnings.warn(\n"
          ]
        },
        {
          "name": "stdout",
          "output_type": "stream",
          "text": [
            "[CV 2/3; 4/8] END stack__final_estimator__learning_rate=0.001, stack__final_estimator__max_depth=10, stack__final_estimator__n_estimators=300;, score=0.571 total time=  37.2s\n",
            "[CV 3/3; 4/8] START stack__final_estimator__learning_rate=0.001, stack__final_estimator__max_depth=10, stack__final_estimator__n_estimators=300\n"
          ]
        },
        {
          "name": "stderr",
          "output_type": "stream",
          "text": [
            "/usr/local/lib/python3.10/dist-packages/sklearn/preprocessing/_encoders.py:202: UserWarning: Found unknown categories in columns [4, 6] during transform. These unknown categories will be encoded as all zeros\n",
            "  warnings.warn(\n"
          ]
        },
        {
          "name": "stdout",
          "output_type": "stream",
          "text": [
            "[CV 3/3; 4/8] END stack__final_estimator__learning_rate=0.001, stack__final_estimator__max_depth=10, stack__final_estimator__n_estimators=300;, score=0.571 total time=  37.8s\n",
            "[CV 1/3; 5/8] START stack__final_estimator__learning_rate=0.01, stack__final_estimator__max_depth=15, stack__final_estimator__n_estimators=500\n"
          ]
        },
        {
          "name": "stderr",
          "output_type": "stream",
          "text": [
            "/usr/local/lib/python3.10/dist-packages/sklearn/preprocessing/_encoders.py:202: UserWarning: Found unknown categories in columns [4, 11] during transform. These unknown categories will be encoded as all zeros\n",
            "  warnings.warn(\n"
          ]
        },
        {
          "name": "stdout",
          "output_type": "stream",
          "text": [
            "[CV 1/3; 5/8] END stack__final_estimator__learning_rate=0.01, stack__final_estimator__max_depth=15, stack__final_estimator__n_estimators=500;, score=0.589 total time=  38.7s\n",
            "[CV 2/3; 5/8] START stack__final_estimator__learning_rate=0.01, stack__final_estimator__max_depth=15, stack__final_estimator__n_estimators=500\n"
          ]
        },
        {
          "name": "stderr",
          "output_type": "stream",
          "text": [
            "/usr/local/lib/python3.10/dist-packages/sklearn/preprocessing/_encoders.py:202: UserWarning: Found unknown categories in columns [4] during transform. These unknown categories will be encoded as all zeros\n",
            "  warnings.warn(\n"
          ]
        },
        {
          "name": "stdout",
          "output_type": "stream",
          "text": [
            "[CV 2/3; 5/8] END stack__final_estimator__learning_rate=0.01, stack__final_estimator__max_depth=15, stack__final_estimator__n_estimators=500;, score=0.602 total time=  39.3s\n",
            "[CV 3/3; 5/8] START stack__final_estimator__learning_rate=0.01, stack__final_estimator__max_depth=15, stack__final_estimator__n_estimators=500\n"
          ]
        },
        {
          "name": "stderr",
          "output_type": "stream",
          "text": [
            "/usr/local/lib/python3.10/dist-packages/sklearn/preprocessing/_encoders.py:202: UserWarning: Found unknown categories in columns [4, 6] during transform. These unknown categories will be encoded as all zeros\n",
            "  warnings.warn(\n"
          ]
        },
        {
          "name": "stdout",
          "output_type": "stream",
          "text": [
            "[CV 3/3; 5/8] END stack__final_estimator__learning_rate=0.01, stack__final_estimator__max_depth=15, stack__final_estimator__n_estimators=500;, score=0.616 total time=  39.0s\n",
            "[CV 1/3; 6/8] START stack__final_estimator__learning_rate=0.01, stack__final_estimator__max_depth=10, stack__final_estimator__n_estimators=300\n"
          ]
        },
        {
          "name": "stderr",
          "output_type": "stream",
          "text": [
            "/usr/local/lib/python3.10/dist-packages/sklearn/preprocessing/_encoders.py:202: UserWarning: Found unknown categories in columns [4, 11] during transform. These unknown categories will be encoded as all zeros\n",
            "  warnings.warn(\n"
          ]
        },
        {
          "name": "stdout",
          "output_type": "stream",
          "text": [
            "[CV 1/3; 6/8] END stack__final_estimator__learning_rate=0.01, stack__final_estimator__max_depth=10, stack__final_estimator__n_estimators=300;, score=0.603 total time=  37.5s\n",
            "[CV 2/3; 6/8] START stack__final_estimator__learning_rate=0.01, stack__final_estimator__max_depth=10, stack__final_estimator__n_estimators=300\n"
          ]
        },
        {
          "name": "stderr",
          "output_type": "stream",
          "text": [
            "/usr/local/lib/python3.10/dist-packages/sklearn/preprocessing/_encoders.py:202: UserWarning: Found unknown categories in columns [4] during transform. These unknown categories will be encoded as all zeros\n",
            "  warnings.warn(\n"
          ]
        },
        {
          "name": "stdout",
          "output_type": "stream",
          "text": [
            "[CV 2/3; 6/8] END stack__final_estimator__learning_rate=0.01, stack__final_estimator__max_depth=10, stack__final_estimator__n_estimators=300;, score=0.588 total time=  40.2s\n",
            "[CV 3/3; 6/8] START stack__final_estimator__learning_rate=0.01, stack__final_estimator__max_depth=10, stack__final_estimator__n_estimators=300\n"
          ]
        },
        {
          "name": "stderr",
          "output_type": "stream",
          "text": [
            "/usr/local/lib/python3.10/dist-packages/sklearn/preprocessing/_encoders.py:202: UserWarning: Found unknown categories in columns [4, 6] during transform. These unknown categories will be encoded as all zeros\n",
            "  warnings.warn(\n"
          ]
        },
        {
          "name": "stdout",
          "output_type": "stream",
          "text": [
            "[CV 3/3; 6/8] END stack__final_estimator__learning_rate=0.01, stack__final_estimator__max_depth=10, stack__final_estimator__n_estimators=300;, score=0.617 total time=  37.8s\n",
            "[CV 1/3; 7/8] START stack__final_estimator__learning_rate=0.01, stack__final_estimator__max_depth=7, stack__final_estimator__n_estimators=500\n"
          ]
        },
        {
          "name": "stderr",
          "output_type": "stream",
          "text": [
            "/usr/local/lib/python3.10/dist-packages/sklearn/preprocessing/_encoders.py:202: UserWarning: Found unknown categories in columns [4, 11] during transform. These unknown categories will be encoded as all zeros\n",
            "  warnings.warn(\n"
          ]
        },
        {
          "name": "stdout",
          "output_type": "stream",
          "text": [
            "[CV 1/3; 7/8] END stack__final_estimator__learning_rate=0.01, stack__final_estimator__max_depth=7, stack__final_estimator__n_estimators=500;, score=0.614 total time=  36.3s\n",
            "[CV 2/3; 7/8] START stack__final_estimator__learning_rate=0.01, stack__final_estimator__max_depth=7, stack__final_estimator__n_estimators=500\n"
          ]
        },
        {
          "name": "stderr",
          "output_type": "stream",
          "text": [
            "/usr/local/lib/python3.10/dist-packages/sklearn/preprocessing/_encoders.py:202: UserWarning: Found unknown categories in columns [4] during transform. These unknown categories will be encoded as all zeros\n",
            "  warnings.warn(\n"
          ]
        },
        {
          "name": "stdout",
          "output_type": "stream",
          "text": [
            "[CV 2/3; 7/8] END stack__final_estimator__learning_rate=0.01, stack__final_estimator__max_depth=7, stack__final_estimator__n_estimators=500;, score=0.600 total time=  37.8s\n",
            "[CV 3/3; 7/8] START stack__final_estimator__learning_rate=0.01, stack__final_estimator__max_depth=7, stack__final_estimator__n_estimators=500\n"
          ]
        },
        {
          "name": "stderr",
          "output_type": "stream",
          "text": [
            "/usr/local/lib/python3.10/dist-packages/sklearn/preprocessing/_encoders.py:202: UserWarning: Found unknown categories in columns [4, 6] during transform. These unknown categories will be encoded as all zeros\n",
            "  warnings.warn(\n"
          ]
        },
        {
          "name": "stdout",
          "output_type": "stream",
          "text": [
            "[CV 3/3; 7/8] END stack__final_estimator__learning_rate=0.01, stack__final_estimator__max_depth=7, stack__final_estimator__n_estimators=500;, score=0.619 total time=  39.2s\n",
            "[CV 1/3; 8/8] START stack__final_estimator__learning_rate=0.001, stack__final_estimator__max_depth=15, stack__final_estimator__n_estimators=500\n"
          ]
        },
        {
          "name": "stderr",
          "output_type": "stream",
          "text": [
            "/usr/local/lib/python3.10/dist-packages/sklearn/preprocessing/_encoders.py:202: UserWarning: Found unknown categories in columns [4, 11] during transform. These unknown categories will be encoded as all zeros\n",
            "  warnings.warn(\n"
          ]
        },
        {
          "name": "stdout",
          "output_type": "stream",
          "text": [
            "[CV 1/3; 8/8] END stack__final_estimator__learning_rate=0.001, stack__final_estimator__max_depth=15, stack__final_estimator__n_estimators=500;, score=0.583 total time=  42.5s\n",
            "[CV 2/3; 8/8] START stack__final_estimator__learning_rate=0.001, stack__final_estimator__max_depth=15, stack__final_estimator__n_estimators=500\n"
          ]
        },
        {
          "name": "stderr",
          "output_type": "stream",
          "text": [
            "/usr/local/lib/python3.10/dist-packages/sklearn/preprocessing/_encoders.py:202: UserWarning: Found unknown categories in columns [4] during transform. These unknown categories will be encoded as all zeros\n",
            "  warnings.warn(\n"
          ]
        },
        {
          "name": "stdout",
          "output_type": "stream",
          "text": [
            "[CV 2/3; 8/8] END stack__final_estimator__learning_rate=0.001, stack__final_estimator__max_depth=15, stack__final_estimator__n_estimators=500;, score=0.586 total time=  41.5s\n",
            "[CV 3/3; 8/8] START stack__final_estimator__learning_rate=0.001, stack__final_estimator__max_depth=15, stack__final_estimator__n_estimators=500\n"
          ]
        },
        {
          "name": "stderr",
          "output_type": "stream",
          "text": [
            "/usr/local/lib/python3.10/dist-packages/sklearn/preprocessing/_encoders.py:202: UserWarning: Found unknown categories in columns [4, 6] during transform. These unknown categories will be encoded as all zeros\n",
            "  warnings.warn(\n"
          ]
        },
        {
          "name": "stdout",
          "output_type": "stream",
          "text": [
            "[CV 3/3; 8/8] END stack__final_estimator__learning_rate=0.001, stack__final_estimator__max_depth=15, stack__final_estimator__n_estimators=500;, score=0.588 total time=  40.7s\n",
            "Best score: 0.6114499452084232\n",
            "Best parameters: {'stack__final_estimator__n_estimators': 300, 'stack__final_estimator__max_depth': 7, 'stack__final_estimator__learning_rate': 0.01}\n"
          ]
        },
        {
          "name": "stderr",
          "output_type": "stream",
          "text": [
            "/usr/local/lib/python3.10/dist-packages/sklearn/preprocessing/_encoders.py:202: UserWarning: Found unknown categories in columns [4] during transform. These unknown categories will be encoded as all zeros\n",
            "  warnings.warn(\n"
          ]
        }
      ],
      "source": [
        "random_search = RandomizedSearchCV(\n",
        "    estimator=pipeline,\n",
        "    param_distributions=param_distributions,\n",
        "    n_iter=8,\n",
        "    cv=3,\n",
        "    scoring='precision',\n",
        "    verbose=10,\n",
        "    random_state=42\n",
        ")\n",
        "\n",
        "# Fit the grid search to the training data\n",
        "random_search.fit(X_train, y_train)\n",
        "# Best parameters and best score\n",
        "print(\"Best score:\", random_search.best_score_)\n",
        "print(\"Best parameters:\", random_search.best_params_)\n",
        "y_pred = random_search.predict(X_test)"
      ]
    },
    {
      "cell_type": "code",
      "execution_count": null,
      "metadata": {
        "colab": {
          "base_uri": "https://localhost:8080/"
        },
        "id": "RqwvUegKpjVF",
        "outputId": "9b21c48b-8b30-42bf-e110-8cb4f89376ee"
      },
      "outputs": [
        {
          "name": "stdout",
          "output_type": "stream",
          "text": [
            "Accuracy: 0.6051282051282051\n",
            "Precision: 0.6145124716553289\n",
            "Recall: 0.8162650602409639\n",
            "F1 Score: 0.7011642949547219\n"
          ]
        }
      ],
      "source": [
        "# Evaluation\n",
        "stack_accuracy = accuracy_score(y_test, y_pred)\n",
        "stack_precision = precision_score(y_test, y_pred)\n",
        "stack_recall = recall_score(y_test, y_pred)\n",
        "stack_f1 = f1_score(y_test, y_pred)\n",
        "\n",
        "# Output the metrics\n",
        "print(f\"Accuracy: {stack_accuracy}\")\n",
        "print(f\"Precision: {stack_precision}\")\n",
        "print(f\"Recall: {stack_recall}\")\n",
        "print(f\"F1 Score: {stack_f1}\")"
      ]
    },
    {
      "cell_type": "code",
      "execution_count": null,
      "metadata": {
        "colab": {
          "base_uri": "https://localhost:8080/"
        },
        "id": "R8kiaPSNFB3_",
        "outputId": "8a6de8ea-04dc-4701-c016-40e0bf08a95a"
      },
      "outputs": [
        {
          "name": "stdout",
          "output_type": "stream",
          "text": [
            "      Model  Precision    Recall  F1 Score\n",
            "0       XGB   0.575158  0.962349  0.720000\n",
            "1        RF   0.590649  0.932229  0.723131\n",
            "2  Logistic   0.569554  0.980422  0.720531\n",
            "3       KNN   0.617681  0.810241  0.700977\n",
            "4       SVC   0.571429  0.993976  0.725673\n",
            "5    Voting   0.581142  0.965361  0.725523\n",
            "6  Stacking   0.614512  0.816265  0.701164\n"
          ]
        }
      ],
      "source": [
        "scores = {\n",
        "    \"Model\": [\"XGB\", \"RF\", \"Logistic\", \"KNN\", \"SVC\", \"Voting\", \"Stacking\"],\n",
        "    \"Precision\": [XGBClassifier_precision, RandomForest_precision, Log_precision, knn_precision, svc_precision, vot_precision, stack_precision],\n",
        "    \"Recall\": [XGBClassifier_recall, RandomForest_recall, Log_recall, knn_recall, svc_recall, vot_recall, stack_recall],\n",
        "    \"F1 Score\": [XGBClassifier_f1, RandomForest_f1, Log_f1, knn_f1, svc_f1, vot_f1, stack_f1]\n",
        "}\n",
        "\n",
        "scores_df = pd.DataFrame(scores)\n",
        "print(scores_df)"
      ]
    },
    {
      "cell_type": "code",
      "execution_count": null,
      "metadata": {
        "colab": {
          "base_uri": "https://localhost:8080/",
          "height": 352
        },
        "id": "5ujBbsh-Rl8F",
        "outputId": "426639f2-a1e2-4582-e723-aff6084f69eb"
      },
      "outputs": [
        {
          "data": {
            "image/png": "[encoded data removed]",
            "text/plain": [
              "<Figure size 1800x600 with 3 Axes>"
            ]
          },
          "metadata": {},
          "output_type": "display_data"
        }
      ],
      "source": [
        "fig, ax = plt.subplots(1, 3, figsize=(18, 6))\n",
        "\n",
        "# Bar plot for Precision\n",
        "ax[0].bar(scores_df['Model'], scores_df['Precision'], color='b')\n",
        "ax[0].set_title('Precision by Model')\n",
        "ax[0].set_ylabel('Precision')\n",
        "ax[0].set_ylim([0, 1])\n",
        "ax[0].tick_params(axis='x', rotation=45)\n",
        "\n",
        "# Bar plot for Recall\n",
        "ax[1].bar(scores_df['Model'], scores_df['Recall'], color='g')\n",
        "ax[1].set_title('Recall by Model')\n",
        "ax[1].set_ylabel('Recall')\n",
        "ax[1].set_ylim([0, 1])\n",
        "ax[1].tick_params(axis='x', rotation=45)\n",
        "\n",
        "# Bar plot for F1 Score\n",
        "ax[2].bar(scores_df['Model'], scores_df['F1 Score'], color='r')\n",
        "ax[2].set_title('F1 Score by Model')\n",
        "ax[2].set_ylabel('F1 Score')\n",
        "ax[2].set_ylim([0, 1])\n",
        "ax[2].tick_params(axis='x', rotation=45)\n",
        "plt.tight_layout()\n",
        "plt.show()"
      ]
    },
    {
      "cell_type": "markdown",
      "metadata": {
        "id": "ciq3miAgovWs"
      },
      "source": [
        "## Interpretation\n",
        "\n",
        "The models demonstrate consistent performance across precision, recall, and F1 score metrics, indicating a balanced approach to both precision and recall. This balanced performance is reflected in the uniformly high recall rates across all classifiers, signifying their effectiveness in correctly identifying most of the positive cases (Wins).\n",
        "\n",
        "The similarity in the height of the F1 score bars across different models points to a consistent balance between false positives and false negatives. This indicates that none of the models disproportionately favors false positives over false negatives, or vice versa.\n",
        "\n",
        "Interestingly, the ensemble methods do not show a significant improvement over individual models. This could suggest that the base models are already performing near their maximum potential given the current features and dataset.\n",
        "\n",
        "Choosing the best model is challenging as they all exhibit comparable scores. The voting classifier slightly outperforms others, but only by a narrow margin. This observation implies that the current models may have reached a performance limit with the existing features, and only marginal improvements are achievable with more complex ensembles.\n",
        "\n",
        "The high recall also suggests minimal information loss during the PCA process, indicating that the dimensionality reduction did not significantly detract from the models’ ability to capture and predict positive outcomes effectively.\n"
      ]
    },
    {
      "cell_type": "markdown",
      "metadata": {
        "id": "zmVO4g0xeIlX"
      },
      "source": [
        "## Discussion of Results\n",
        "\n",
        "Using various machine learning models has produced a range of insights into how different approaches compare in terms of precision, recall, and F1 scores for this task. Here’s a discussion of the results:\n",
        "\n",
        "### Overview of Model Performance\n",
        "\n",
        "•\tConsistent Recall: Across the board, recall scores are high, which indicates that all models are particularly effective at identifying true positives (i.e., correct predictions of wins). High recall is crucial in scenarios where missing out on predicting a win could be costly, such as in betting or strategic team planning.\n",
        "\n",
        "•\tVariability in Precision and F1 Scores: Precision and F1 scores vary more across models, suggesting differences in how well each model avoids false positives (incorrect win predictions). The F1 score, which balances precision and recall, doesn't show dramatic differences between models but still provides a good basis for comparison.\n",
        "\n",
        "### Detailed Analysis\n",
        "\n",
        "•\tXGBoost Classifier: Exhibits solid performance but not outstanding in any specific metric. It has a moderate balance between identifying wins and avoiding false positives.\n",
        "\n",
        "•\tRandom Forest Classifier: Similar to XGBoost, but slightly better in avoiding false positives, as indicated by a marginally higher precision score.\n",
        "\n",
        "•\tLogistic Regression: Has the highest recall, which suggests it is best at identifying all positive cases but at the cost of higher false positives, as indicated by lower precision.\n",
        "\n",
        "•\tKNN Classifier: Shows a moderate balance with somewhat better precision than some other models, suggesting it makes fewer false positive errors relative to its recall.\n",
        "\n",
        "•\tSVC (Support Vector Classifier): Remarkably high in recall almost perfect, suggesting it nearly always predicts wins when they occur, but its precision is not as high, leading to a considerable number of false positives.\n",
        "\n",
        "•\tVoting Classifier: This ensemble method does not significantly outperform individual models, which might indicate that the combination of models does not provide additional value over single models in this setup. However, this gave one of the best results.\n",
        "\n",
        "•\tStacking Classifier: Performs comparably to other ensemble methods, with no significant advantage, suggesting that complexity added by stacking may not be justified given the similar performance levels. It is to be noted that this was scored on precision not f1.\n",
        "\n",
        "While all models perform well in terms of recall, there is room to improve precision. The relatively similar performance across different model architectures suggests that the next steps could focus more on enhancing the feature set or adding more data and possibly simplifying the model approach.\n"
      ]
    },
    {
      "cell_type": "markdown",
      "metadata": {
        "id": "pcuY4q1tewK4"
      },
      "source": [
        "## Conclusion:\n",
        "\n",
        "We reach the end of Part 3 of our project. We tested various models, achieving high recall across all, indicating strong capability to identify wins correctly. We were able to achieve F1 scores of up to 0.73 after utilizing GridSearchCV. Future work could include getting more data: Investigating additional features such as player-level statistics, more detailed team form metrics, etc.\n",
        "\n",
        "In conclusion, the project successfully demonstrated the feasibility of using machine learning to predict NFL game outcomes by using factors other than stats alone. As the models are refined and features are expanded, the predictive capabilities can be expected to improve: with potential usage in sports analytics."
      ]
    }
  ],
  "metadata": {
    "colab": {
      "provenance": []
    },
    "kernelspec": {
      "display_name": "Python 3",
      "name": "python3"
    },
    "language_info": {
      "name": "python"
    }
  },
  "nbformat": 4,
  "nbformat_minor": 0
}
