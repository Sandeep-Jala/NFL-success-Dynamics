{
 "cells": [
  {
   "cell_type": "markdown",
   "metadata": {
    "colab_type": "text",
    "id": "UGqk3SzXsMR3"
   },
   "source": [
    "# SI 618 - Homework #1: Data Manipulation\n",
    "\n",
    "Version 2024.01.17.2.CT"
   ]
  },
  {
   "cell_type": "markdown",
   "metadata": {
    "colab_type": "text",
    "id": "Crxe7LeXJ9yn"
   },
   "source": [
    "## Background"
   ]
  },
  {
   "cell_type": "markdown",
   "metadata": {
    "colab_type": "text",
    "id": "1IaTA3GNJ9yo"
   },
   "source": [
    "This homework assignment focuses on the analysis of biometric data and exercise performance, as well as reviewing some material from our time together in class."
   ]
  },
  {
   "cell_type": "markdown",
   "metadata": {
    "colab_type": "text",
    "id": "jae-nANHJ9yp"
   },
   "source": [
    "Your main task in this assignment is to explore the data *using the data\n",
    "manipulation methods we covered in class*, as well as those in the assigned readings.  You may need to consult pandas documentation, Stack Overflow, Copilot, or other online resources.  \n"
   ]
  },
  {
   "cell_type": "markdown",
   "metadata": {
    "colab_type": "text",
    "id": "pbqbtPreaCjs"
   },
   "source": [
    "A total of 100 points is available in this homework assignment, broken down as shown beside each question and in the accompanying rubric in Canvas.  Please note that to receive full points, code should conform to  [PEP 8](https://www.python.org/dev/peps/pep-0008/) guidelines, and written responses should be grammatically correct, free of spelling errors, and generally follow the [Strunk & White](https://drive.google.com/file/d/1L0P7xJwjUGBvyb49mL3dw1Bt7hzRTiTl/view) guidelines.  You should review those guidelines before proceding with the assignment.\n",
    "\n",
    "Where possible, you should \"wrap\" your code in functions that you write.  This will make it easier to re-use your code in future assignments. **You should also include comments, docstrings, and type hints for each function you write.  Undocumented code will not receive full credit.**"
   ]
  },
  {
   "cell_type": "markdown",
   "metadata": {},
   "source": [
    "You should insert as many additional cells as you need in order to complete your work.  You should use \"code\" cells for your code and \"markdown\" blocks for your explanations and/or interpretations.  Insert cells below each question to provide your solutions, interpretations, write-ups, etc.\n",
    "\n",
    "You should not remove any of the cells that are already present."
   ]
  },
  {
   "cell_type": "markdown",
   "metadata": {
    "colab_type": "text",
    "id": "8EV1PilWtl0Z"
   },
   "source": [
    "\n",
    "## Answer the following questions.\n",
    "Points for each question are shown below."
   ]
  },
  {
   "cell_type": "markdown",
   "metadata": {
    "colab_type": "text",
    "id": "PfjXDtHoabcS",
    "tags": []
   },
   "source": [
    "### Q1\n",
    "This question asks you to write code and explore a pandas DataFrame.  This question does not involve the use of the biometric data.\n",
    "\n",
    "#### Q1a (2pt):\n",
    "List 5 methods and/or attributes that can be used to explore a pandas DataFrame or Series.  For each method/attribute, explain what it does and how it can be used to explore the data.  You should use complete sentences.\n",
    "\n",
    "#### Q1b (4pt):\n",
    "\n",
    "Implement a function that will allow you to create a pandas DataFrame that accepts as parameters: (1) the number of rows, (2) the number of columns, (3) an optional parameter for the column names, (4) an optional parameter for the row index values, and (5) an optional random seed. If no column names are provided, use the default column names (which consist of numbers 0 through the (number of columns - 1)).  If no row index values are provided, use the numbers 0 through the (number of rows - 1) (i.e. the default RangeIndex).  If no random seed is provided, use the number 12345.  The function should return a DataFrame populated with random values between -1 and 1.\n",
    "\n",
    "#### Q1c (4pt):\n",
    "Use the function you implemented to create a DataFrame with the following columns: `['a', 'b', 'c']` and index `['x', 'y', 'z']`.  Use each of the 5 methods/attributes you listed above to explore the DataFrame you created.  Write a sentence or two explaining what you learned about the DataFrame from each method/attribute.\n",
    "\n"
   ]
  },
  {
   "cell_type": "code",
   "execution_count": 63,
   "metadata": {},
   "outputs": [],
   "source": [
    "import pandas as pd\n",
    "import numpy as np"
   ]
  },
  {
   "cell_type": "markdown",
   "metadata": {},
   "source": [
    "Assuming that df is a DataFrame, the following 5 are methods and/or attributes that can use used in the pandas DataFrame or Series.\n",
    "\n",
    "'head()' Method:\n",
    "It displays the first n rows of a DataFrame or Series, where n is an parameter, and the default value is 5.\n",
    "It is useful to inspect DataFrame, check the features and the content of the DataFrame.\n",
    "```\n",
    "df.head()\n",
    "```\n",
    "\n",
    "'shape' Attribute:\n",
    "It displays the dimensions of the DataFrame.\n",
    "It provides the size of the DataFrame in terms of (number of rows, number of columns).\n",
    "```\n",
    "df.shape\n",
    "```\n",
    "\n",
    "'columns' Attribute:\n",
    "It displays a list of columns names in the DataFrame.\n",
    "It is used to check the name of columns in the DataFrame.\n",
    "```\n",
    "df.columns\n",
    "```\n",
    "\n",
    "'describe()' Method:\n",
    "It provides with the statistical summary of the data.\n",
    "It is helpful to understand the data, identify outliers and check the spread of the data\n",
    "```\n",
    "df.describe()\n",
    "```\n",
    "\n",
    "'isnull()' method:\n",
    "It returns a DataFrame with same dimension, with 'True' where values are null and false otherwise.\n",
    "It is used to check missing value in the DataFrame.\n",
    "\n",
    "```\n",
    "df.isnull()\n",
    "```"
   ]
  },
  {
   "cell_type": "code",
   "execution_count": 64,
   "metadata": {},
   "outputs": [],
   "source": [
    "def Create_DataFrame(rows:int, cols:int, cols_name:list = None, row_index:list = None, random_seed:int = 12345) -> pd.DataFrame:\n",
    "    \"\"\"Create a DataFrame with random values.\n",
    "    Arguments are:\n",
    "        rows (int): number of rows\n",
    "        cols (int): number of columns\n",
    "        cols_name (list): list of column names, default list is 0 to cols-1\n",
    "        row_index (list): list of row names, default list is 0 to rows-1\n",
    "        random_seed (int): random seed, default 12345\n",
    "    \"\"\"\n",
    "    np.random.seed(random_seed)\n",
    "    df = pd.DataFrame(np.random.uniform(-1, 1, size = (rows, cols)), index=row_index, columns=cols_name)\n",
    "    return df"
   ]
  },
  {
   "cell_type": "code",
   "execution_count": 65,
   "metadata": {},
   "outputs": [],
   "source": [
    "df = Create_DataFrame(3, 3, ['a', 'b', 'c'], ['x', 'y', 'z'])       # Create a DataFrame with 3 rows and 3 columns with column names 'a', 'b', 'c' and row names 'x', 'y', 'z'"
   ]
  },
  {
   "cell_type": "code",
   "execution_count": 66,
   "metadata": {},
   "outputs": [
    {
     "data": {
      "text/html": [
       "<div>\n",
       "<style scoped>\n",
       "    .dataframe tbody tr th:only-of-type {\n",
       "        vertical-align: middle;\n",
       "    }\n",
       "\n",
       "    .dataframe tbody tr th {\n",
       "        vertical-align: top;\n",
       "    }\n",
       "\n",
       "    .dataframe thead th {\n",
       "        text-align: right;\n",
       "    }\n",
       "</style>\n",
       "<table border=\"1\" class=\"dataframe\">\n",
       "  <thead>\n",
       "    <tr style=\"text-align: right;\">\n",
       "      <th></th>\n",
       "      <th>a</th>\n",
       "      <th>b</th>\n",
       "      <th>c</th>\n",
       "    </tr>\n",
       "  </thead>\n",
       "  <tbody>\n",
       "    <tr>\n",
       "      <th>x</th>\n",
       "      <td>0.859232</td>\n",
       "      <td>-0.367249</td>\n",
       "      <td>-0.632162</td>\n",
       "    </tr>\n",
       "    <tr>\n",
       "      <th>y</th>\n",
       "      <td>-0.590879</td>\n",
       "      <td>0.135450</td>\n",
       "      <td>0.191089</td>\n",
       "    </tr>\n",
       "    <tr>\n",
       "      <th>z</th>\n",
       "      <td>0.929029</td>\n",
       "      <td>0.306354</td>\n",
       "      <td>0.497813</td>\n",
       "    </tr>\n",
       "  </tbody>\n",
       "</table>\n",
       "</div>"
      ],
      "text/plain": [
       "          a         b         c\n",
       "x  0.859232 -0.367249 -0.632162\n",
       "y -0.590879  0.135450  0.191089\n",
       "z  0.929029  0.306354  0.497813"
      ]
     },
     "execution_count": 66,
     "metadata": {},
     "output_type": "execute_result"
    }
   ],
   "source": [
    "df.head()       # Show the first 5 rows of the DataFrame, but there are only 3 rows in this case"
   ]
  },
  {
   "cell_type": "code",
   "execution_count": 67,
   "metadata": {},
   "outputs": [
    {
     "data": {
      "text/plain": [
       "(3, 3)"
      ]
     },
     "execution_count": 67,
     "metadata": {},
     "output_type": "execute_result"
    }
   ],
   "source": [
    "df.shape        # Show the shape of the DataFrame in terms of (rows, columns)"
   ]
  },
  {
   "cell_type": "code",
   "execution_count": 68,
   "metadata": {},
   "outputs": [
    {
     "data": {
      "text/plain": [
       "Index(['a', 'b', 'c'], dtype='object')"
      ]
     },
     "execution_count": 68,
     "metadata": {},
     "output_type": "execute_result"
    }
   ],
   "source": [
    "df.columns      # Show the column names of the DataFrame"
   ]
  },
  {
   "cell_type": "code",
   "execution_count": 69,
   "metadata": {},
   "outputs": [
    {
     "data": {
      "text/html": [
       "<div>\n",
       "<style scoped>\n",
       "    .dataframe tbody tr th:only-of-type {\n",
       "        vertical-align: middle;\n",
       "    }\n",
       "\n",
       "    .dataframe tbody tr th {\n",
       "        vertical-align: top;\n",
       "    }\n",
       "\n",
       "    .dataframe thead th {\n",
       "        text-align: right;\n",
       "    }\n",
       "</style>\n",
       "<table border=\"1\" class=\"dataframe\">\n",
       "  <thead>\n",
       "    <tr style=\"text-align: right;\">\n",
       "      <th></th>\n",
       "      <th>a</th>\n",
       "      <th>b</th>\n",
       "      <th>c</th>\n",
       "    </tr>\n",
       "  </thead>\n",
       "  <tbody>\n",
       "    <tr>\n",
       "      <th>count</th>\n",
       "      <td>3.000000</td>\n",
       "      <td>3.000000</td>\n",
       "      <td>3.000000</td>\n",
       "    </tr>\n",
       "    <tr>\n",
       "      <th>mean</th>\n",
       "      <td>0.399127</td>\n",
       "      <td>0.024852</td>\n",
       "      <td>0.018913</td>\n",
       "    </tr>\n",
       "    <tr>\n",
       "      <th>std</th>\n",
       "      <td>0.858081</td>\n",
       "      <td>0.350156</td>\n",
       "      <td>0.584333</td>\n",
       "    </tr>\n",
       "    <tr>\n",
       "      <th>min</th>\n",
       "      <td>-0.590879</td>\n",
       "      <td>-0.367249</td>\n",
       "      <td>-0.632162</td>\n",
       "    </tr>\n",
       "    <tr>\n",
       "      <th>25%</th>\n",
       "      <td>0.134176</td>\n",
       "      <td>-0.115899</td>\n",
       "      <td>-0.220536</td>\n",
       "    </tr>\n",
       "    <tr>\n",
       "      <th>50%</th>\n",
       "      <td>0.859232</td>\n",
       "      <td>0.135450</td>\n",
       "      <td>0.191089</td>\n",
       "    </tr>\n",
       "    <tr>\n",
       "      <th>75%</th>\n",
       "      <td>0.894131</td>\n",
       "      <td>0.220902</td>\n",
       "      <td>0.344451</td>\n",
       "    </tr>\n",
       "    <tr>\n",
       "      <th>max</th>\n",
       "      <td>0.929029</td>\n",
       "      <td>0.306354</td>\n",
       "      <td>0.497813</td>\n",
       "    </tr>\n",
       "  </tbody>\n",
       "</table>\n",
       "</div>"
      ],
      "text/plain": [
       "              a         b         c\n",
       "count  3.000000  3.000000  3.000000\n",
       "mean   0.399127  0.024852  0.018913\n",
       "std    0.858081  0.350156  0.584333\n",
       "min   -0.590879 -0.367249 -0.632162\n",
       "25%    0.134176 -0.115899 -0.220536\n",
       "50%    0.859232  0.135450  0.191089\n",
       "75%    0.894131  0.220902  0.344451\n",
       "max    0.929029  0.306354  0.497813"
      ]
     },
     "execution_count": 69,
     "metadata": {},
     "output_type": "execute_result"
    }
   ],
   "source": [
    "df.describe()       # Show the summary statistics of the DataFrame"
   ]
  },
  {
   "cell_type": "code",
   "execution_count": 70,
   "metadata": {},
   "outputs": [
    {
     "data": {
      "text/html": [
       "<div>\n",
       "<style scoped>\n",
       "    .dataframe tbody tr th:only-of-type {\n",
       "        vertical-align: middle;\n",
       "    }\n",
       "\n",
       "    .dataframe tbody tr th {\n",
       "        vertical-align: top;\n",
       "    }\n",
       "\n",
       "    .dataframe thead th {\n",
       "        text-align: right;\n",
       "    }\n",
       "</style>\n",
       "<table border=\"1\" class=\"dataframe\">\n",
       "  <thead>\n",
       "    <tr style=\"text-align: right;\">\n",
       "      <th></th>\n",
       "      <th>a</th>\n",
       "      <th>b</th>\n",
       "      <th>c</th>\n",
       "    </tr>\n",
       "  </thead>\n",
       "  <tbody>\n",
       "    <tr>\n",
       "      <th>x</th>\n",
       "      <td>False</td>\n",
       "      <td>False</td>\n",
       "      <td>False</td>\n",
       "    </tr>\n",
       "    <tr>\n",
       "      <th>y</th>\n",
       "      <td>False</td>\n",
       "      <td>False</td>\n",
       "      <td>False</td>\n",
       "    </tr>\n",
       "    <tr>\n",
       "      <th>z</th>\n",
       "      <td>False</td>\n",
       "      <td>False</td>\n",
       "      <td>False</td>\n",
       "    </tr>\n",
       "  </tbody>\n",
       "</table>\n",
       "</div>"
      ],
      "text/plain": [
       "       a      b      c\n",
       "x  False  False  False\n",
       "y  False  False  False\n",
       "z  False  False  False"
      ]
     },
     "execution_count": 70,
     "metadata": {},
     "output_type": "execute_result"
    }
   ],
   "source": [
    "df.isnull()     # Show the missing values of the DataFrame and there are no missing values in this case"
   ]
  },
  {
   "cell_type": "markdown",
   "metadata": {},
   "source": [
    "Question 1 Explanation:\n",
    "After calling the function create_DataFrame, we get a dataframe with 3 rows and 3 matrices. The columns are a, b, and c, respectively, and the rows are indexed as x,y, and z, and we store it as df.\n",
    "1. Using df.head(), we should get the first 5 rows, but in this case, as there are only 3 rows, we see only the first 3 rows.\n",
    "2. Using df.shape, we get the shape of the dataframe in terms of (rows, columns); in this case, it was (3,3), which means 3 rows and 3 columns. 3. Using df.columns, we get the names of the columns of the dataframe; here we get the names 'a', 'b', and 'c', which are in fact the columns of the dataframe.\n",
    "4. Using df.describe(), we get the statistical summary of the data frame; in this case, we see the count, mean, standard deviation, minimum, 25% quartile, 50% quartile, 75% quartile, and the maximum value in a particular column. \n",
    "5. Using df.isnull(), we get a dataframe with boolean values. The value is true if the data is missing and false if there is data present. We see all false values, which means that there are no null values in the dataframe."
   ]
  },
  {
   "cell_type": "markdown",
   "metadata": {
    "colab_type": "text",
    "id": "Pr9WBUQyZY4V",
    "tags": []
   },
   "source": [
    "## Download the data from: \n",
    "https://www.kaggle.com/kukuroo3/body-performance-data\n"
   ]
  },
  {
   "cell_type": "markdown",
   "metadata": {},
   "source": [
    "### Q2: 5 pt:\n",
    "**Without** using `pd.DataFrame.describe()``, implement a function to report the median age, height, and weight for people in the data. Round your answer to the nearest whole number.  Write a sentence or two to summarize the output from your code.   Be sure to indicate units for each variable in your write-up."
   ]
  },
  {
   "cell_type": "code",
   "execution_count": 71,
   "metadata": {},
   "outputs": [],
   "source": [
    "df = pd.read_csv('/Users/sandeepjala/Documents/SI618/SI_618_WN_24_Files/data/bodyPerformance.csv')"
   ]
  },
  {
   "cell_type": "code",
   "execution_count": 72,
   "metadata": {},
   "outputs": [
    {
     "data": {
      "text/html": [
       "<div>\n",
       "<style scoped>\n",
       "    .dataframe tbody tr th:only-of-type {\n",
       "        vertical-align: middle;\n",
       "    }\n",
       "\n",
       "    .dataframe tbody tr th {\n",
       "        vertical-align: top;\n",
       "    }\n",
       "\n",
       "    .dataframe thead th {\n",
       "        text-align: right;\n",
       "    }\n",
       "</style>\n",
       "<table border=\"1\" class=\"dataframe\">\n",
       "  <thead>\n",
       "    <tr style=\"text-align: right;\">\n",
       "      <th></th>\n",
       "      <th>age</th>\n",
       "      <th>gender</th>\n",
       "      <th>height_cm</th>\n",
       "      <th>weight_kg</th>\n",
       "      <th>body fat_%</th>\n",
       "      <th>diastolic</th>\n",
       "      <th>systolic</th>\n",
       "      <th>gripForce</th>\n",
       "      <th>sit and bend forward_cm</th>\n",
       "      <th>sit-ups counts</th>\n",
       "      <th>broad jump_cm</th>\n",
       "      <th>class</th>\n",
       "    </tr>\n",
       "  </thead>\n",
       "  <tbody>\n",
       "    <tr>\n",
       "      <th>0</th>\n",
       "      <td>27.0</td>\n",
       "      <td>M</td>\n",
       "      <td>172.3</td>\n",
       "      <td>75.24</td>\n",
       "      <td>21.3</td>\n",
       "      <td>80.0</td>\n",
       "      <td>130.0</td>\n",
       "      <td>54.9</td>\n",
       "      <td>18.4</td>\n",
       "      <td>60.0</td>\n",
       "      <td>217.0</td>\n",
       "      <td>C</td>\n",
       "    </tr>\n",
       "    <tr>\n",
       "      <th>1</th>\n",
       "      <td>25.0</td>\n",
       "      <td>M</td>\n",
       "      <td>165.0</td>\n",
       "      <td>55.80</td>\n",
       "      <td>15.7</td>\n",
       "      <td>77.0</td>\n",
       "      <td>126.0</td>\n",
       "      <td>36.4</td>\n",
       "      <td>16.3</td>\n",
       "      <td>53.0</td>\n",
       "      <td>229.0</td>\n",
       "      <td>A</td>\n",
       "    </tr>\n",
       "    <tr>\n",
       "      <th>2</th>\n",
       "      <td>31.0</td>\n",
       "      <td>M</td>\n",
       "      <td>179.6</td>\n",
       "      <td>78.00</td>\n",
       "      <td>20.1</td>\n",
       "      <td>92.0</td>\n",
       "      <td>152.0</td>\n",
       "      <td>44.8</td>\n",
       "      <td>12.0</td>\n",
       "      <td>49.0</td>\n",
       "      <td>181.0</td>\n",
       "      <td>C</td>\n",
       "    </tr>\n",
       "    <tr>\n",
       "      <th>3</th>\n",
       "      <td>32.0</td>\n",
       "      <td>M</td>\n",
       "      <td>174.5</td>\n",
       "      <td>71.10</td>\n",
       "      <td>18.4</td>\n",
       "      <td>76.0</td>\n",
       "      <td>147.0</td>\n",
       "      <td>41.4</td>\n",
       "      <td>15.2</td>\n",
       "      <td>53.0</td>\n",
       "      <td>219.0</td>\n",
       "      <td>B</td>\n",
       "    </tr>\n",
       "    <tr>\n",
       "      <th>4</th>\n",
       "      <td>28.0</td>\n",
       "      <td>M</td>\n",
       "      <td>173.8</td>\n",
       "      <td>67.70</td>\n",
       "      <td>17.1</td>\n",
       "      <td>70.0</td>\n",
       "      <td>127.0</td>\n",
       "      <td>43.5</td>\n",
       "      <td>27.1</td>\n",
       "      <td>45.0</td>\n",
       "      <td>217.0</td>\n",
       "      <td>B</td>\n",
       "    </tr>\n",
       "  </tbody>\n",
       "</table>\n",
       "</div>"
      ],
      "text/plain": [
       "    age gender  height_cm  weight_kg  body fat_%  diastolic  systolic  \\\n",
       "0  27.0      M      172.3      75.24        21.3       80.0     130.0   \n",
       "1  25.0      M      165.0      55.80        15.7       77.0     126.0   \n",
       "2  31.0      M      179.6      78.00        20.1       92.0     152.0   \n",
       "3  32.0      M      174.5      71.10        18.4       76.0     147.0   \n",
       "4  28.0      M      173.8      67.70        17.1       70.0     127.0   \n",
       "\n",
       "   gripForce  sit and bend forward_cm  sit-ups counts  broad jump_cm class  \n",
       "0       54.9                     18.4            60.0          217.0     C  \n",
       "1       36.4                     16.3            53.0          229.0     A  \n",
       "2       44.8                     12.0            49.0          181.0     C  \n",
       "3       41.4                     15.2            53.0          219.0     B  \n",
       "4       43.5                     27.1            45.0          217.0     B  "
      ]
     },
     "execution_count": 72,
     "metadata": {},
     "output_type": "execute_result"
    }
   ],
   "source": [
    "df.head()"
   ]
  },
  {
   "cell_type": "code",
   "execution_count": 73,
   "metadata": {},
   "outputs": [],
   "source": [
    "def get_median(df:pd.DataFrame) -> dict:\n",
    "    \"\"\"The function returns a dictionary with the median of age, height_cm, and weight_kg.\n",
    "    Arguments are:\n",
    "        df: a DataFrame with columns 'age', 'height_cm', and 'weight_kg'\n",
    "    \"\"\"\n",
    "    return df[['age', 'height_cm', 'weight_kg']].median(axis = 0).round().to_dict()     # The DataFrame median() function returns a Series object,and the round() function rounds it to the nearest whole number, and the to_dict() function is used we need to convert it to a dictionary so we can easily print it out."
   ]
  },
  {
   "cell_type": "code",
   "execution_count": 74,
   "metadata": {},
   "outputs": [
    {
     "name": "stdout",
     "output_type": "stream",
     "text": [
      "The median age is 32.0 years old\n",
      "The median height is 169.0 cm\n",
      "The median weight is 67.0 kg\n"
     ]
    }
   ],
   "source": [
    "data = get_median(df)\n",
    "print(f'The median age is {data[\"age\"]} years old')\n",
    "print(f'The median height is {data[\"height_cm\"]} cm')\n",
    "print(f'The median weight is {data[\"weight_kg\"]} kg')"
   ]
  },
  {
   "cell_type": "markdown",
   "metadata": {},
   "source": [
    "Question 2 Explanation: I created a function that has only one attribute, which is a DataFrame, and the output is a dictionary. In the dictionary, the key is the column names, and the value is the median of the same column which are rounded down to a whole number.\n",
    "We print the output, and we observe that the median age is 32 years, the median height is 169 cm, and the median weight is 67 kg."
   ]
  },
  {
   "cell_type": "markdown",
   "metadata": {},
   "source": [
    "### Q3: 5 pt:\n",
    "Look for any anomalous data points.  For example, are there cases where diastolic blood pressure is higher than systolic blood pressure (which is physiologically impossible)?  Do you notice any other anomalies? Note: you will need to think about other types of anomalies that might be present in the data -- merely looking for diastolic blood pressure higher than systolic blood pressure is not sufficient.  Write a sentence or two to summarize your findings."
   ]
  },
  {
   "cell_type": "code",
   "execution_count": 75,
   "metadata": {},
   "outputs": [
    {
     "data": {
      "text/html": [
       "<div>\n",
       "<style scoped>\n",
       "    .dataframe tbody tr th:only-of-type {\n",
       "        vertical-align: middle;\n",
       "    }\n",
       "\n",
       "    .dataframe tbody tr th {\n",
       "        vertical-align: top;\n",
       "    }\n",
       "\n",
       "    .dataframe thead th {\n",
       "        text-align: right;\n",
       "    }\n",
       "</style>\n",
       "<table border=\"1\" class=\"dataframe\">\n",
       "  <thead>\n",
       "    <tr style=\"text-align: right;\">\n",
       "      <th></th>\n",
       "      <th>age</th>\n",
       "      <th>height_cm</th>\n",
       "      <th>weight_kg</th>\n",
       "      <th>body fat_%</th>\n",
       "      <th>diastolic</th>\n",
       "      <th>systolic</th>\n",
       "      <th>gripForce</th>\n",
       "      <th>sit and bend forward_cm</th>\n",
       "      <th>sit-ups counts</th>\n",
       "      <th>broad jump_cm</th>\n",
       "    </tr>\n",
       "  </thead>\n",
       "  <tbody>\n",
       "    <tr>\n",
       "      <th>count</th>\n",
       "      <td>13393.000000</td>\n",
       "      <td>13393.000000</td>\n",
       "      <td>13393.000000</td>\n",
       "      <td>13393.000000</td>\n",
       "      <td>13393.000000</td>\n",
       "      <td>13393.000000</td>\n",
       "      <td>13393.000000</td>\n",
       "      <td>13393.000000</td>\n",
       "      <td>13393.000000</td>\n",
       "      <td>13393.000000</td>\n",
       "    </tr>\n",
       "    <tr>\n",
       "      <th>mean</th>\n",
       "      <td>36.775106</td>\n",
       "      <td>168.559807</td>\n",
       "      <td>67.447316</td>\n",
       "      <td>23.240165</td>\n",
       "      <td>78.796842</td>\n",
       "      <td>130.234817</td>\n",
       "      <td>36.963877</td>\n",
       "      <td>15.209268</td>\n",
       "      <td>39.771224</td>\n",
       "      <td>190.129627</td>\n",
       "    </tr>\n",
       "    <tr>\n",
       "      <th>std</th>\n",
       "      <td>13.625639</td>\n",
       "      <td>8.426583</td>\n",
       "      <td>11.949666</td>\n",
       "      <td>7.256844</td>\n",
       "      <td>10.742033</td>\n",
       "      <td>14.713954</td>\n",
       "      <td>10.624864</td>\n",
       "      <td>8.456677</td>\n",
       "      <td>14.276698</td>\n",
       "      <td>39.868000</td>\n",
       "    </tr>\n",
       "    <tr>\n",
       "      <th>min</th>\n",
       "      <td>21.000000</td>\n",
       "      <td>125.000000</td>\n",
       "      <td>26.300000</td>\n",
       "      <td>3.000000</td>\n",
       "      <td>0.000000</td>\n",
       "      <td>0.000000</td>\n",
       "      <td>0.000000</td>\n",
       "      <td>-25.000000</td>\n",
       "      <td>0.000000</td>\n",
       "      <td>0.000000</td>\n",
       "    </tr>\n",
       "    <tr>\n",
       "      <th>25%</th>\n",
       "      <td>25.000000</td>\n",
       "      <td>162.400000</td>\n",
       "      <td>58.200000</td>\n",
       "      <td>18.000000</td>\n",
       "      <td>71.000000</td>\n",
       "      <td>120.000000</td>\n",
       "      <td>27.500000</td>\n",
       "      <td>10.900000</td>\n",
       "      <td>30.000000</td>\n",
       "      <td>162.000000</td>\n",
       "    </tr>\n",
       "    <tr>\n",
       "      <th>50%</th>\n",
       "      <td>32.000000</td>\n",
       "      <td>169.200000</td>\n",
       "      <td>67.400000</td>\n",
       "      <td>22.800000</td>\n",
       "      <td>79.000000</td>\n",
       "      <td>130.000000</td>\n",
       "      <td>37.900000</td>\n",
       "      <td>16.200000</td>\n",
       "      <td>41.000000</td>\n",
       "      <td>193.000000</td>\n",
       "    </tr>\n",
       "    <tr>\n",
       "      <th>75%</th>\n",
       "      <td>48.000000</td>\n",
       "      <td>174.800000</td>\n",
       "      <td>75.300000</td>\n",
       "      <td>28.000000</td>\n",
       "      <td>86.000000</td>\n",
       "      <td>141.000000</td>\n",
       "      <td>45.200000</td>\n",
       "      <td>20.700000</td>\n",
       "      <td>50.000000</td>\n",
       "      <td>221.000000</td>\n",
       "    </tr>\n",
       "    <tr>\n",
       "      <th>max</th>\n",
       "      <td>64.000000</td>\n",
       "      <td>193.800000</td>\n",
       "      <td>138.100000</td>\n",
       "      <td>78.400000</td>\n",
       "      <td>156.200000</td>\n",
       "      <td>201.000000</td>\n",
       "      <td>70.500000</td>\n",
       "      <td>213.000000</td>\n",
       "      <td>80.000000</td>\n",
       "      <td>303.000000</td>\n",
       "    </tr>\n",
       "  </tbody>\n",
       "</table>\n",
       "</div>"
      ],
      "text/plain": [
       "                age     height_cm     weight_kg    body fat_%     diastolic  \\\n",
       "count  13393.000000  13393.000000  13393.000000  13393.000000  13393.000000   \n",
       "mean      36.775106    168.559807     67.447316     23.240165     78.796842   \n",
       "std       13.625639      8.426583     11.949666      7.256844     10.742033   \n",
       "min       21.000000    125.000000     26.300000      3.000000      0.000000   \n",
       "25%       25.000000    162.400000     58.200000     18.000000     71.000000   \n",
       "50%       32.000000    169.200000     67.400000     22.800000     79.000000   \n",
       "75%       48.000000    174.800000     75.300000     28.000000     86.000000   \n",
       "max       64.000000    193.800000    138.100000     78.400000    156.200000   \n",
       "\n",
       "           systolic     gripForce  sit and bend forward_cm  sit-ups counts  \\\n",
       "count  13393.000000  13393.000000             13393.000000    13393.000000   \n",
       "mean     130.234817     36.963877                15.209268       39.771224   \n",
       "std       14.713954     10.624864                 8.456677       14.276698   \n",
       "min        0.000000      0.000000               -25.000000        0.000000   \n",
       "25%      120.000000     27.500000                10.900000       30.000000   \n",
       "50%      130.000000     37.900000                16.200000       41.000000   \n",
       "75%      141.000000     45.200000                20.700000       50.000000   \n",
       "max      201.000000     70.500000               213.000000       80.000000   \n",
       "\n",
       "       broad jump_cm  \n",
       "count   13393.000000  \n",
       "mean      190.129627  \n",
       "std        39.868000  \n",
       "min         0.000000  \n",
       "25%       162.000000  \n",
       "50%       193.000000  \n",
       "75%       221.000000  \n",
       "max       303.000000  "
      ]
     },
     "execution_count": 75,
     "metadata": {},
     "output_type": "execute_result"
    }
   ],
   "source": [
    "df.describe()"
   ]
  },
  {
   "cell_type": "code",
   "execution_count": 76,
   "metadata": {},
   "outputs": [
    {
     "data": {
      "text/html": [
       "<div>\n",
       "<style scoped>\n",
       "    .dataframe tbody tr th:only-of-type {\n",
       "        vertical-align: middle;\n",
       "    }\n",
       "\n",
       "    .dataframe tbody tr th {\n",
       "        vertical-align: top;\n",
       "    }\n",
       "\n",
       "    .dataframe thead th {\n",
       "        text-align: right;\n",
       "    }\n",
       "</style>\n",
       "<table border=\"1\" class=\"dataframe\">\n",
       "  <thead>\n",
       "    <tr style=\"text-align: right;\">\n",
       "      <th></th>\n",
       "      <th>age</th>\n",
       "      <th>gender</th>\n",
       "      <th>height_cm</th>\n",
       "      <th>weight_kg</th>\n",
       "      <th>body fat_%</th>\n",
       "      <th>diastolic</th>\n",
       "      <th>systolic</th>\n",
       "      <th>gripForce</th>\n",
       "      <th>sit and bend forward_cm</th>\n",
       "      <th>sit-ups counts</th>\n",
       "      <th>broad jump_cm</th>\n",
       "      <th>class</th>\n",
       "    </tr>\n",
       "  </thead>\n",
       "  <tbody>\n",
       "    <tr>\n",
       "      <th>7495</th>\n",
       "      <td>30.0</td>\n",
       "      <td>F</td>\n",
       "      <td>156.2</td>\n",
       "      <td>52.80</td>\n",
       "      <td>28.2</td>\n",
       "      <td>156.2</td>\n",
       "      <td>104.0</td>\n",
       "      <td>21.7</td>\n",
       "      <td>27.2</td>\n",
       "      <td>43.0</td>\n",
       "      <td>162.0</td>\n",
       "      <td>C</td>\n",
       "    </tr>\n",
       "    <tr>\n",
       "      <th>7597</th>\n",
       "      <td>30.0</td>\n",
       "      <td>M</td>\n",
       "      <td>166.6</td>\n",
       "      <td>66.08</td>\n",
       "      <td>14.4</td>\n",
       "      <td>67.0</td>\n",
       "      <td>14.0</td>\n",
       "      <td>53.8</td>\n",
       "      <td>17.2</td>\n",
       "      <td>57.0</td>\n",
       "      <td>221.0</td>\n",
       "      <td>A</td>\n",
       "    </tr>\n",
       "    <tr>\n",
       "      <th>8217</th>\n",
       "      <td>31.0</td>\n",
       "      <td>M</td>\n",
       "      <td>176.7</td>\n",
       "      <td>80.32</td>\n",
       "      <td>20.8</td>\n",
       "      <td>46.2</td>\n",
       "      <td>43.9</td>\n",
       "      <td>43.9</td>\n",
       "      <td>17.2</td>\n",
       "      <td>57.0</td>\n",
       "      <td>221.0</td>\n",
       "      <td>B</td>\n",
       "    </tr>\n",
       "    <tr>\n",
       "      <th>12949</th>\n",
       "      <td>24.0</td>\n",
       "      <td>M</td>\n",
       "      <td>171.0</td>\n",
       "      <td>78.70</td>\n",
       "      <td>20.0</td>\n",
       "      <td>99.0</td>\n",
       "      <td>95.0</td>\n",
       "      <td>46.5</td>\n",
       "      <td>12.8</td>\n",
       "      <td>50.0</td>\n",
       "      <td>197.0</td>\n",
       "      <td>D</td>\n",
       "    </tr>\n",
       "  </tbody>\n",
       "</table>\n",
       "</div>"
      ],
      "text/plain": [
       "        age gender  height_cm  weight_kg  body fat_%  diastolic  systolic  \\\n",
       "7495   30.0      F      156.2      52.80        28.2      156.2     104.0   \n",
       "7597   30.0      M      166.6      66.08        14.4       67.0      14.0   \n",
       "8217   31.0      M      176.7      80.32        20.8       46.2      43.9   \n",
       "12949  24.0      M      171.0      78.70        20.0       99.0      95.0   \n",
       "\n",
       "       gripForce  sit and bend forward_cm  sit-ups counts  broad jump_cm class  \n",
       "7495        21.7                     27.2            43.0          162.0     C  \n",
       "7597        53.8                     17.2            57.0          221.0     A  \n",
       "8217        43.9                     17.2            57.0          221.0     B  \n",
       "12949       46.5                     12.8            50.0          197.0     D  "
      ]
     },
     "execution_count": 76,
     "metadata": {},
     "output_type": "execute_result"
    }
   ],
   "source": [
    "df[df.systolic < df.diastolic]      # Show the rows where systolic is less than diastolic"
   ]
  },
  {
   "cell_type": "code",
   "execution_count": 77,
   "metadata": {},
   "outputs": [
    {
     "data": {
      "text/html": [
       "<div>\n",
       "<style scoped>\n",
       "    .dataframe tbody tr th:only-of-type {\n",
       "        vertical-align: middle;\n",
       "    }\n",
       "\n",
       "    .dataframe tbody tr th {\n",
       "        vertical-align: top;\n",
       "    }\n",
       "\n",
       "    .dataframe thead th {\n",
       "        text-align: right;\n",
       "    }\n",
       "</style>\n",
       "<table border=\"1\" class=\"dataframe\">\n",
       "  <thead>\n",
       "    <tr style=\"text-align: right;\">\n",
       "      <th></th>\n",
       "      <th>age</th>\n",
       "      <th>gender</th>\n",
       "      <th>height_cm</th>\n",
       "      <th>weight_kg</th>\n",
       "      <th>body fat_%</th>\n",
       "      <th>diastolic</th>\n",
       "      <th>systolic</th>\n",
       "      <th>gripForce</th>\n",
       "      <th>sit and bend forward_cm</th>\n",
       "      <th>sit-ups counts</th>\n",
       "      <th>broad jump_cm</th>\n",
       "      <th>class</th>\n",
       "    </tr>\n",
       "  </thead>\n",
       "  <tbody>\n",
       "    <tr>\n",
       "      <th>2657</th>\n",
       "      <td>33.0</td>\n",
       "      <td>M</td>\n",
       "      <td>165.6</td>\n",
       "      <td>60.4</td>\n",
       "      <td>17.8</td>\n",
       "      <td>81.0</td>\n",
       "      <td>127.0</td>\n",
       "      <td>38.6</td>\n",
       "      <td>213.0</td>\n",
       "      <td>53.0</td>\n",
       "      <td>244.0</td>\n",
       "      <td>B</td>\n",
       "    </tr>\n",
       "    <tr>\n",
       "      <th>3355</th>\n",
       "      <td>45.0</td>\n",
       "      <td>M</td>\n",
       "      <td>164.4</td>\n",
       "      <td>64.4</td>\n",
       "      <td>24.3</td>\n",
       "      <td>96.0</td>\n",
       "      <td>142.0</td>\n",
       "      <td>38.5</td>\n",
       "      <td>185.0</td>\n",
       "      <td>44.0</td>\n",
       "      <td>223.0</td>\n",
       "      <td>A</td>\n",
       "    </tr>\n",
       "    <tr>\n",
       "      <th>4203</th>\n",
       "      <td>46.0</td>\n",
       "      <td>M</td>\n",
       "      <td>164.4</td>\n",
       "      <td>63.6</td>\n",
       "      <td>23.4</td>\n",
       "      <td>70.0</td>\n",
       "      <td>115.0</td>\n",
       "      <td>36.0</td>\n",
       "      <td>42.0</td>\n",
       "      <td>42.0</td>\n",
       "      <td>210.0</td>\n",
       "      <td>A</td>\n",
       "    </tr>\n",
       "    <tr>\n",
       "      <th>4438</th>\n",
       "      <td>59.0</td>\n",
       "      <td>M</td>\n",
       "      <td>175.4</td>\n",
       "      <td>68.1</td>\n",
       "      <td>21.3</td>\n",
       "      <td>74.0</td>\n",
       "      <td>122.0</td>\n",
       "      <td>36.2</td>\n",
       "      <td>40.0</td>\n",
       "      <td>40.0</td>\n",
       "      <td>174.0</td>\n",
       "      <td>B</td>\n",
       "    </tr>\n",
       "    <tr>\n",
       "      <th>8905</th>\n",
       "      <td>52.0</td>\n",
       "      <td>M</td>\n",
       "      <td>166.3</td>\n",
       "      <td>74.3</td>\n",
       "      <td>26.0</td>\n",
       "      <td>79.0</td>\n",
       "      <td>131.0</td>\n",
       "      <td>47.1</td>\n",
       "      <td>40.0</td>\n",
       "      <td>40.0</td>\n",
       "      <td>194.0</td>\n",
       "      <td>B</td>\n",
       "    </tr>\n",
       "    <tr>\n",
       "      <th>...</th>\n",
       "      <td>...</td>\n",
       "      <td>...</td>\n",
       "      <td>...</td>\n",
       "      <td>...</td>\n",
       "      <td>...</td>\n",
       "      <td>...</td>\n",
       "      <td>...</td>\n",
       "      <td>...</td>\n",
       "      <td>...</td>\n",
       "      <td>...</td>\n",
       "      <td>...</td>\n",
       "      <td>...</td>\n",
       "    </tr>\n",
       "    <tr>\n",
       "      <th>9656</th>\n",
       "      <td>56.0</td>\n",
       "      <td>M</td>\n",
       "      <td>162.0</td>\n",
       "      <td>72.0</td>\n",
       "      <td>28.6</td>\n",
       "      <td>77.0</td>\n",
       "      <td>133.0</td>\n",
       "      <td>48.3</td>\n",
       "      <td>-20.0</td>\n",
       "      <td>30.0</td>\n",
       "      <td>183.0</td>\n",
       "      <td>D</td>\n",
       "    </tr>\n",
       "    <tr>\n",
       "      <th>12573</th>\n",
       "      <td>46.0</td>\n",
       "      <td>M</td>\n",
       "      <td>177.3</td>\n",
       "      <td>100.6</td>\n",
       "      <td>36.5</td>\n",
       "      <td>93.0</td>\n",
       "      <td>138.0</td>\n",
       "      <td>37.8</td>\n",
       "      <td>-20.0</td>\n",
       "      <td>30.0</td>\n",
       "      <td>180.0</td>\n",
       "      <td>D</td>\n",
       "    </tr>\n",
       "    <tr>\n",
       "      <th>11959</th>\n",
       "      <td>44.0</td>\n",
       "      <td>M</td>\n",
       "      <td>179.3</td>\n",
       "      <td>69.2</td>\n",
       "      <td>19.8</td>\n",
       "      <td>59.0</td>\n",
       "      <td>98.0</td>\n",
       "      <td>38.7</td>\n",
       "      <td>-20.0</td>\n",
       "      <td>23.0</td>\n",
       "      <td>220.0</td>\n",
       "      <td>D</td>\n",
       "    </tr>\n",
       "    <tr>\n",
       "      <th>9056</th>\n",
       "      <td>21.0</td>\n",
       "      <td>F</td>\n",
       "      <td>158.1</td>\n",
       "      <td>53.5</td>\n",
       "      <td>34.6</td>\n",
       "      <td>82.0</td>\n",
       "      <td>131.0</td>\n",
       "      <td>20.4</td>\n",
       "      <td>-22.0</td>\n",
       "      <td>4.0</td>\n",
       "      <td>118.0</td>\n",
       "      <td>D</td>\n",
       "    </tr>\n",
       "    <tr>\n",
       "      <th>737</th>\n",
       "      <td>26.0</td>\n",
       "      <td>M</td>\n",
       "      <td>172.0</td>\n",
       "      <td>76.7</td>\n",
       "      <td>29.2</td>\n",
       "      <td>88.0</td>\n",
       "      <td>141.0</td>\n",
       "      <td>39.1</td>\n",
       "      <td>-25.0</td>\n",
       "      <td>22.0</td>\n",
       "      <td>197.0</td>\n",
       "      <td>D</td>\n",
       "    </tr>\n",
       "  </tbody>\n",
       "</table>\n",
       "<p>13393 rows × 12 columns</p>\n",
       "</div>"
      ],
      "text/plain": [
       "        age gender  height_cm  weight_kg  body fat_%  diastolic  systolic  \\\n",
       "2657   33.0      M      165.6       60.4        17.8       81.0     127.0   \n",
       "3355   45.0      M      164.4       64.4        24.3       96.0     142.0   \n",
       "4203   46.0      M      164.4       63.6        23.4       70.0     115.0   \n",
       "4438   59.0      M      175.4       68.1        21.3       74.0     122.0   \n",
       "8905   52.0      M      166.3       74.3        26.0       79.0     131.0   \n",
       "...     ...    ...        ...        ...         ...        ...       ...   \n",
       "9656   56.0      M      162.0       72.0        28.6       77.0     133.0   \n",
       "12573  46.0      M      177.3      100.6        36.5       93.0     138.0   \n",
       "11959  44.0      M      179.3       69.2        19.8       59.0      98.0   \n",
       "9056   21.0      F      158.1       53.5        34.6       82.0     131.0   \n",
       "737    26.0      M      172.0       76.7        29.2       88.0     141.0   \n",
       "\n",
       "       gripForce  sit and bend forward_cm  sit-ups counts  broad jump_cm class  \n",
       "2657        38.6                    213.0            53.0          244.0     B  \n",
       "3355        38.5                    185.0            44.0          223.0     A  \n",
       "4203        36.0                     42.0            42.0          210.0     A  \n",
       "4438        36.2                     40.0            40.0          174.0     B  \n",
       "8905        47.1                     40.0            40.0          194.0     B  \n",
       "...          ...                      ...             ...            ...   ...  \n",
       "9656        48.3                    -20.0            30.0          183.0     D  \n",
       "12573       37.8                    -20.0            30.0          180.0     D  \n",
       "11959       38.7                    -20.0            23.0          220.0     D  \n",
       "9056        20.4                    -22.0             4.0          118.0     D  \n",
       "737         39.1                    -25.0            22.0          197.0     D  \n",
       "\n",
       "[13393 rows x 12 columns]"
      ]
     },
     "execution_count": 77,
     "metadata": {},
     "output_type": "execute_result"
    }
   ],
   "source": [
    "df.sort_values(by = ['sit and bend forward_cm'], ascending = False)     # Sort the DataFrame by 'sit and bend forward_cm' in descending order"
   ]
  },
  {
   "cell_type": "code",
   "execution_count": 78,
   "metadata": {},
   "outputs": [
    {
     "data": {
      "text/html": [
       "<div>\n",
       "<style scoped>\n",
       "    .dataframe tbody tr th:only-of-type {\n",
       "        vertical-align: middle;\n",
       "    }\n",
       "\n",
       "    .dataframe tbody tr th {\n",
       "        vertical-align: top;\n",
       "    }\n",
       "\n",
       "    .dataframe thead th {\n",
       "        text-align: right;\n",
       "    }\n",
       "</style>\n",
       "<table border=\"1\" class=\"dataframe\">\n",
       "  <thead>\n",
       "    <tr style=\"text-align: right;\">\n",
       "      <th></th>\n",
       "      <th>age</th>\n",
       "      <th>gender</th>\n",
       "      <th>height_cm</th>\n",
       "      <th>weight_kg</th>\n",
       "      <th>body fat_%</th>\n",
       "      <th>diastolic</th>\n",
       "      <th>systolic</th>\n",
       "      <th>gripForce</th>\n",
       "      <th>sit and bend forward_cm</th>\n",
       "      <th>sit-ups counts</th>\n",
       "      <th>broad jump_cm</th>\n",
       "      <th>class</th>\n",
       "    </tr>\n",
       "  </thead>\n",
       "  <tbody>\n",
       "    <tr>\n",
       "      <th>10624</th>\n",
       "      <td>26.0</td>\n",
       "      <td>F</td>\n",
       "      <td>160.0</td>\n",
       "      <td>63.56</td>\n",
       "      <td>32.0</td>\n",
       "      <td>0.0</td>\n",
       "      <td>0.0</td>\n",
       "      <td>23.7</td>\n",
       "      <td>17.1</td>\n",
       "      <td>23.0</td>\n",
       "      <td>128.0</td>\n",
       "      <td>D</td>\n",
       "    </tr>\n",
       "    <tr>\n",
       "      <th>7597</th>\n",
       "      <td>30.0</td>\n",
       "      <td>M</td>\n",
       "      <td>166.6</td>\n",
       "      <td>66.08</td>\n",
       "      <td>14.4</td>\n",
       "      <td>67.0</td>\n",
       "      <td>14.0</td>\n",
       "      <td>53.8</td>\n",
       "      <td>17.2</td>\n",
       "      <td>57.0</td>\n",
       "      <td>221.0</td>\n",
       "      <td>A</td>\n",
       "    </tr>\n",
       "    <tr>\n",
       "      <th>8217</th>\n",
       "      <td>31.0</td>\n",
       "      <td>M</td>\n",
       "      <td>176.7</td>\n",
       "      <td>80.32</td>\n",
       "      <td>20.8</td>\n",
       "      <td>46.2</td>\n",
       "      <td>43.9</td>\n",
       "      <td>43.9</td>\n",
       "      <td>17.2</td>\n",
       "      <td>57.0</td>\n",
       "      <td>221.0</td>\n",
       "      <td>B</td>\n",
       "    </tr>\n",
       "    <tr>\n",
       "      <th>344</th>\n",
       "      <td>22.0</td>\n",
       "      <td>F</td>\n",
       "      <td>158.5</td>\n",
       "      <td>49.30</td>\n",
       "      <td>27.0</td>\n",
       "      <td>37.0</td>\n",
       "      <td>77.0</td>\n",
       "      <td>27.1</td>\n",
       "      <td>21.0</td>\n",
       "      <td>59.0</td>\n",
       "      <td>178.0</td>\n",
       "      <td>B</td>\n",
       "    </tr>\n",
       "    <tr>\n",
       "      <th>7341</th>\n",
       "      <td>50.0</td>\n",
       "      <td>F</td>\n",
       "      <td>161.5</td>\n",
       "      <td>52.00</td>\n",
       "      <td>17.9</td>\n",
       "      <td>42.0</td>\n",
       "      <td>82.0</td>\n",
       "      <td>24.5</td>\n",
       "      <td>30.2</td>\n",
       "      <td>25.0</td>\n",
       "      <td>163.0</td>\n",
       "      <td>A</td>\n",
       "    </tr>\n",
       "  </tbody>\n",
       "</table>\n",
       "</div>"
      ],
      "text/plain": [
       "        age gender  height_cm  weight_kg  body fat_%  diastolic  systolic  \\\n",
       "10624  26.0      F      160.0      63.56        32.0        0.0       0.0   \n",
       "7597   30.0      M      166.6      66.08        14.4       67.0      14.0   \n",
       "8217   31.0      M      176.7      80.32        20.8       46.2      43.9   \n",
       "344    22.0      F      158.5      49.30        27.0       37.0      77.0   \n",
       "7341   50.0      F      161.5      52.00        17.9       42.0      82.0   \n",
       "\n",
       "       gripForce  sit and bend forward_cm  sit-ups counts  broad jump_cm class  \n",
       "10624       23.7                     17.1            23.0          128.0     D  \n",
       "7597        53.8                     17.2            57.0          221.0     A  \n",
       "8217        43.9                     17.2            57.0          221.0     B  \n",
       "344         27.1                     21.0            59.0          178.0     B  \n",
       "7341        24.5                     30.2            25.0          163.0     A  "
      ]
     },
     "execution_count": 78,
     "metadata": {},
     "output_type": "execute_result"
    }
   ],
   "source": [
    "df.sort_values(by = ['systolic']).head()        # Sort the DataFrame by 'systolic' in ascending order and show the first 5 rows to check the lowest systolic blood pressure"
   ]
  },
  {
   "cell_type": "markdown",
   "metadata": {},
   "source": [
    "Question 3 Explanation: I have used df.describe() to check the statistical summary of the DataFrame df. We can observe that the max value of 'sit and bend forward_cm' is very high in comparison to it's median and 75% quantile. We also see that the lowest of diastolic and systolic is 0.\n",
    "1. Hence, we first check for cases where diastolic blood pressure was higher than systolic; this is not possible and can be considered an anomaly. We see four such entries in the DataFrame\n",
    "2. Secondly, we sort the 'sit and bend forward_cm' in descending order to check the highest data, and we observe that the highest and second highest are extremely large in comparison to the third highest data. These two data entries can be considered anomalies.\n",
    "3. Finally, we sort the'systolic' column ascending to check for the lowest value where we see a data entry with both diastolic and systolic blood pressure as 0, which cannot be possible unless the patient is not alive. Hence, this entry may be an anomaly. \n",
    "4. There may be other anomalies in the data frame that will require advanced analysis and detection.\n"
   ]
  },
  {
   "cell_type": "markdown",
   "metadata": {},
   "source": [
    "### Q4: 10 pt:\n",
    "Generate histogram plots for age, weight, and height for that allow you to visualize differences between gender M and gender F participants. Describe the plots and point out any interesting aspects. You are not permitted to use Seaborn, Bokeh, or Plotly to create your visualizations (i.e. you can only use the matplotlib-pandas integrations)."
   ]
  },
  {
   "cell_type": "code",
   "execution_count": 79,
   "metadata": {},
   "outputs": [
    {
     "data": {
      "image/png": "[encoded data removed]",
      "text/plain": [
       "<Figure size 640x480 with 2 Axes>"
      ]
     },
     "metadata": {},
     "output_type": "display_data"
    }
   ],
   "source": [
    "df.plot.hist(column = 'age', by = 'gender', bins = 20);         # Plot histograms for age which shows the difference between the Male and female age distribution"
   ]
  },
  {
   "cell_type": "code",
   "execution_count": 80,
   "metadata": {},
   "outputs": [
    {
     "data": {
      "image/png": "[encoded data removed]",
      "text/plain": [
       "<Figure size 640x480 with 2 Axes>"
      ]
     },
     "metadata": {},
     "output_type": "display_data"
    }
   ],
   "source": [
    "df.plot.hist(column = 'weight_kg', by = 'gender', bins = 20);       # Plot histograms for Weight in kgs which shows the difference between the Male and female age distribution"
   ]
  },
  {
   "cell_type": "code",
   "execution_count": 81,
   "metadata": {},
   "outputs": [
    {
     "data": {
      "image/png": "[encoded data removed]",
      "text/plain": [
       "<Figure size 640x480 with 2 Axes>"
      ]
     },
     "metadata": {},
     "output_type": "display_data"
    }
   ],
   "source": [
    "df.plot.hist(column = 'height_cm', by = 'gender', bins = 50);       # Plot histograms for height in cm which shows the difference between the Male and female age distribution"
   ]
  },
  {
   "cell_type": "markdown",
   "metadata": {},
   "source": [
    "Question 4 Explanation: The code generates two different plots for male and female categories. The axes for both of them might be different based on the data in the particular column.\n",
    "1. In the first plot, we can see that most of the population is young, less than 40 years old, and we can also observe that the frequency of males is higher than that of females at almost every age.\n",
    "2. In the second plot, we observe that the distribution follows an approximately normal distribution, and we can see that most of the men are heavier than the women.\n",
    "3. In the third plot, we see that the distribution follows an approximately normal distribution, and the height of men is higher than that of women, as the median height of men is approximately 175 cm and that of women is around 160 cm.\n",
    "From these graphs, we get the pattern of the data distribution and also find patterns based on the categories in the data."
   ]
  },
  {
   "cell_type": "markdown",
   "metadata": {
    "colab_type": "text",
    "id": "0u5VM5ksbCTm"
   },
   "source": [
    "### Q5: 15 pt:\n",
    "[Blood pressure](https://www.health.harvard.edu/heart-health/reading-the-new-blood-pressure-guidelines) is reported as two numbers: diastolic (the lower number) and systolic (the higher number).  So, for example, if a person has a diastolic measurement of 80 and a systolic measurement of 120, the person's blood pressure would be reported as 120/80.\n",
    "\n",
    "Blood pressure measurements fall into several categories:\n",
    "\n",
    "Normal blood pressure. Your blood pressure is normal if it's below 120/80 mm Hg.\n",
    "\n",
    "Elevated blood pressure. Elevated blood pressure is a systolic pressure ranging from 120 to 129 mm Hg and a diastolic pressure below (not above) 80 mm Hg. Elevated blood pressure may also be called prehypertension.\n",
    "\n",
    "Stage 1 hypertension. Stage 1 hypertension is a systolic pressure ranging from 130 to 139 mm Hg or a diastolic pressure ranging from 80 to 89 mm Hg.\n",
    "\n",
    "Stage 2 hypertension. More-severe hypertension, stage 2 hypertension is a systolic pressure of 140 mm Hg or higher or a diastolic pressure of 90 mm Hg or higher.\n",
    "\n",
    "Hypertensive crisis. A blood pressure measurement higher than 180/120 mm Hg is an emergency situation that requires urgent medical care.\n",
    "\n",
    "a) Report the number of people in each of those categories.\n",
    "\n",
    "b) The guidelines were recently changed: prior to 2017, the guidelines set the threshold at 140/90 mm Hg for people younger than age 65 and 150/80 mm Hg for those ages 65 and older to be diagnosed with hypertension. Create and implement analyses that allow you to demonstrate how the change in guidelines affects the categorization of people into the different categories.\n",
    "Make reasonable assumptions (and state them) about whether to use diastolic, systolic, both, or either of those measures when implementing your analysis.  Note that the new guidelines offer more categories than the older guidelines."
   ]
  },
  {
   "cell_type": "code",
   "execution_count": 112,
   "metadata": {},
   "outputs": [],
   "source": [
    "def blood_pressure_category(df) -> str:\n",
    "    \"\"\"The function returns the blood pressure category based on the systolic and diastolic blood pressure.\n",
    "    Arguments are:\n",
    "        df: a DataFrame with columns 'systolic' and 'diastolic'\n",
    "\n",
    "    If the systolic blood pressure is less than 120 and the diastolic blood pressure is less than 80, then the blood pressure category is 'Normal'.\n",
    "    If the systolic blood pressure is between 120 and 129 (inclusive) and the diastolic blood pressure is less than 80, then the blood pressure category is 'Elevated'.\n",
    "    If the systolic blood pressure is between 130 and 139 (inclusive) or the diastolic blood pressure is between 80 and 89 (inclusive), then the blood pressure category is 'Stage 1 Hypertension'.\n",
    "    If the systolic blood pressure is between 140 and 180 (exclusive) or the diastolic blood pressure is between 90 and 120 (exclusive), then the blood pressure category is 'Stage 2 Hypertension'.\n",
    "    If the systolic blood pressure is greater than or equal to 180 and the diastolic blood pressure is greater than or equal to 120, then the blood pressure category is 'Hypertensive Crisis'.\n",
    "    otherwise, the blood pressure category is 'unknown'.\n",
    "    \"\"\"\n",
    "    if df['systolic'] < 120 and df['diastolic'] < 80:\n",
    "        return 'Normal'\n",
    "    elif 120 <= df['systolic'] < 130 and df['diastolic'] < 80:\n",
    "        return 'Elevated'\n",
    "    elif 130<= df['systolic'] < 140 or 80 <= df['diastolic'] < 90:\n",
    "        return 'Stage 1 Hypertension'\n",
    "    elif 140 <= df['systolic'] < 180 or 90 <= df['diastolic'] < 120:\n",
    "        return 'Stage 2 Hypertension'\n",
    "    elif df['systolic'] >= 180 and df['diastolic'] >= 120:\n",
    "        return 'Hypertensive Crisis'\n",
    "    else:\n",
    "        return 'unknown'\n",
    "df['blood_pressure_category'] = df.apply(blood_pressure_category, axis = 1)      # Create a new column 'blood_pressure_category' based on the blood_pressure_category function and apply it to the DataFrame"
   ]
  },
  {
   "cell_type": "code",
   "execution_count": 83,
   "metadata": {},
   "outputs": [
    {
     "data": {
      "text/plain": [
       "blood_pressure_category\n",
       "Stage 1 Hypertension    5936\n",
       "Normal                  2898\n",
       "Stage 2 Hypertension    2467\n",
       "Elevated                2090\n",
       "unknown                    1\n",
       "Hypertensive Crisis        1\n",
       "Name: count, dtype: int64"
      ]
     },
     "execution_count": 83,
     "metadata": {},
     "output_type": "execute_result"
    }
   ],
   "source": [
    "df['blood_pressure_category'].value_counts()        # Displays the counts of each blood pressure category"
   ]
  },
  {
   "cell_type": "code",
   "execution_count": 84,
   "metadata": {},
   "outputs": [
    {
     "data": {
      "text/html": [
       "<div>\n",
       "<style scoped>\n",
       "    .dataframe tbody tr th:only-of-type {\n",
       "        vertical-align: middle;\n",
       "    }\n",
       "\n",
       "    .dataframe tbody tr th {\n",
       "        vertical-align: top;\n",
       "    }\n",
       "\n",
       "    .dataframe thead th {\n",
       "        text-align: right;\n",
       "    }\n",
       "</style>\n",
       "<table border=\"1\" class=\"dataframe\">\n",
       "  <thead>\n",
       "    <tr style=\"text-align: right;\">\n",
       "      <th></th>\n",
       "      <th>age</th>\n",
       "      <th>gender</th>\n",
       "      <th>height_cm</th>\n",
       "      <th>weight_kg</th>\n",
       "      <th>body fat_%</th>\n",
       "      <th>diastolic</th>\n",
       "      <th>systolic</th>\n",
       "      <th>gripForce</th>\n",
       "      <th>sit and bend forward_cm</th>\n",
       "      <th>sit-ups counts</th>\n",
       "      <th>broad jump_cm</th>\n",
       "      <th>class</th>\n",
       "      <th>blood_pressure_category</th>\n",
       "    </tr>\n",
       "  </thead>\n",
       "  <tbody>\n",
       "    <tr>\n",
       "      <th>7495</th>\n",
       "      <td>30.0</td>\n",
       "      <td>F</td>\n",
       "      <td>156.2</td>\n",
       "      <td>52.8</td>\n",
       "      <td>28.2</td>\n",
       "      <td>156.2</td>\n",
       "      <td>104.0</td>\n",
       "      <td>21.7</td>\n",
       "      <td>27.2</td>\n",
       "      <td>43.0</td>\n",
       "      <td>162.0</td>\n",
       "      <td>C</td>\n",
       "      <td>unknown</td>\n",
       "    </tr>\n",
       "  </tbody>\n",
       "</table>\n",
       "</div>"
      ],
      "text/plain": [
       "       age gender  height_cm  weight_kg  body fat_%  diastolic  systolic  \\\n",
       "7495  30.0      F      156.2       52.8        28.2      156.2     104.0   \n",
       "\n",
       "      gripForce  sit and bend forward_cm  sit-ups counts  broad jump_cm class  \\\n",
       "7495       21.7                     27.2            43.0          162.0     C   \n",
       "\n",
       "     blood_pressure_category  \n",
       "7495                 unknown  "
      ]
     },
     "execution_count": 84,
     "metadata": {},
     "output_type": "execute_result"
    }
   ],
   "source": [
    "df[df['blood_pressure_category'] == 'unknown']      # Display the row with the blood pressure category 'unknown'"
   ]
  },
  {
   "cell_type": "code",
   "execution_count": 85,
   "metadata": {},
   "outputs": [],
   "source": [
    "def blood_pressure_category_old(df) -> str:\n",
    "    \"\"\"The function returns the blood pressure category based on the systolic and diastolic blood pressure.\n",
    "    Arguments are:\n",
    "        df: a DataFrame with columns 'age', 'systolic' and 'diastolic'\n",
    "    If the age is less than 65, then the blood pressure category is 'Normal' if the systolic blood pressure is less than 140 and the diastolic blood pressure is less than 90, otherwise the blood pressure category is 'Hypertension'.\n",
    "    If the age is greater than or equal to 65, then the blood pressure category is 'Normal' if the systolic blood pressure is less than 150 and the diastolic blood pressure is less than 80, otherwise the blood pressure category is 'Hypertension'.\n",
    "    \"\"\"\n",
    "    if df['age'] < 65:      # Check if the age is less than 65, if it is then the code in this if condition is executed\n",
    "        if df['systolic'] < 140 and df['diastolic'] < 90:\n",
    "            return 'Normal'\n",
    "        elif 140 <= df['systolic'] and 90 <= df['diastolic']:\n",
    "            return 'Hypertension'\n",
    "        else:\n",
    "            return 'unknown'\n",
    "    else:       # If the age is greater than or equal to 65 the code below is executed\n",
    "        if df['systolic'] < 150 and df['diastolic'] < 80:\n",
    "            return 'Normal'\n",
    "        elif 150<= df['systolic']  and 80 <= df['diastolic']:\n",
    "            return 'Hypertension'\n",
    "        else:\n",
    "            return 'unknown'\n",
    "df['old_method_blood_pressure_category'] = df.apply(blood_pressure_category_old, axis = 1)      # Create a new column 'old_method_blood_pressure_category' based on the blood_pressure_category_old function and apply it to the DataFrame"
   ]
  },
  {
   "cell_type": "code",
   "execution_count": 86,
   "metadata": {},
   "outputs": [
    {
     "data": {
      "text/plain": [
       "old_method_blood_pressure_category\n",
       "Normal          8975\n",
       "unknown         2729\n",
       "Hypertension    1689\n",
       "Name: count, dtype: int64"
      ]
     },
     "execution_count": 86,
     "metadata": {},
     "output_type": "execute_result"
    }
   ],
   "source": [
    "df['old_method_blood_pressure_category'].value_counts()       # Displays the counts of each blood pressure category"
   ]
  },
  {
   "cell_type": "code",
   "execution_count": 87,
   "metadata": {},
   "outputs": [
    {
     "data": {
      "text/html": [
       "<div>\n",
       "<style scoped>\n",
       "    .dataframe tbody tr th:only-of-type {\n",
       "        vertical-align: middle;\n",
       "    }\n",
       "\n",
       "    .dataframe tbody tr th {\n",
       "        vertical-align: top;\n",
       "    }\n",
       "\n",
       "    .dataframe thead th {\n",
       "        text-align: right;\n",
       "    }\n",
       "</style>\n",
       "<table border=\"1\" class=\"dataframe\">\n",
       "  <thead>\n",
       "    <tr style=\"text-align: right;\">\n",
       "      <th></th>\n",
       "      <th>age</th>\n",
       "      <th>gender</th>\n",
       "      <th>height_cm</th>\n",
       "      <th>weight_kg</th>\n",
       "      <th>body fat_%</th>\n",
       "      <th>diastolic</th>\n",
       "      <th>systolic</th>\n",
       "      <th>gripForce</th>\n",
       "      <th>sit and bend forward_cm</th>\n",
       "      <th>sit-ups counts</th>\n",
       "      <th>broad jump_cm</th>\n",
       "      <th>class</th>\n",
       "      <th>blood_pressure_category</th>\n",
       "      <th>old_method_blood_pressure_category</th>\n",
       "    </tr>\n",
       "  </thead>\n",
       "  <tbody>\n",
       "    <tr>\n",
       "      <th>3</th>\n",
       "      <td>32.0</td>\n",
       "      <td>M</td>\n",
       "      <td>174.5</td>\n",
       "      <td>71.1</td>\n",
       "      <td>18.4</td>\n",
       "      <td>76.0</td>\n",
       "      <td>147.0</td>\n",
       "      <td>41.4</td>\n",
       "      <td>15.2</td>\n",
       "      <td>53.0</td>\n",
       "      <td>219.0</td>\n",
       "      <td>B</td>\n",
       "      <td>Stage 2 Hypertension</td>\n",
       "      <td>unknown</td>\n",
       "    </tr>\n",
       "    <tr>\n",
       "      <th>8</th>\n",
       "      <td>54.0</td>\n",
       "      <td>M</td>\n",
       "      <td>166.8</td>\n",
       "      <td>67.5</td>\n",
       "      <td>27.6</td>\n",
       "      <td>85.0</td>\n",
       "      <td>165.0</td>\n",
       "      <td>40.4</td>\n",
       "      <td>18.6</td>\n",
       "      <td>34.0</td>\n",
       "      <td>148.0</td>\n",
       "      <td>C</td>\n",
       "      <td>Stage 1 Hypertension</td>\n",
       "      <td>unknown</td>\n",
       "    </tr>\n",
       "    <tr>\n",
       "      <th>9</th>\n",
       "      <td>28.0</td>\n",
       "      <td>M</td>\n",
       "      <td>185.0</td>\n",
       "      <td>84.6</td>\n",
       "      <td>14.4</td>\n",
       "      <td>81.0</td>\n",
       "      <td>156.0</td>\n",
       "      <td>57.9</td>\n",
       "      <td>12.1</td>\n",
       "      <td>55.0</td>\n",
       "      <td>213.0</td>\n",
       "      <td>B</td>\n",
       "      <td>Stage 1 Hypertension</td>\n",
       "      <td>unknown</td>\n",
       "    </tr>\n",
       "    <tr>\n",
       "      <th>21</th>\n",
       "      <td>59.0</td>\n",
       "      <td>F</td>\n",
       "      <td>155.9</td>\n",
       "      <td>62.7</td>\n",
       "      <td>30.2</td>\n",
       "      <td>76.0</td>\n",
       "      <td>143.0</td>\n",
       "      <td>36.8</td>\n",
       "      <td>29.1</td>\n",
       "      <td>25.0</td>\n",
       "      <td>122.0</td>\n",
       "      <td>A</td>\n",
       "      <td>Stage 2 Hypertension</td>\n",
       "      <td>unknown</td>\n",
       "    </tr>\n",
       "    <tr>\n",
       "      <th>24</th>\n",
       "      <td>23.0</td>\n",
       "      <td>F</td>\n",
       "      <td>164.1</td>\n",
       "      <td>59.4</td>\n",
       "      <td>29.6</td>\n",
       "      <td>91.0</td>\n",
       "      <td>126.0</td>\n",
       "      <td>24.6</td>\n",
       "      <td>27.5</td>\n",
       "      <td>32.0</td>\n",
       "      <td>169.0</td>\n",
       "      <td>C</td>\n",
       "      <td>Stage 2 Hypertension</td>\n",
       "      <td>unknown</td>\n",
       "    </tr>\n",
       "    <tr>\n",
       "      <th>...</th>\n",
       "      <td>...</td>\n",
       "      <td>...</td>\n",
       "      <td>...</td>\n",
       "      <td>...</td>\n",
       "      <td>...</td>\n",
       "      <td>...</td>\n",
       "      <td>...</td>\n",
       "      <td>...</td>\n",
       "      <td>...</td>\n",
       "      <td>...</td>\n",
       "      <td>...</td>\n",
       "      <td>...</td>\n",
       "      <td>...</td>\n",
       "      <td>...</td>\n",
       "    </tr>\n",
       "    <tr>\n",
       "      <th>13375</th>\n",
       "      <td>22.0</td>\n",
       "      <td>M</td>\n",
       "      <td>179.8</td>\n",
       "      <td>82.0</td>\n",
       "      <td>12.4</td>\n",
       "      <td>79.0</td>\n",
       "      <td>142.0</td>\n",
       "      <td>50.1</td>\n",
       "      <td>14.2</td>\n",
       "      <td>42.0</td>\n",
       "      <td>201.0</td>\n",
       "      <td>C</td>\n",
       "      <td>Stage 2 Hypertension</td>\n",
       "      <td>unknown</td>\n",
       "    </tr>\n",
       "    <tr>\n",
       "      <th>13381</th>\n",
       "      <td>28.0</td>\n",
       "      <td>M</td>\n",
       "      <td>166.5</td>\n",
       "      <td>61.7</td>\n",
       "      <td>22.6</td>\n",
       "      <td>87.0</td>\n",
       "      <td>144.0</td>\n",
       "      <td>38.9</td>\n",
       "      <td>13.9</td>\n",
       "      <td>44.0</td>\n",
       "      <td>208.0</td>\n",
       "      <td>C</td>\n",
       "      <td>Stage 1 Hypertension</td>\n",
       "      <td>unknown</td>\n",
       "    </tr>\n",
       "    <tr>\n",
       "      <th>13384</th>\n",
       "      <td>64.0</td>\n",
       "      <td>F</td>\n",
       "      <td>152.4</td>\n",
       "      <td>55.9</td>\n",
       "      <td>33.1</td>\n",
       "      <td>87.0</td>\n",
       "      <td>158.0</td>\n",
       "      <td>23.5</td>\n",
       "      <td>20.0</td>\n",
       "      <td>14.0</td>\n",
       "      <td>154.0</td>\n",
       "      <td>B</td>\n",
       "      <td>Stage 1 Hypertension</td>\n",
       "      <td>unknown</td>\n",
       "    </tr>\n",
       "    <tr>\n",
       "      <th>13388</th>\n",
       "      <td>25.0</td>\n",
       "      <td>M</td>\n",
       "      <td>172.1</td>\n",
       "      <td>71.8</td>\n",
       "      <td>16.2</td>\n",
       "      <td>74.0</td>\n",
       "      <td>141.0</td>\n",
       "      <td>35.8</td>\n",
       "      <td>17.4</td>\n",
       "      <td>47.0</td>\n",
       "      <td>198.0</td>\n",
       "      <td>C</td>\n",
       "      <td>Stage 2 Hypertension</td>\n",
       "      <td>unknown</td>\n",
       "    </tr>\n",
       "    <tr>\n",
       "      <th>13392</th>\n",
       "      <td>34.0</td>\n",
       "      <td>M</td>\n",
       "      <td>164.0</td>\n",
       "      <td>66.1</td>\n",
       "      <td>19.5</td>\n",
       "      <td>82.0</td>\n",
       "      <td>150.0</td>\n",
       "      <td>35.9</td>\n",
       "      <td>7.1</td>\n",
       "      <td>51.0</td>\n",
       "      <td>180.0</td>\n",
       "      <td>C</td>\n",
       "      <td>Stage 1 Hypertension</td>\n",
       "      <td>unknown</td>\n",
       "    </tr>\n",
       "  </tbody>\n",
       "</table>\n",
       "<p>2729 rows × 14 columns</p>\n",
       "</div>"
      ],
      "text/plain": [
       "        age gender  height_cm  weight_kg  body fat_%  diastolic  systolic  \\\n",
       "3      32.0      M      174.5       71.1        18.4       76.0     147.0   \n",
       "8      54.0      M      166.8       67.5        27.6       85.0     165.0   \n",
       "9      28.0      M      185.0       84.6        14.4       81.0     156.0   \n",
       "21     59.0      F      155.9       62.7        30.2       76.0     143.0   \n",
       "24     23.0      F      164.1       59.4        29.6       91.0     126.0   \n",
       "...     ...    ...        ...        ...         ...        ...       ...   \n",
       "13375  22.0      M      179.8       82.0        12.4       79.0     142.0   \n",
       "13381  28.0      M      166.5       61.7        22.6       87.0     144.0   \n",
       "13384  64.0      F      152.4       55.9        33.1       87.0     158.0   \n",
       "13388  25.0      M      172.1       71.8        16.2       74.0     141.0   \n",
       "13392  34.0      M      164.0       66.1        19.5       82.0     150.0   \n",
       "\n",
       "       gripForce  sit and bend forward_cm  sit-ups counts  broad jump_cm  \\\n",
       "3           41.4                     15.2            53.0          219.0   \n",
       "8           40.4                     18.6            34.0          148.0   \n",
       "9           57.9                     12.1            55.0          213.0   \n",
       "21          36.8                     29.1            25.0          122.0   \n",
       "24          24.6                     27.5            32.0          169.0   \n",
       "...          ...                      ...             ...            ...   \n",
       "13375       50.1                     14.2            42.0          201.0   \n",
       "13381       38.9                     13.9            44.0          208.0   \n",
       "13384       23.5                     20.0            14.0          154.0   \n",
       "13388       35.8                     17.4            47.0          198.0   \n",
       "13392       35.9                      7.1            51.0          180.0   \n",
       "\n",
       "      class blood_pressure_category old_method_blood_pressure_category  \n",
       "3         B    Stage 2 Hypertension                            unknown  \n",
       "8         C    Stage 1 Hypertension                            unknown  \n",
       "9         B    Stage 1 Hypertension                            unknown  \n",
       "21        A    Stage 2 Hypertension                            unknown  \n",
       "24        C    Stage 2 Hypertension                            unknown  \n",
       "...     ...                     ...                                ...  \n",
       "13375     C    Stage 2 Hypertension                            unknown  \n",
       "13381     C    Stage 1 Hypertension                            unknown  \n",
       "13384     B    Stage 1 Hypertension                            unknown  \n",
       "13388     C    Stage 2 Hypertension                            unknown  \n",
       "13392     C    Stage 1 Hypertension                            unknown  \n",
       "\n",
       "[2729 rows x 14 columns]"
      ]
     },
     "execution_count": 87,
     "metadata": {},
     "output_type": "execute_result"
    }
   ],
   "source": [
    "df[df['old_method_blood_pressure_category'] == 'unknown']       # Display the row with the blood pressure category 'unknown'"
   ]
  },
  {
   "cell_type": "markdown",
   "metadata": {},
   "source": [
    "Question 3 Explanation: \n",
    "\n",
    "Assumptions: We use both diastolic and systolic blood pressure in both guidelines. Both of them are required for generating the correct threshold for the categories.\n",
    "\n",
    "Observations:We observe the number of people in each category, We also see that there is only one unknown category in the new method, and this is one of the possible anomaly rows we checked earlier. But based on the old categorizations, there are a large number of unknown categorizations. Which shows that the old method might be inefficient in categorizing the blood pressure.Most of these unknown categories are the entries with diastolic less than 90 and systolic greater then 140  for people younger than 65 and for people who have age greater than 65, the unknown's are the values which have diastolic less than 80 and systolic greater then 150\n",
    "\n",
    "We see that the new method provides a better categorization of the blood pressure, having different levels of hypertension help the doctor and the patient to know the severity of the situation. The new method might provide the doctor a better way to help the patient."
   ]
  },
  {
   "cell_type": "markdown",
   "metadata": {
    "colab_type": "text",
    "id": "2wH5ikUcbb16",
    "tags": []
   },
   "source": [
    "### Q6: 10 pt:\n",
    "Create a new variable \"age_class\" that is \"early\" if age < 40, \"middle\" if age is between 40 and 60 (inclusive) and \"late\" if age > 60.  Report the mean and median number of sit-ups counts for each of those categories.\n"
   ]
  },
  {
   "cell_type": "code",
   "execution_count": 113,
   "metadata": {},
   "outputs": [],
   "source": [
    "def age_class(df) -> str:\n",
    "    \"\"\"The function returns the age class based on the age.\n",
    "    Arguments are:\n",
    "        df: a DataFrame with column 'age'\n",
    "    If the age is less than 40, then the age class is 'early'.\n",
    "    If the age is between 40 and 60 (inclusive), then the age class is 'middle'.\n",
    "    If the age is greater than 60, then the age class is 'late'.\n",
    "    \"\"\"\n",
    "    if df['age'] < 40:\n",
    "        return 'early'\n",
    "    elif 40 <= df['age'] <= 60:\n",
    "        return 'middle'\n",
    "    elif df['age'] > 60:\n",
    "        return 'late'\n",
    "    else:\n",
    "        return 'unknown'\n",
    "df['age_class'] = df.apply(age_class, axis = 1)     # Create a new column 'age_class' based on the age_class function and apply it to the DataFrame"
   ]
  },
  {
   "cell_type": "code",
   "execution_count": 89,
   "metadata": {},
   "outputs": [
    {
     "data": {
      "text/plain": [
       "age_class\n",
       "early     8453\n",
       "middle    3976\n",
       "late       964\n",
       "Name: count, dtype: int64"
      ]
     },
     "execution_count": 89,
     "metadata": {},
     "output_type": "execute_result"
    }
   ],
   "source": [
    "df['age_class'].value_counts()"
   ]
  },
  {
   "cell_type": "code",
   "execution_count": 90,
   "metadata": {},
   "outputs": [
    {
     "name": "stdout",
     "output_type": "stream",
     "text": [
      "Mean Sit-ups Count by Age :\n"
     ]
    },
    {
     "data": {
      "text/plain": [
       "age_class\n",
       "early     45.305217\n",
       "late      24.060166\n",
       "middle    31.815141\n",
       "Name: sit-ups counts, dtype: float64"
      ]
     },
     "execution_count": 90,
     "metadata": {},
     "output_type": "execute_result"
    }
   ],
   "source": [
    "Mean_situps_by_age_class = df.groupby('age_class')['sit-ups counts'].mean()       # Group the DataFrame by 'age_class' and calculate the mean of 'situps' for each group\n",
    "print(\"Mean Sit-ups Count by Age :\")\n",
    "Mean_situps_by_age_class"
   ]
  },
  {
   "cell_type": "code",
   "execution_count": 91,
   "metadata": {},
   "outputs": [
    {
     "name": "stdout",
     "output_type": "stream",
     "text": [
      "Median Sit-ups Count by Age :\n"
     ]
    },
    {
     "data": {
      "text/plain": [
       "age_class\n",
       "early     47.0\n",
       "late      25.0\n",
       "middle    32.0\n",
       "Name: sit-ups counts, dtype: float64"
      ]
     },
     "execution_count": 91,
     "metadata": {},
     "output_type": "execute_result"
    }
   ],
   "source": [
    "\n",
    "Median_situps_by_age_class = df.groupby('age_class')['sit-ups counts'].median()      # Group the DataFrame by 'age_class' and calculate the median of 'situps' for each group\n",
    "print(\"Median Sit-ups Count by Age :\")\n",
    "Median_situps_by_age_class"
   ]
  },
  {
   "cell_type": "markdown",
   "metadata": {},
   "source": [
    "### Q7: 15 pt:\n",
    "Implement a function to calculate each person's Body Mass Index (BMI). Use that function to create a new Series called 'BMI' in your DataFrame.\n",
    "\n",
    "> With the metric system, the formula for BMI is weight in kilograms divided by height in meters squared. Since height is commonly measured in centimeters, an alternate calculation formula, dividing the weight in kilograms by the height in centimeters squared, and then multiplying the result by 10,000, can be used. (https://www.cdc.gov/nccdphp/dnpao/growthcharts/training/bmiage/page5_1.html)\n",
    "\n",
    "Using the pandas-matplotlib integration (i.e. do not use other visualization libraries), create two histograms of BMI: one for gender F and one for gender M.  Describe similarites and differences of the two histograms."
   ]
  },
  {
   "cell_type": "code",
   "execution_count": 92,
   "metadata": {},
   "outputs": [],
   "source": [
    "def BMI(df) -> float:\n",
    "    \"\"\"The function returns the BMI based on the weight_kg and height_cm.\n",
    "    Arguments are:\n",
    "        df (pd.DataFrame): a DataFrame with columns 'weight_kg' and 'height_cm'\n",
    "    Formula for BMI is weight_kg / (height_cm / 100)**2 where height_cm is converted to meters by dividing it by 100\n",
    "    \"\"\"\n",
    "    return df['weight_kg'] / (df['height_cm'] / 100)**2\n",
    "df['BMI'] = df.apply(BMI, axis = 1)     # Create a new column 'BMI' based on the BMI function and apply it to the DataFrame"
   ]
  },
  {
   "cell_type": "code",
   "execution_count": 93,
   "metadata": {},
   "outputs": [
    {
     "data": {
      "image/png": "[encoded data removed]",
      "text/plain": [
       "<Figure size 640x480 with 2 Axes>"
      ]
     },
     "metadata": {},
     "output_type": "display_data"
    }
   ],
   "source": [
    "df.plot.hist(column = 'BMI', by = 'gender', bins = 20);     # Plot a histogram based on BMI for different genders to see the difference in BMI distribution"
   ]
  },
  {
   "cell_type": "markdown",
   "metadata": {},
   "source": [
    "Question 7 Explanation: We can observe that both the plot have similar distribution, they show similar increasing and decreasing trend.\n",
    "\n",
    "We see a difference in the median value of both the plot, the BMI of men is higher compared to that of women. The median BMI of men is around 24 - 25 and the median BMI of women is around 21 - 22."
   ]
  },
  {
   "cell_type": "markdown",
   "metadata": {
    "colab_type": "text",
    "id": "7n5ybXFQcR-g"
   },
   "source": [
    "### Q8: 12 pt:\n",
    "Compare the mean values of height, weight, body fat %, grip force, sit and bend forward, and sit-ups count for gender F vs. gender M.  You should use both quantitative and visual methods in your work.  Where possible, you should use functions rather than just stand-alone code. You should also include a written summary of your findings.  Be sure to include units in your written summary.\n"
   ]
  },
  {
   "cell_type": "code",
   "execution_count": 114,
   "metadata": {},
   "outputs": [],
   "source": [
    "def compare_means(df, feature) -> pd.Series:\n",
    "    \"\"\" The function returns mean of the features in a DataFrame\n",
    "    Arguments are:\n",
    "        df: a DataFrame with columns 'gender' and the feature\n",
    "        feature (pd.Series): a Series of the feature\n",
    "    This function provides mean for different categories of the gender.\n",
    "    \"\"\"\n",
    "    return df.groupby('gender')[feature].mean()\n",
    "\n",
    "def compare_means_plot(df, feature) -> None:\n",
    "    \"\"\" The function plots the mean of the features in a DataFrame\n",
    "    Arguments are:\n",
    "        df (pd.DataFrame): a DataFrame with columns 'gender' and the feature\n",
    "        feature (pd.Series): a Series of the feature\n",
    "    THis function plots a Bar plot for a feature in the DataFrame df.\n",
    "    \"\"\"\n",
    "    compare_means(df, feature).plot(kind='bar', color=['blue', 'orange'], title= feature)"
   ]
  },
  {
   "cell_type": "code",
   "execution_count": 95,
   "metadata": {},
   "outputs": [
    {
     "data": {
      "text/html": [
       "<div>\n",
       "<style scoped>\n",
       "    .dataframe tbody tr th:only-of-type {\n",
       "        vertical-align: middle;\n",
       "    }\n",
       "\n",
       "    .dataframe tbody tr th {\n",
       "        vertical-align: top;\n",
       "    }\n",
       "\n",
       "    .dataframe thead th {\n",
       "        text-align: right;\n",
       "    }\n",
       "</style>\n",
       "<table border=\"1\" class=\"dataframe\">\n",
       "  <thead>\n",
       "    <tr style=\"text-align: right;\">\n",
       "      <th></th>\n",
       "      <th>height_cm</th>\n",
       "      <th>weight_kg</th>\n",
       "      <th>body fat_%</th>\n",
       "      <th>gripForce</th>\n",
       "      <th>sit and bend forward_cm</th>\n",
       "      <th>sit-ups counts</th>\n",
       "    </tr>\n",
       "    <tr>\n",
       "      <th>gender</th>\n",
       "      <th></th>\n",
       "      <th></th>\n",
       "      <th></th>\n",
       "      <th></th>\n",
       "      <th></th>\n",
       "      <th></th>\n",
       "    </tr>\n",
       "  </thead>\n",
       "  <tbody>\n",
       "    <tr>\n",
       "      <th>F</th>\n",
       "      <td>160.485404</td>\n",
       "      <td>56.905899</td>\n",
       "      <td>28.486085</td>\n",
       "      <td>25.817994</td>\n",
       "      <td>18.839791</td>\n",
       "      <td>30.888348</td>\n",
       "    </tr>\n",
       "    <tr>\n",
       "      <th>M</th>\n",
       "      <td>173.257399</td>\n",
       "      <td>73.580187</td>\n",
       "      <td>20.188151</td>\n",
       "      <td>43.448420</td>\n",
       "      <td>13.097073</td>\n",
       "      <td>44.939176</td>\n",
       "    </tr>\n",
       "  </tbody>\n",
       "</table>\n",
       "</div>"
      ],
      "text/plain": [
       "         height_cm  weight_kg  body fat_%  gripForce  sit and bend forward_cm  \\\n",
       "gender                                                                          \n",
       "F       160.485404  56.905899   28.486085  25.817994                18.839791   \n",
       "M       173.257399  73.580187   20.188151  43.448420                13.097073   \n",
       "\n",
       "        sit-ups counts  \n",
       "gender                  \n",
       "F            30.888348  \n",
       "M            44.939176  "
      ]
     },
     "execution_count": 95,
     "metadata": {},
     "output_type": "execute_result"
    }
   ],
   "source": [
    "\n",
    "compare_means(df, ['height_cm', 'weight_kg', 'body fat_%', 'gripForce', 'sit and bend forward_cm', 'sit-ups counts'])       # Create a dataframe with Index M and F with the mean of the features"
   ]
  },
  {
   "cell_type": "code",
   "execution_count": 96,
   "metadata": {},
   "outputs": [
    {
     "data": {
      "image/png": "[encoded data removed]",
      "text/plain": [
       "<Figure size 640x480 with 1 Axes>"
      ]
     },
     "metadata": {},
     "output_type": "display_data"
    }
   ],
   "source": [
    "compare_means_plot(df, 'height_cm')"
   ]
  },
  {
   "cell_type": "code",
   "execution_count": 97,
   "metadata": {},
   "outputs": [
    {
     "data": {
      "image/png": "[encoded data removed]",
      "text/plain": [
       "<Figure size 640x480 with 1 Axes>"
      ]
     },
     "metadata": {},
     "output_type": "display_data"
    }
   ],
   "source": [
    "compare_means_plot(df, 'weight_kg')"
   ]
  },
  {
   "cell_type": "code",
   "execution_count": 98,
   "metadata": {},
   "outputs": [
    {
     "data": {
      "image/png": "[encoded data removed]",
      "text/plain": [
       "<Figure size 640x480 with 1 Axes>"
      ]
     },
     "metadata": {},
     "output_type": "display_data"
    }
   ],
   "source": [
    "compare_means_plot(df, 'body fat_%')"
   ]
  },
  {
   "cell_type": "code",
   "execution_count": 99,
   "metadata": {},
   "outputs": [
    {
     "data": {
      "image/png": "[encoded data removed]",
      "text/plain": [
       "<Figure size 640x480 with 1 Axes>"
      ]
     },
     "metadata": {},
     "output_type": "display_data"
    }
   ],
   "source": [
    "compare_means_plot(df, 'gripForce')"
   ]
  },
  {
   "cell_type": "code",
   "execution_count": 100,
   "metadata": {},
   "outputs": [
    {
     "data": {
      "image/png": "[encoded data removed]",
      "text/plain": [
       "<Figure size 640x480 with 1 Axes>"
      ]
     },
     "metadata": {},
     "output_type": "display_data"
    }
   ],
   "source": [
    "compare_means_plot(df, 'sit and bend forward_cm')"
   ]
  },
  {
   "cell_type": "code",
   "execution_count": 101,
   "metadata": {},
   "outputs": [
    {
     "data": {
      "image/png": "[encoded data removed]",
      "text/plain": [
       "<Figure size 640x480 with 1 Axes>"
      ]
     },
     "metadata": {},
     "output_type": "display_data"
    }
   ],
   "source": [
    "compare_means_plot(df, 'sit-ups counts')"
   ]
  },
  {
   "cell_type": "markdown",
   "metadata": {},
   "source": [
    "Question 8 Explanation: I have created two functions. The 'compare_mean' function creates a dataframe with the mean value of the columns separated for men and women. The other function is used to plot a bar graph of a particular column in the mean value dataframe.\n",
    "\n",
    "Observations: It is observed that the mean values of height, weight, grip force, and sit-up are higher for males in comparison to females, and the mean values of body fat% and sit and bend forward are higher for females in comparison to males.\n",
    "This observation shows that men might be physically strong in comparison to the women and the women are more flexible and fit in comparison to the mens."
   ]
  },
  {
   "cell_type": "markdown",
   "metadata": {
    "colab_type": "text",
    "id": "wGoiQk8XbqHw"
   },
   "source": [
    "### Q9: 18 pt:\n",
    "Take a look at gripForce (a measure of strength), \"sit and bend forward\" (a measure of flexibility), and \"sit-ups count\" (a measures of strength and endurance of the abdominal and hip-flexor muscles).  For each of those measures, calculate their z-scores (i.e. subtract the mean of the variable from each observation, then divide by the standard deviation of that score).  Create an overall fitness score by adding the z-scores for each of those variables together, then use `pd.qcut()` (not `pd.cut()`) to assign them to four categories ranging from lowest score to highest score. As with previous questions, you should use one or more functions to implement your solution.  You should also include a written summary of your findings.  Be sure to include units in your written summary.\n",
    "\n",
    "a) Report the number of individuals in each of the resulting categories.\n",
    "\n",
    "b) Comment on the degree to which your categories correspond to the `class` column."
   ]
  },
  {
   "cell_type": "code",
   "execution_count": 102,
   "metadata": {},
   "outputs": [],
   "source": [
    "def z_score(df:pd.DataFrame, feature:pd.DataFrame) -> pd.DataFrame:\n",
    "    \"\"\"\n",
    "    The function returns the z-score of the feature in the DataFrame.\n",
    "    Arguments are:\n",
    "        df: a DataFrame with column feature\n",
    "        feature (pd.Series): a Series of the feature\n",
    "    Formula for z-score is (x - mean) / std\n",
    "    \"\"\"\n",
    "    return (df[feature] - df[feature].mean()) / df[feature].std()"
   ]
  },
  {
   "cell_type": "code",
   "execution_count": 103,
   "metadata": {},
   "outputs": [],
   "source": [
    "def z_score_sum(df:pd.DataFrame) -> pd.Series:\n",
    "    \"\"\"The function returns the sum of the z-scores of the features in the DataFrame.\n",
    "    Arguments are:\n",
    "        df: a DataFrame with columns 'gripForce', 'sit and bend forward_cm', 'sit-ups counts'\n",
    "    This function is a simple summation of the z-scores of the features.\n",
    "    \"\"\"\n",
    "    return df.sum(axis = 1)"
   ]
  },
  {
   "cell_type": "code",
   "execution_count": 104,
   "metadata": {},
   "outputs": [
    {
     "data": {
      "text/html": [
       "<div>\n",
       "<style scoped>\n",
       "    .dataframe tbody tr th:only-of-type {\n",
       "        vertical-align: middle;\n",
       "    }\n",
       "\n",
       "    .dataframe tbody tr th {\n",
       "        vertical-align: top;\n",
       "    }\n",
       "\n",
       "    .dataframe thead th {\n",
       "        text-align: right;\n",
       "    }\n",
       "</style>\n",
       "<table border=\"1\" class=\"dataframe\">\n",
       "  <thead>\n",
       "    <tr style=\"text-align: right;\">\n",
       "      <th></th>\n",
       "      <th>gripForce</th>\n",
       "      <th>sit and bend forward_cm</th>\n",
       "      <th>sit-ups counts</th>\n",
       "    </tr>\n",
       "  </thead>\n",
       "  <tbody>\n",
       "    <tr>\n",
       "      <th>0</th>\n",
       "      <td>1.688127</td>\n",
       "      <td>0.377303</td>\n",
       "      <td>1.416909</td>\n",
       "    </tr>\n",
       "    <tr>\n",
       "      <th>1</th>\n",
       "      <td>-0.053071</td>\n",
       "      <td>0.128979</td>\n",
       "      <td>0.926599</td>\n",
       "    </tr>\n",
       "    <tr>\n",
       "      <th>2</th>\n",
       "      <td>0.737527</td>\n",
       "      <td>-0.379495</td>\n",
       "      <td>0.646422</td>\n",
       "    </tr>\n",
       "    <tr>\n",
       "      <th>3</th>\n",
       "      <td>0.417523</td>\n",
       "      <td>-0.001096</td>\n",
       "      <td>0.926599</td>\n",
       "    </tr>\n",
       "    <tr>\n",
       "      <th>4</th>\n",
       "      <td>0.615172</td>\n",
       "      <td>1.406076</td>\n",
       "      <td>0.366245</td>\n",
       "    </tr>\n",
       "    <tr>\n",
       "      <th>...</th>\n",
       "      <td>...</td>\n",
       "      <td>...</td>\n",
       "      <td>...</td>\n",
       "    </tr>\n",
       "    <tr>\n",
       "      <th>13388</th>\n",
       "      <td>-0.109543</td>\n",
       "      <td>0.259053</td>\n",
       "      <td>0.506334</td>\n",
       "    </tr>\n",
       "    <tr>\n",
       "      <th>13389</th>\n",
       "      <td>-0.373076</td>\n",
       "      <td>-1.668418</td>\n",
       "      <td>0.576378</td>\n",
       "    </tr>\n",
       "    <tr>\n",
       "      <th>13390</th>\n",
       "      <td>2.497549</td>\n",
       "      <td>0.140804</td>\n",
       "      <td>0.366245</td>\n",
       "    </tr>\n",
       "    <tr>\n",
       "      <th>13391</th>\n",
       "      <td>-1.662504</td>\n",
       "      <td>-0.710595</td>\n",
       "      <td>-2.785744</td>\n",
       "    </tr>\n",
       "    <tr>\n",
       "      <th>13392</th>\n",
       "      <td>-0.100131</td>\n",
       "      <td>-0.958919</td>\n",
       "      <td>0.786511</td>\n",
       "    </tr>\n",
       "  </tbody>\n",
       "</table>\n",
       "<p>13393 rows × 3 columns</p>\n",
       "</div>"
      ],
      "text/plain": [
       "       gripForce  sit and bend forward_cm  sit-ups counts\n",
       "0       1.688127                 0.377303        1.416909\n",
       "1      -0.053071                 0.128979        0.926599\n",
       "2       0.737527                -0.379495        0.646422\n",
       "3       0.417523                -0.001096        0.926599\n",
       "4       0.615172                 1.406076        0.366245\n",
       "...          ...                      ...             ...\n",
       "13388  -0.109543                 0.259053        0.506334\n",
       "13389  -0.373076                -1.668418        0.576378\n",
       "13390   2.497549                 0.140804        0.366245\n",
       "13391  -1.662504                -0.710595       -2.785744\n",
       "13392  -0.100131                -0.958919        0.786511\n",
       "\n",
       "[13393 rows x 3 columns]"
      ]
     },
     "execution_count": 104,
     "metadata": {},
     "output_type": "execute_result"
    }
   ],
   "source": [
    "data = z_score(df, ['gripForce', 'sit and bend forward_cm', 'sit-ups counts'])      # Create a DataFrame with z-scores of the features\n",
    "data"
   ]
  },
  {
   "cell_type": "code",
   "execution_count": 105,
   "metadata": {},
   "outputs": [],
   "source": [
    "resulted_z_score = z_score_sum(data)        # Create a Series with the sum of the z-scores of the features"
   ]
  },
  {
   "cell_type": "code",
   "execution_count": 106,
   "metadata": {},
   "outputs": [],
   "source": [
    "df['z_score_category'] = pd.qcut(resulted_z_score, q = 4, labels = ['low', 'medium', 'high', 'very high'])      # Create a new column 'z_score_category' based on the resulted_z_score and apply it to the DataFrame"
   ]
  },
  {
   "cell_type": "code",
   "execution_count": 107,
   "metadata": {},
   "outputs": [
    {
     "data": {
      "text/plain": [
       "z_score_category\n",
       "low          3349\n",
       "medium       3348\n",
       "high         3348\n",
       "very high    3348\n",
       "Name: count, dtype: int64"
      ]
     },
     "execution_count": 107,
     "metadata": {},
     "output_type": "execute_result"
    }
   ],
   "source": [
    "df['z_score_category'].value_counts()       # Display the counts of each z-score category"
   ]
  },
  {
   "cell_type": "code",
   "execution_count": 108,
   "metadata": {},
   "outputs": [
    {
     "name": "stdout",
     "output_type": "stream",
     "text": [
      "Class Count :\n",
      "class\n",
      "C    3349\n",
      "D    3349\n",
      "A    3348\n",
      "B    3347\n",
      "Name: count, dtype: int64\n"
     ]
    }
   ],
   "source": [
    "class_count = df['class'].value_counts()        # Display the counts of each class\n",
    "print(\"Class Count :\")\n",
    "print(class_count)"
   ]
  },
  {
   "cell_type": "code",
   "execution_count": 109,
   "metadata": {},
   "outputs": [
    {
     "name": "stdout",
     "output_type": "stream",
     "text": [
      "Number of People from Each Fitness Category in Each Class\n",
      "class  z_score_category\n",
      "A      very high           1649\n",
      "       high                 974\n",
      "       medium               638\n",
      "       low                   87\n",
      "B      very high           1022\n",
      "       high                 984\n",
      "       medium               937\n",
      "       low                  404\n",
      "C      high                 981\n",
      "       medium               969\n",
      "       low                  887\n",
      "       very high            512\n",
      "D      low                 1971\n",
      "       medium               804\n",
      "       high                 409\n",
      "       very high            165\n",
      "Name: count, dtype: int64\n"
     ]
    }
   ],
   "source": [
    "print('Number of People from Each Fitness Category in Each Class')      # Display the counts of each z-score category for each class\n",
    "print(df.groupby('class')['z_score_category'].value_counts())"
   ]
  },
  {
   "cell_type": "code",
   "execution_count": 111,
   "metadata": {},
   "outputs": [
    {
     "data": {
      "text/html": [
       "<div>\n",
       "<style scoped>\n",
       "    .dataframe tbody tr th:only-of-type {\n",
       "        vertical-align: middle;\n",
       "    }\n",
       "\n",
       "    .dataframe tbody tr th {\n",
       "        vertical-align: top;\n",
       "    }\n",
       "\n",
       "    .dataframe thead th {\n",
       "        text-align: right;\n",
       "    }\n",
       "</style>\n",
       "<table border=\"1\" class=\"dataframe\">\n",
       "  <thead>\n",
       "    <tr style=\"text-align: right;\">\n",
       "      <th></th>\n",
       "      <th>gripForce</th>\n",
       "      <th>sit and bend forward_cm</th>\n",
       "      <th>sit-ups counts</th>\n",
       "    </tr>\n",
       "    <tr>\n",
       "      <th>class</th>\n",
       "      <th></th>\n",
       "      <th></th>\n",
       "      <th></th>\n",
       "    </tr>\n",
       "  </thead>\n",
       "  <tbody>\n",
       "    <tr>\n",
       "      <th>A</th>\n",
       "      <td>38.615723</td>\n",
       "      <td>21.391777</td>\n",
       "      <td>47.848268</td>\n",
       "    </tr>\n",
       "    <tr>\n",
       "      <th>B</th>\n",
       "      <td>37.910436</td>\n",
       "      <td>17.467586</td>\n",
       "      <td>42.639199</td>\n",
       "    </tr>\n",
       "    <tr>\n",
       "      <th>C</th>\n",
       "      <td>36.582663</td>\n",
       "      <td>14.390645</td>\n",
       "      <td>38.720215</td>\n",
       "    </tr>\n",
       "    <tr>\n",
       "      <th>D</th>\n",
       "      <td>34.747746</td>\n",
       "      <td>7.590260</td>\n",
       "      <td>29.881338</td>\n",
       "    </tr>\n",
       "  </tbody>\n",
       "</table>\n",
       "</div>"
      ],
      "text/plain": [
       "       gripForce  sit and bend forward_cm  sit-ups counts\n",
       "class                                                    \n",
       "A      38.615723                21.391777       47.848268\n",
       "B      37.910436                17.467586       42.639199\n",
       "C      36.582663                14.390645       38.720215\n",
       "D      34.747746                 7.590260       29.881338"
      ]
     },
     "execution_count": 111,
     "metadata": {},
     "output_type": "execute_result"
    }
   ],
   "source": [
    "class_mean = df.groupby('class')[['gripForce', 'sit and bend forward_cm', 'sit-ups counts']].mean()\n",
    "class_mean\n"
   ]
  },
  {
   "cell_type": "markdown",
   "metadata": {},
   "source": [
    "Question 9 Explanation: In this question, I have created two functions. The first function, 'z_score', calculates the z score for the dataframe, and the output is a dataframe with the z_scores. The second function is 'z_score_sum' which sums up all the z scores for the particular row and gives out a Pandas series as its output.\n",
    "\n",
    "The 'class' column most likely denotes some type of classification based on a unknown criteria.\n",
    "\n",
    "Observation: We can observe that the number of individuals in each class is approximately equal, and the z score is also divided equally into 4 categories. It is also observed that class A has the highest number of'very high' z scores, and class D has the highest number of 'low' z scores.\n",
    "\n",
    "It is observed that the sit and bend forward_cm and sit-up counts are comparatively low in comparison to the other classes, this might be the reason for a very high number of low score \n"
   ]
  },
  {
   "cell_type": "markdown",
   "metadata": {
    "colab_type": "text",
    "id": "zKkwrNfbJ9zN"
   },
   "source": [
    "### IMPORTANT: Ensure your complete notebook runs without errors from top to bottom (check by using \"Run All\").\n",
    "\n",
    "## Please submit your completed notebook in .IPYNB and .HTML formats via Canvas"
   ]
  },
  {
   "cell_type": "markdown",
   "metadata": {},
   "source": []
  }
 ],
 "metadata": {
  "colab": {
   "collapsed_sections": [],
   "name": "SI 618 FA 2018 Homework 1.ipynb",
   "provenance": [],
   "version": "0.3.2"
  },
  "kernelspec": {
   "display_name": "Python 3 (ipykernel)",
   "language": "python",
   "name": "python3"
  },
  "language_info": {
   "codemirror_mode": {
    "name": "ipython",
    "version": 3
   },
   "file_extension": ".py",
   "mimetype": "text/x-python",
   "name": "python",
   "nbconvert_exporter": "python",
   "pygments_lexer": "ipython3",
   "version": "3.12.1"
  }
 },
 "nbformat": 4,
 "nbformat_minor": 4
}
